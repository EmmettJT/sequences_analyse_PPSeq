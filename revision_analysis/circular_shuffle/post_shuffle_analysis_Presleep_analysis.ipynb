{
 "cells": [
  {
   "cell_type": "markdown",
   "metadata": {},
   "source": [
    "# import"
   ]
  },
  {
   "cell_type": "code",
   "execution_count": null,
   "metadata": {},
   "outputs": [],
   "source": [
    "import os\n",
    "import pandas as pd\n",
    "import numpy as np\n",
    "from tqdm import tqdm\n",
    "import matplotlib.pyplot as plt\n",
    "import json\n",
    "import statistics\n",
    "from ast import literal_eval\n",
    "#functions\n",
    "\n",
    "def load_in_paths(pp_file, PP_PATH, DAT_PATH):\n",
    "    mir = '_'.join(pp_file.split('_')[0:3])\n",
    "    print(str(run_index+1) + '/' + str(len(os.listdir(PP_PATH))-1) + '-------------------------------------------------------------------------')\n",
    "    print(pp_file)\n",
    "    mouse_session_recording = pp_file.split('_')[0] + '_' + pp_file.split('_')[1] + '_' + pp_file.split('_')[2] \n",
    "    skip = False\n",
    "    for item in ignore_list:\n",
    "        if item == mouse_session_recording:\n",
    "            skip = True\n",
    "\n",
    "    save_path = PP_PATH + pp_file + '\\\\_final_analysis_output\\\\'\n",
    "    if not os.path.isdir(save_path):\n",
    "        os.makedirs(save_path)\n",
    "\n",
    "    ## set dat_path:\n",
    "    for file_ in os.listdir(DAT_PATH):\n",
    "        if mouse_session_recording.split('_')[0] in file_:\n",
    "            if mouse_session_recording.split('_')[1] == file_[-1]:\n",
    "                dat_path = os.path.join(DAT_PATH,file_)\n",
    "    for recording in os.listdir(os.path.join(DAT_PATH,dat_path)):\n",
    "        if recording.split('_')[0][9::] == mouse_session_recording.split('_')[-1]:\n",
    "            dat_path = os.path.join(dat_path,recording)\n",
    "\n",
    "    # set tracking path\n",
    "    for file_ in os.listdir(dat_path + r\"\\video\\tracking\\\\\"):\n",
    "        if 'task' in file_:\n",
    "            if not 'clock' in file_:\n",
    "                tracking_path = os.path.join(dat_path + r\"\\video\\tracking\\\\\",file_) + '\\\\'\n",
    "   \n",
    "    return mir,mouse_session_recording,save_path,tracking_path,dat_path\n",
    "\n",
    "def load_PPSEQ_data(PP_PATH,pp_file,dat_path,mouse_session_recording):\n",
    "\n",
    "    # -------------------------------------------------------------------------------------------------------------------------------------------------------------------    \n",
    "    ## LOAD \n",
    "    print(\"LOADING PPSEQ DATA\")\n",
    "    print('\\n')\n",
    "    #The assignment history frame (assigment_hist_frame.csv): Spikes by iterations, how each spike is assigned to a sequence ID (in latent_event_hist) or to background (-1)\n",
    "    assignment_history_df = pd.read_csv(PP_PATH + pp_file + r\"\\assigment_hist_frame.csv\")\n",
    "\n",
    "    # latent_event_hist.csv: history of latent events. All latent events across all iterations have a row\n",
    "    latent_event_history_df = pd.read_csv(PP_PATH + pp_file + r\"\\latent_event_hist.csv\")\n",
    "\n",
    "    # seq_type_log_proportions: log p of each type of sequence at each iteration\n",
    "    seq_type_log_proportions_df = pd.read_csv(PP_PATH + pp_file + r\"\\seq_type_log_proportions.csv\")\n",
    "\n",
    "    # neuron_responses.csv: iterations x neurons by 3(number of sequences). Each neuron has three parameters per sequence to describe how it is influenced by each sequence type. \n",
    "    # Each iteration these are resampled, therefore there are number of neurons by iterations by 3 by number of sequences of these numbers.\n",
    "    neuron_response_df = pd.read_csv(PP_PATH + pp_file + r\"\\neuron_response.csv\")\n",
    "\n",
    "    masking = False\n",
    "    for dat_files in os.listdir(PP_PATH + pp_file):\n",
    "        if 'unmasked_spikes' in dat_files:\n",
    "            masking = True\n",
    "            print('masking was used')\n",
    "\n",
    "    if masking == True:\n",
    "        #log_p_hist.csv: the history of the log_p of the model\n",
    "        log_p_hist_df = pd.read_csv(PP_PATH + pp_file + r\"\\test_log_p_hist.csv\")\n",
    "\n",
    "        unmasked_spikes_df = pd.read_csv(PP_PATH + pp_file + r\"\\unmasked_spikes.csv\")\n",
    "    else:\n",
    "        log_p_hist_df = pd.read_csv(PP_PATH + pp_file + r\"\\log_p_hist.csv\")\n",
    "\n",
    "        spikes_file = os.path.join(PP_PATH + pp_file,'trainingData\\\\') + mouse_session_recording + '.txt'\n",
    "        neuron_ids, spike_times= [], []\n",
    "        with open(spikes_file) as f:\n",
    "            for (i, line) in enumerate(f.readlines()):\n",
    "                neuron_id, spike_time = line.split('\\t')\n",
    "                spike_time = float(spike_time.strip())\n",
    "                neuron_id = float(neuron_id)\n",
    "                spike_times.append(spike_time)\n",
    "                neuron_ids.append(neuron_id)\n",
    "        unmasked_spikes_df = pd.DataFrame({'neuron':neuron_ids,'timestamp':spike_times}) \n",
    "        bkgd_log_proportions_array = pd.read_csv(PP_PATH + pp_file + r\"\\bkgd_log_proportions_array.csv\")\n",
    "\n",
    "    # Opening JSON file\n",
    "    f = open(PP_PATH + pp_file + r'\\config_file.json')\n",
    "    # returns JSON object as a dictionary\n",
    "    config = eval(json.load(f))\n",
    "    print(f'      done')\n",
    "\n",
    "    ## LOAD behaviour data\n",
    "    print('\\n')\n",
    "    print(\"LOADING BEHAV DATA\")\n",
    "\n",
    "    ## load in the timespan used for pppseq:\n",
    "    input_params_path = os.path.join(PP_PATH + pp_file,'trainingData\\\\') + ('params_' + mouse_session_recording +'.json')\n",
    "    # Opening JSON file\n",
    "    f = open(input_params_path)\n",
    "    # returns JSON object as \n",
    "    # a dictionary\n",
    "    input_config = json.load(f)\n",
    "    behav_time_interval_start = input_config['time_span']\n",
    "    print(f\"      A corresponding time span has been found. Time span set to {behav_time_interval_start}\")\n",
    "\n",
    "    ### load in data:\n",
    "    for sub_file in os.listdir(dat_path + '\\\\behav_sync\\\\'):\n",
    "        if 'task' in sub_file:\n",
    "            behav_sync_path = dat_path + '\\\\behav_sync\\\\' + sub_file +'\\\\'\n",
    "    behav_sync = pd.read_csv(behav_sync_path + 'Behav_Ephys_Camera_Sync.csv')\n",
    "    transitions = pd.read_csv(behav_sync_path + 'Transition_data_sync.csv')\n",
    "\n",
    "    return assignment_history_df,latent_event_history_df,seq_type_log_proportions_df,neuron_response_df,log_p_hist_df,unmasked_spikes_df,bkgd_log_proportions_array,behav_sync,transitions,behav_time_interval_start\n",
    "\n",
    "def plot_save_log_l_curve(log_p_hist_df,save_path):\n",
    "    # find 95% of growth value and when it crossed this\n",
    "    max_ = max(log_p_hist_df.x1)\n",
    "    min_ = min(log_p_hist_df.x1)\n",
    "    growth = max_ - min_\n",
    "    _prcntile =  max_ - (0.02 * growth)\n",
    "\n",
    "    ## model log likley hood curve\n",
    "    plt.plot(log_p_hist_df.x1)\n",
    "    plt.axhline(y=_prcntile, color='r', linestyle='--')\n",
    "\n",
    "    SaveFig('log_l_curve.png',save_path)\n",
    "\n",
    "# Function to find corresponding number in another column\n",
    "def find_corresponding(nums):\n",
    "    return [df_dict[num] for num in nums]\n",
    "\n",
    "def SaveFig(file_name,figure_dir):\n",
    "    if not os.path.isdir(figure_dir):\n",
    "        os.makedirs(figure_dir)\n",
    "    plt.savefig(figure_dir + file_name, bbox_inches='tight')\n",
    "#     plt.show()\n",
    "    plt.close()\n",
    "\n",
    "def plot_data_raster(behav_time_interval_start, spikes_df, neuron_index, colors, save_path):\n",
    "    # calculate interval timings and end points\n",
    "    interval_lengths = []\n",
    "    for interval in behav_time_interval_start:\n",
    "        interval_lengths += [np.diff(interval)[0]]\n",
    "    total_time = sum(interval_lengths)\n",
    "    interval_end_points = np.cumsum(interval_lengths)\n",
    "\n",
    "    # Plot sequences - basic\n",
    "    timeframe = [0, total_time]\n",
    "    mask = (spikes_df.timestamp > timeframe[0]) * (spikes_df.timestamp < timeframe[-1])\n",
    "\n",
    "    # Define neuron order\n",
    "    neuron_permute_loc = np.zeros(len(neuron_index))\n",
    "    for i in range(len(neuron_index)):\n",
    "        neuron_permute_loc[i] = int(list(neuron_index).index(i))\n",
    "    neuron_order = neuron_permute_loc[(spikes_df.neuron - 1).astype(int)]\n",
    "\n",
    "    # Plotting\n",
    "    fig, [ax, ax2] = plt.subplots(2, 1, figsize=(20, 20))\n",
    "\n",
    "    # Plot background in grey\n",
    "    background_keep_mask = (spikes_df[mask].sequence_type_adjusted < 0) | (spikes_df[mask].sequence_type_adjusted >= 7.0)\n",
    "    ax.scatter(spikes_df[mask][background_keep_mask].timestamp, neuron_order[mask][background_keep_mask],\n",
    "               marker='o', s=40, linewidth=0, color='lightgrey', alpha=0.3)\n",
    "    c_ = np.array(colors)[spikes_df[mask][background_keep_mask].sequence_type_adjusted.values.astype(int)]\n",
    "    ax2.scatter(spikes_df[mask][background_keep_mask].timestamp, neuron_order[mask][background_keep_mask],\n",
    "                marker='o', s=40, linewidth=0, color=c_, alpha=0.3)\n",
    "    ax2.set_title('extra sequences and background only')\n",
    "\n",
    "    # Plot spikes without background\n",
    "    background_remove_mask = (spikes_df[mask].sequence_type_adjusted >= 0) * \\\n",
    "                             (spikes_df[mask].sequence_type_adjusted != 7.0) * \\\n",
    "                             (spikes_df[mask].sequence_type_adjusted != 8.0)\n",
    "    c_ = np.array(colors)[spikes_df[mask][background_remove_mask].sequence_type_adjusted.values.astype(int)]\n",
    "    ax.scatter(spikes_df[mask][background_remove_mask].timestamp, neuron_order[mask][background_remove_mask],\n",
    "               marker='o', s=40, linewidth=0, color=c_, alpha=1)\n",
    "    ax.set_title('held sequences in color and extra sequences + background in grey')\n",
    "\n",
    "    for end_p in interval_end_points:\n",
    "        ax.axvline(x=end_p, color='k')\n",
    "\n",
    "    # Save the figure\n",
    "    plt.savefig(save_path)\n",
    "    plt.show()\n",
    "    return interval_end_points,neuron_order\n",
    "\n",
    "\n",
    "def convolve_movmean(y,N):\n",
    "    y_padded = np.pad(y, (N//2, N-1-N//2), mode='edge')\n",
    "    y_smooth = np.convolve(y_padded, np.ones((N,))/N, mode='valid') \n",
    "    return y_smooth\n",
    "\n",
    "def split_list(numbers):\n",
    "    chunks = []\n",
    "    indices = []\n",
    "    current_chunk = []\n",
    "    current_indices = []\n",
    "    for i, num in enumerate(numbers):\n",
    "        if num == 0:\n",
    "            if current_chunk:\n",
    "                chunks.append(current_chunk)\n",
    "                indices.append(current_indices)\n",
    "                current_chunk = []\n",
    "                current_indices = []\n",
    "        else:\n",
    "            current_chunk.append(num)\n",
    "            current_indices.append(i)\n",
    "    if current_chunk:\n",
    "        chunks.append(current_chunk)\n",
    "        indices.append(current_indices)\n",
    "    return chunks, indices\n",
    "\n",
    "# Function to create directory if it doesn't exist\n",
    "def create_directory(path):\n",
    "    if not os.path.isdir(path):\n",
    "        os.mkdir(path)\n",
    "\n",
    "# Function to save figure\n",
    "def save_figure(fig, filename, path):\n",
    "    fig.savefig(os.path.join(path, filename))\n",
    "\n",
    "# Function to filter and save replay clusters\n",
    "def filter_and_save_replay_clusters(chunk_df, chunk_path, r_seq_type, r_start_, r_end_, colors, min_spikes_filter, min_neurons_involved_filter):\n",
    "    filtered_data = {\n",
    "        'cluster_seq_type': [],\n",
    "        'num_spikes': [],\n",
    "        'num_neurons': [],\n",
    "        'first_spike_time': [],\n",
    "        'event_length': [],\n",
    "        'last_spike_time': [],\n",
    "        'cluster_spike_times': [],\n",
    "        'cluster_neurons': [],\n",
    "        'spike_plotting_order': []\n",
    "    }\n",
    "\n",
    "    for i in range(len(r_seq_type)):\n",
    "        r_event_df = chunk_df[(chunk_df.timestamp >= r_start_[i]) & (chunk_df.timestamp <= r_end_[i])].copy()\n",
    "        neuron_orders = neuron_order[chunk_mask][(chunk_df.timestamp >= r_start_[i]) & (chunk_df.timestamp <= r_end_[i])]\n",
    "        neuron_orders = neuron_orders[r_event_df.sequence_type_adjusted == r_seq_type[i]]\n",
    "        r_event_df = r_event_df[r_event_df.sequence_type_adjusted == r_seq_type[i]]\n",
    "\n",
    "        if len(r_event_df) > 0:\n",
    "            num_spikes = len(r_event_df.sequence_type_adjusted)\n",
    "            num_neurons = len(r_event_df.neuron.unique())\n",
    "            first_spike = min(r_event_df.timestamp)\n",
    "            last_spike = max(r_event_df.timestamp)\n",
    "\n",
    "            if num_spikes >= min_spikes_filter and num_neurons >= min_neurons_involved_filter:\n",
    "                ax1.axvspan(first_spike, last_spike, color=colors[r_seq_type[i]], alpha=0.5)\n",
    "                filtered_data['cluster_seq_type'].append(r_seq_type[i])\n",
    "                filtered_data['num_spikes'].append(num_spikes)\n",
    "                filtered_data['num_neurons'].append(num_neurons)\n",
    "                filtered_data['first_spike_time'].append(first_spike)\n",
    "                filtered_data['event_length'].append(last_spike - first_spike)\n",
    "                filtered_data['last_spike_time'].append(last_spike)\n",
    "                filtered_data['cluster_spike_times'].append(list(r_event_df.timestamp.values))\n",
    "                filtered_data['cluster_neurons'].append(list(r_event_df.neuron.values))\n",
    "                filtered_data['spike_plotting_order'].append(neuron_orders)\n",
    "\n",
    "    filtered_r_clusters_df = pd.DataFrame(filtered_data)\n",
    "    filtered_r_clusters_df.to_csv(os.path.join(chunk_path, 'filtered_replay_clusters_df.csv'), index=False)\n",
    "    \n",
    "    print('###################################')\n",
    "    print('replay rate is')\n",
    "    print(len(filtered_r_clusters_df) / 10)\n",
    "    print('###################################')\n",
    "    \n",
    "    \n",
    "def SaveFig(file_name,figure_dir):\n",
    "    if not os.path.isdir(figure_dir):\n",
    "        os.makedirs(figure_dir)\n",
    "    plt.savefig(figure_dir + file_name,bbox_inches=0,transparent = True)\n",
    "\n"
   ]
  },
  {
   "cell_type": "markdown",
   "metadata": {},
   "source": [
    "# notes"
   ]
  },
  {
   "cell_type": "markdown",
   "metadata": {},
   "source": [
    "1. i need to compare this to how many are found when running awake on awake without the shuffle...\n",
    "2. I think I need to do the linear replay check with the regression...\n",
    "3. i might need to make new data where i have sequences implanted into background - but the background is not shuffled noise but times when there are no sequneces occuring...ie. sythetic data but without the shuffled background noise. \n",
    "\n"
   ]
  },
  {
   "cell_type": "markdown",
   "metadata": {},
   "source": [
    "# load data and filter for events"
   ]
  },
  {
   "cell_type": "code",
   "execution_count": 2,
   "metadata": {},
   "outputs": [
    {
     "ename": "FileNotFoundError",
     "evalue": "[WinError 53] The network path was not found: 'Z:\\\\projects\\\\sequence_squad\\\\revision_data\\\\emmett_revisions\\\\Reveiw_Pre_sleep\\\\\\\\'",
     "output_type": "error",
     "traceback": [
      "\u001b[1;31m---------------------------------------------------------------------------\u001b[0m",
      "\u001b[1;31mFileNotFoundError\u001b[0m                         Traceback (most recent call last)",
      "Cell \u001b[1;32mIn[2], line 18\u001b[0m\n\u001b[0;32m      7\u001b[0m DAT_PATH \u001b[38;5;241m=\u001b[39m \u001b[38;5;124mr\u001b[39m\u001b[38;5;124m\"\u001b[39m\u001b[38;5;124mZ:\u001b[39m\u001b[38;5;124m\\\u001b[39m\u001b[38;5;124mprojects\u001b[39m\u001b[38;5;124m\\\u001b[39m\u001b[38;5;124msequence_squad\u001b[39m\u001b[38;5;124m\\\u001b[39m\u001b[38;5;124morganised_data\u001b[39m\u001b[38;5;124m\\\u001b[39m\u001b[38;5;124manimals\u001b[39m\u001b[38;5;130;01m\\\\\u001b[39;00m\u001b[38;5;124m\"\u001b[39m\n\u001b[0;32m     10\u001b[0m \u001b[38;5;66;03m# PP_PATH = r\"D:\\\\\"\u001b[39;00m\n\u001b[0;32m     11\u001b[0m \n\u001b[0;32m     12\u001b[0m \u001b[38;5;66;03m######################################################################################################################################################################################################################\u001b[39;00m\n\u001b[1;32m   (...)\u001b[0m\n\u001b[0;32m     15\u001b[0m \u001b[38;5;66;03m# backgroudn confidence - spike had to be classified as a seq type 75% of the time across the last 50 iterations to be kept.   \u001b[39;00m\n\u001b[0;32m     16\u001b[0m \u001b[38;5;66;03m######################################################################################################################################################################################################################\u001b[39;00m\n\u001b[1;32m---> 18\u001b[0m \u001b[38;5;28;01mfor\u001b[39;00m run_index,pp_file \u001b[38;5;129;01min\u001b[39;00m \u001b[38;5;28menumerate\u001b[39m(\u001b[43mos\u001b[49m\u001b[38;5;241;43m.\u001b[39;49m\u001b[43mlistdir\u001b[49m\u001b[43m(\u001b[49m\u001b[43mPP_PATH\u001b[49m\u001b[43m)\u001b[49m[\u001b[38;5;241m-\u001b[39m\u001b[38;5;241m2\u001b[39m::]):\n\u001b[0;32m     19\u001b[0m     \n\u001b[0;32m     20\u001b[0m \u001b[38;5;66;03m#     pp_file= '262_1_4_run_2106023_2357'\u001b[39;00m\n\u001b[0;32m     22\u001b[0m     \u001b[38;5;28;01mif\u001b[39;00m run_index \u001b[38;5;241m>\u001b[39m\u001b[38;5;241m-\u001b[39m\u001b[38;5;241m1\u001b[39m \u001b[38;5;129;01mand\u001b[39;00m \u001b[38;5;124m'\u001b[39m\u001b[38;5;124mrun\u001b[39m\u001b[38;5;124m'\u001b[39m \u001b[38;5;129;01min\u001b[39;00m pp_file:\n\u001b[0;32m     23\u001b[0m         \u001b[38;5;66;03m# load in paths for that specific mouse and recording\u001b[39;00m\n\u001b[0;32m     24\u001b[0m         mir,mouse_session_recording,save_path,tracking_path,dat_path \u001b[38;5;241m=\u001b[39m load_in_paths(pp_file, PP_PATH, DAT_PATH)\n",
      "\u001b[1;31mFileNotFoundError\u001b[0m: [WinError 53] The network path was not found: 'Z:\\\\projects\\\\sequence_squad\\\\revision_data\\\\emmett_revisions\\\\Reveiw_Pre_sleep\\\\\\\\'"
     ]
    }
   ],
   "source": [
    "ignore_list= []\n",
    "\n",
    "# PP_PATH =  r\"Z:\\projects\\sequence_squad\\revision_data\\emmett_revisions\\circular_shuffle\\ppseq_output\\\\\"\n",
    "# PP_PATH =  r\"Z:\\projects\\sequence_squad\\revision_data\\emmett_revisions\\circular_shuffle\\ppseq_output_not_shuffled\\\\\"#\n",
    "PP_PATH =  r\"Z:\\projects\\sequence_squad\\revision_data\\emmett_revisions\\Reveiw_Pre_sleep\\\\\"\n",
    "\n",
    "DAT_PATH = r\"Z:\\projects\\sequence_squad\\organised_data\\animals\\\\\"\n",
    "\n",
    "\n",
    "# PP_PATH = r\"D:\\\\\"\n",
    "\n",
    "######################################################################################################################################################################################################################\n",
    "# load in data, extract, filter PPseq spikes etc.\n",
    "# main filtering here:\n",
    "# backgroudn confidence - spike had to be classified as a seq type 75% of the time across the last 50 iterations to be kept.   \n",
    "######################################################################################################################################################################################################################\n",
    "\n",
    "for run_index,pp_file in enumerate(os.listdir(PP_PATH)[-2::]):\n",
    "    \n",
    "#     pp_file= '262_1_4_run_2106023_2357'\n",
    "    \n",
    "    if run_index >-1 and 'run' in pp_file:\n",
    "        # load in paths for that specific mouse and recording\n",
    "        mir,mouse_session_recording,save_path,tracking_path,dat_path = load_in_paths(pp_file, PP_PATH, DAT_PATH)\n",
    "        \n",
    "        ## load in PPseq output data\n",
    "        assignment_history_df,latent_event_history_df,seq_type_log_proportions_df,neuron_response_df,log_p_hist_df,unmasked_spikes_df,bkgd_log_proportions_array,behav_sync,transitions,behav_time_interval_start = load_PPSEQ_data(PP_PATH,pp_file,dat_path,mouse_session_recording)\n",
    "        # plot out log l curve \n",
    "        plot_save_log_l_curve(log_p_hist_df,save_path)\n",
    "        \n",
    "    # ---filter_across_itterations---------------------------------------------------------------------------------------------------------------------------------------------------------------    \n",
    "        # Initialize an empty df to store the result\n",
    "        seq_types_df = pd.DataFrame()\n",
    "        # Iterate through the range\n",
    "        # for iteration_ in tqdm(range(400, 500)):\n",
    "        for iteration_ in tqdm(range(250, 300)):\n",
    "            # Extract the relevant column from the assignment history dataframe\n",
    "            assignment_history_df_split = assignment_history_df[str(list(assignment_history_df)[iteration_])]\n",
    "            # Get the index of the -1 split markers in the latent event history dataframe\n",
    "            end_markers = latent_event_history_df.loc[latent_event_history_df['seq_type'] == -1.0].index\n",
    "            # Extract the relevant portion of the latent event history dataframe\n",
    "            latent_event_history_df_split =  latent_event_history_df[end_markers[iteration_-1]:end_markers[iteration_]]\n",
    "            # Create a dictionary from the dataframe for faster lookups\n",
    "            df_dict = latent_event_history_df_split.set_index('assignment_id')['seq_type'].to_dict()\n",
    "            # Match the sequence ID to the sequence type\n",
    "            seq_type = find_corresponding(assignment_history_df_split)\n",
    "            # Append the result to the df\n",
    "            seq_types_df[str(iteration_+1)] = seq_type\n",
    "        proportion = []\n",
    "        seq_type = []\n",
    "        for index in tqdm(range(len(seq_types_df))):\n",
    "            row = seq_types_df.loc[index]\n",
    "            seq_type += [statistics.mode(row)] \n",
    "            proportion += [np.count_nonzero(row == statistics.mode(row)) / len(row)]\n",
    "        # add seq type to dataframe\n",
    "        unmasked_spikes_df['sequence_type'] = seq_type\n",
    "        # add seq type to dataframe\n",
    "        unmasked_spikes_df['seq_confidence'] = proportion\n",
    "        \n",
    "        # ## filter for background confidence :-------------------------------------------------------------------------------------------------------------------------------------------------------------------    \n",
    "        thresh = max(proportion) *.75 ### \n",
    "        plt.plot(np.sort(proportion)[::-1])\n",
    "        plt.axhline(y = thresh, color = 'r', linestyle = '-')\n",
    "        unmasked_spikes_df['sequence_type_adjusted'] = seq_type\n",
    "        unmasked_spikes_df.sequence_type_adjusted[np.where(unmasked_spikes_df.seq_confidence < thresh)[0]] = -1\n",
    "        SaveFig('filtering_curve.png',save_path)\n",
    "        \n",
    "        ## load in colors and order from awake data -------------------------------------------------------------------------------------------------------------------------------------------------------------------    \n",
    "        awake_PP_path = r\"Z:\\projects\\sequence_squad\\organised_data\\ppseq_data\\finalised_output\\striatum\\awake\\\\\"\n",
    "        for file_ in os.listdir(awake_PP_path):\n",
    "            if mouse_session_recording in file_:\n",
    "                awake_file = file_\n",
    "        ordered_preferred_type = pd.read_pickle(awake_PP_path + awake_file + r\"\\analysis_output\\reordered_recolored\\\\\" + 'ordered_preferred_type')\n",
    "        neuron_index = pd.read_pickle(awake_PP_path + awake_file + r\"\\analysis_output\\reordered_recolored\\\\\" + 'neuron_index')\n",
    "        colors = pd.read_pickle(awake_PP_path + awake_file + r\"\\analysis_output\\reordered_recolored\\\\\" + 'colors')\n",
    "        spikes_df = unmasked_spikes_df\n",
    "        colors += ['pink','lightblue', 'k'] \n",
    "        \n",
    "        ############### plot simple rasters ------------------------------\n",
    "        interval_end_points,neuron_order = plot_data_raster(behav_time_interval_start, spikes_df, neuron_index, colors, 'all_data_raster.png')\n",
    "        \n",
    "        \n",
    "        # Constants\n",
    "        min_spikes_filter = 5\n",
    "        min_neurons_involved_filter = 3\n",
    "        bin_size = 0.02\n",
    "\n",
    "        # Main processing loop\n",
    "        chunk_paths = []\n",
    "        for index_, interval_start in enumerate([0] + list(interval_end_points)[:-1]):\n",
    "            chunk_path = os.path.join(save_path, f'chunk{index_+1}_{behav_time_interval_start[index_][0]}to{behav_time_interval_start[index_][1]}\\\\')\n",
    "            chunk_paths.append(chunk_path)\n",
    "            create_directory(chunk_path)\n",
    "\n",
    "            np.save(os.path.join(chunk_path, 'chunk_time_interval.npy'), np.array(behav_time_interval_start[index_]))\n",
    "\n",
    "            timeframe = [interval_start, interval_end_points[index_] - 1]\n",
    "            total_time = np.diff(timeframe)[0] + 1\n",
    "            mask = (spikes_df.timestamp > timeframe[0]) & (spikes_df.timestamp < timeframe[-1])\n",
    "\n",
    "            fig, [ax1, ax2] = plt.subplots(2, 1, figsize=(35, 15))\n",
    "\n",
    "            background_remove_mask = (spikes_df[mask].sequence_type_adjusted > -1) & (spikes_df[mask].sequence_type_adjusted < 7)\n",
    "            c_ = np.array(colors)[spikes_df[mask][background_remove_mask].sequence_type_adjusted.values.astype(int)]\n",
    "            ax1.scatter(spikes_df[mask][background_remove_mask].timestamp, neuron_order[mask][background_remove_mask], marker='o', s=40, linewidth=0, color=c_, alpha=1)\n",
    "\n",
    "            chunk_mask = (spikes_df.timestamp > interval_start) & (spikes_df.timestamp < interval_end_points[index_])\n",
    "            chunk_df = spikes_df[chunk_mask].copy().reset_index(drop=True)\n",
    "            chunk_df.to_csv(os.path.join(chunk_path, 'unfiltered_spikes_data.csv'), index=False)\n",
    "\n",
    "            seqs = np.unique(chunk_df.sequence_type_adjusted)\n",
    "            seq_spikes = [chunk_df.timestamp[chunk_df.sequence_type_adjusted == seq_type_].values for seq_type_ in seqs]\n",
    "            seq_neurons = [chunk_df.neuron[chunk_df.sequence_type_adjusted == seq_type_].values for seq_type_ in seqs]\n",
    "\n",
    "            binned_seq_r_events = [np.histogram(spikes_, bins=np.arange(interval_start, interval_end_points[index_], bin_size))[0] for spikes_ in seq_spikes]\n",
    "\n",
    "            strt_ = int(timeframe[0] / bin_size)\n",
    "            end_ = int(timeframe[1] / bin_size)\n",
    "\n",
    "            r_start_, r_end_, r_seq_type = [], [], []\n",
    "            for _index_, sequence_type in enumerate(seqs):\n",
    "                sequence_type = int(sequence_type)\n",
    "                if 0 < sequence_type <= 6:\n",
    "                    smoothed_binned_spikes = convolve_movmean(binned_seq_r_events[_index_], 2)\n",
    "                    time_bins = np.arange(timeframe[0], timeframe[0] + np.diff(timeframe) + 1, bin_size)\n",
    "                    ax2.plot(time_bins[:-1], smoothed_binned_spikes, c=colors[sequence_type])\n",
    "                    ax2.sharex(ax1)\n",
    "\n",
    "                    replay_chunks, indices = split_list(list(smoothed_binned_spikes))\n",
    "                    for index, chunk in enumerate(replay_chunks):\n",
    "                        r_seq_type.append(sequence_type)\n",
    "                        r_start_.append(time_bins[indices[index][0]])\n",
    "                        r_end_.append(time_bins[indices[index][-1]])\n",
    "\n",
    "            filter_and_save_replay_clusters(chunk_df, chunk_path, r_seq_type, r_start_, r_end_, colors, min_spikes_filter, min_neurons_involved_filter)\n",
    "\n",
    "            ax1.set_xlim(timeframe[0] + 140, timeframe[0] + 150)\n",
    "            ax2.set_xlim(timeframe[0] + 140, timeframe[0] + 150)\n",
    "\n",
    "            save_figure(fig, f'zoomed_data_filtering_chunk_{index_+1}.png', chunk_path)\n",
    "            plt.close(fig)\n",
    "\n"
   ]
  },
  {
   "cell_type": "markdown",
   "metadata": {},
   "source": [
    "# plots"
   ]
  },
  {
   "cell_type": "code",
   "execution_count": 40,
   "metadata": {},
   "outputs": [
    {
     "name": "stderr",
     "output_type": "stream",
     "text": [
      "100%|██████████| 8/8 [00:47<00:00,  5.97s/it]\n",
      "100%|██████████| 13/13 [01:49<00:00,  8.44s/it]\n"
     ]
    }
   ],
   "source": [
    "# load in the shuffled data - extract number of sequenes found\n",
    "PP_PATH =  r\"Z:\\projects\\sequence_squad\\revision_data\\emmett_revisions\\circular_shuffle\\ppseq_output\\\\\"\n",
    "shuffle_events_per_min = []\n",
    "for iteration_ in tqdm(range(len(os.listdir(PP_PATH)))):\n",
    "    file = os.listdir(PP_PATH)[iteration_]\n",
    "    data_path = os.path.join(PP_PATH,file)+ r'//_final_analysis_output//'\n",
    "    clust_events_per_min = 0\n",
    "    all_chunks_len = 0\n",
    "    for file in os.listdir(data_path):\n",
    "        if 'chunk' in file:\n",
    "            current_data_path = os.path.join(data_path,file)+ r'//'\n",
    "            replay_clusts = pd.read_csv(current_data_path + 'filtered_replay_clusters_df.csv')\n",
    "            if 'ordering_classification' in list(replay_clusts):\n",
    "                interval_length = int(file.split('_')[-1].split('to')[-1]) - int(file.split('_')[-1].split('to')[0])\n",
    "                # only sequential events\n",
    "                clust_events_per_min += len(replay_clusts[replay_clusts.ordering_classification == 'sequential'])\n",
    "                all_chunks_len += interval_length/60\n",
    "    if all_chunks_len > 0:\n",
    "        shuffle_events_per_min += [clust_events_per_min/all_chunks_len]\n",
    "\n",
    "\n",
    "# load in the non shuffle - extract number of sequuences found \n",
    "PP_PATH =  r\"Z:\\projects\\sequence_squad\\revision_data\\emmett_revisions\\circular_shuffle\\ppseq_output_not_shuffled\\\\\"\n",
    "non_shuff_events_per_min = []\n",
    "for iteration_ in tqdm(range(len(os.listdir(PP_PATH)))):\n",
    "    file = os.listdir(PP_PATH)[iteration_]\n",
    "    data_path = os.path.join(PP_PATH,file)+ r'//_final_analysis_output//'\n",
    "    clust_events_per_min = 0\n",
    "    all_chunks_len = 0\n",
    "    for file in os.listdir(data_path):\n",
    "        if 'chunk' in file:\n",
    "            current_data_path = os.path.join(data_path,file)+ r'//'\n",
    "            replay_clusts = pd.read_csv(current_data_path + 'filtered_replay_clusters_df.csv')\n",
    "            if 'ordering_classification' in list(replay_clusts):\n",
    "                interval_length = int(file.split('_')[-1].split('to')[-1]) - int(file.split('_')[-1].split('to')[0])\n",
    "                # only sequential events\n",
    "                clust_events_per_min += len(replay_clusts[replay_clusts.ordering_classification == 'sequential'])\n",
    "                all_chunks_len += interval_length/60\n",
    "    if all_chunks_len > 0:\n",
    "        non_shuff_events_per_min += [clust_events_per_min/all_chunks_len]"
   ]
  },
  {
   "cell_type": "code",
   "execution_count": 64,
   "metadata": {},
   "outputs": [
    {
     "data": {
      "image/png": "[encoded data removed]",
      "text/plain": [
       "<Figure size 300x500 with 1 Axes>"
      ]
     },
     "metadata": {},
     "output_type": "display_data"
    }
   ],
   "source": [
    "shuffle_events_per_min\n",
    "\n",
    "non_shuff_events_per_min\n",
    "\n",
    "import seaborn as sns\n",
    "\n",
    "fig, ax = plt.subplots(1, 1, figsize=(3, 5))\n",
    "\n",
    "ax.plot([0.2]*len(shuffle_events_per_min),shuffle_events_per_min,'o', color = 'blue')\n",
    "ax.plot([0.8]*len(non_shuff_events_per_min),non_shuff_events_per_min,'o', color = 'red')\n",
    "\n",
    "plt_df = pd.DataFrame({'group': (['circular shuffle'] * len(shuffle_events_per_min)) + (['no shuffle'] * len(non_shuff_events_per_min)) , 'replay rate': list(shuffle_events_per_min)+list(non_shuff_events_per_min)})\n",
    "ax = sns.boxplot(y='replay rate', x='group', data=plt_df, color='blue', width=.2, zorder=10,\n",
    "                    showcaps=True, boxprops={'facecolor': 'none', \"zorder\": 10},\n",
    "                    showfliers=False, whiskerprops={'linewidth': 2, \"zorder\": 10},\n",
    "                    saturation=1, orient='v')"
   ]
  },
  {
   "cell_type": "markdown",
   "metadata": {},
   "source": [
    "# PRESLEEP ANALYSIS "
   ]
  },
  {
   "cell_type": "code",
   "execution_count": 90,
   "metadata": {},
   "outputs": [
    {
     "name": "stderr",
     "output_type": "stream",
     "text": [
      "100%|██████████| 31/31 [05:45<00:00, 11.14s/it]\n"
     ]
    }
   ],
   "source": [
    "\n",
    "# load in the presleep data - extract number of sequenes found\n",
    "PP_PATH =  r\"Z:\\projects\\sequence_squad\\revision_data\\emmett_revisions\\Reveiw_Pre_sleep\\\\\"\n",
    "presleep_events_per_min = []\n",
    "mirs = []\n",
    "for iteration_ in tqdm(range(len(os.listdir(PP_PATH)))):\n",
    "    file_ = os.listdir(PP_PATH)[iteration_]\n",
    "    data_path = os.path.join(PP_PATH,file_)+ r'//_final_analysis_output//'\n",
    "    clust_events_per_min = 0\n",
    "    all_chunks_len = 0\n",
    "    for file in os.listdir(data_path):\n",
    "        if 'chunk' in file:\n",
    "            current_data_path = os.path.join(data_path,file)+ r'//'\n",
    "            replay_clusts = pd.read_csv(current_data_path + 'filtered_replay_clusters_df.csv')\n",
    "            if 'ordering_classification' in list(replay_clusts):\n",
    "                interval_length = int(file.split('_')[-1].split('to')[-1]) - int(file.split('_')[-1].split('to')[0])\n",
    "                # only sequential events\n",
    "                clust_events_per_min += len(replay_clusts[replay_clusts.ordering_classification == 'sequential'])\n",
    "                all_chunks_len += interval_length/60\n",
    "    if all_chunks_len > 0:\n",
    "        presleep_events_per_min += [clust_events_per_min/all_chunks_len]\n",
    "        mirs += [file_.split('_run')[0]]\n",
    "\n",
    "post_sleep_replay_rates = pd.read_csv(r\"Z:\\projects\\sequence_squad\\revision_data\\emmett_revisions\\replay_rate_old_data\\replay_rates.csv\")"
   ]
  },
  {
   "cell_type": "code",
   "execution_count": 91,
   "metadata": {},
   "outputs": [],
   "source": [
    "import seaborn as sns\n",
    "\n",
    "fig, ax = plt.subplots(1, 1, figsize=(2, 5))\n",
    "\n",
    "for epms in presleep_events_per_min:\n",
    "    ax.plot(0.2,epms,'o', color = 'blue')\n",
    "    \n",
    "ps_rr = post_sleep_replay_rates.reactivations_per_min.values   \n",
    "ax.plot([0.8]*len(ps_rr),ps_rr,'o', color = 'red')\n",
    "\n",
    "plt_df = pd.DataFrame({'group': (['presleep'] * len(presleep_events_per_min)) + (['post sleep'] * len(ps_rr)) , 'replay rate': list(presleep_events_per_min)+list(ps_rr)})\n",
    "ax = sns.boxplot(y='replay rate', x='group', data=plt_df, color='blue', width=.2, zorder=10,\n",
    "                    showcaps=True, boxprops={'facecolor': 'none', \"zorder\": 10},\n",
    "                    showfliers=False, whiskerprops={'linewidth': 2, \"zorder\": 10},\n",
    "                    saturation=1, orient='v')\n",
    "\n",
    "\n",
    "SaveFig('pre-post-replay-rate.pdf',r\"Z:\\projects\\sequence_squad\\revision_data\\emmett_revisions\\phase1_plots\\presleep\\\\\")\n"
   ]
  },
  {
   "cell_type": "code",
   "execution_count": 92,
   "metadata": {},
   "outputs": [
    {
     "data": {
      "text/plain": [
       "RanksumsResult(statistic=-2.6452936873802777, pvalue=0.00816200426767409)"
      ]
     },
     "execution_count": 92,
     "metadata": {},
     "output_type": "execute_result"
    }
   ],
   "source": [
    "import scipy\n",
    "\n",
    "# Remove NaN values\n",
    "presleep_events_per_min_clean = np.array(presleep_events_per_min)[~np.isnan(presleep_events_per_min)]\n",
    "ps_rr_clean = np.array(ps_rr)[~np.isnan(ps_rr)]\n",
    "\n",
    "scipy.stats.shapiro(presleep_events_per_min_clean)\n",
    "scipy.stats.shapiro(ps_rr_clean)\n",
    "# non parametric\n",
    "\n",
    "#indipendent, Wilcoxon Rank-Sum test\n",
    "scipy.stats.ranksums(presleep_events_per_min_clean, ps_rr_clean)"
   ]
  },
  {
   "cell_type": "code",
   "execution_count": 93,
   "metadata": {},
   "outputs": [],
   "source": [
    "fig, ax = plt.subplots(1, 1, figsize=(2, 5))\n",
    "for index, mir in enumerate(mirs):\n",
    "    pre_events = presleep_events_per_min[index]\n",
    "    if mir in post_sleep_replay_rates.mirs.values:\n",
    "        post_events = post_sleep_replay_rates[post_sleep_replay_rates.mirs == mir].reactivations_per_min.values[0]\n",
    "        ax.plot([0.2,0.8],[pre_events,post_events],'o-', color = 'k', alpha = 0.2)\n",
    "        \n",
    "plt_df = pd.DataFrame({'group': (['presleep'] * len(presleep_events_per_min)) + (['post sleep'] * len(ps_rr)) , 'replay rate': list(presleep_events_per_min)+list(ps_rr)})\n",
    "ax = sns.boxplot(y='replay rate', x='group', data=plt_df, color='blue', width=.2, zorder=10,\n",
    "                    showcaps=True, boxprops={'facecolor': 'none', \"zorder\": 10},\n",
    "                    showfliers=False, whiskerprops={'linewidth': 2, \"zorder\": 10},\n",
    "                    saturation=1, orient='v')\n",
    "\n",
    "\n",
    "SaveFig('pre-post-replay-rate-connected.pdf',r\"Z:\\projects\\sequence_squad\\revision_data\\emmett_revisions\\phase1_plots\\presleep\\\\\")"
   ]
  },
  {
   "cell_type": "code",
   "execution_count": 94,
   "metadata": {},
   "outputs": [],
   "source": [
    "fig, ax = plt.subplots(1, 1, figsize=(2, 5))\n",
    "diffs = []\n",
    "for index, mir in enumerate(mirs):\n",
    "    pre_events = presleep_events_per_min[index]\n",
    "    if mir in post_sleep_replay_rates.mirs.values:\n",
    "        post_events = post_sleep_replay_rates[post_sleep_replay_rates.mirs == mir].reactivations_per_min.values[0]\n",
    "        diff = post_events - pre_events\n",
    "        diffs += [diff]\n",
    "        ax.plot([0.2],diff,'o', color = 'k', alpha = 0.2)\n",
    "        \n",
    "plt_df = pd.DataFrame({'group': (['replay rates'] * len(diffs)), 'difference: pre to post': diffs})\n",
    "ax = sns.boxplot(y='difference: pre to post', x='group', data=plt_df, width=.2, zorder=10,\n",
    "                    showcaps=True, boxprops={'facecolor': 'none', \"zorder\": 10},\n",
    "                    showfliers=False, whiskerprops={'linewidth': 2, \"zorder\": 10},\n",
    "                    saturation=1, orient='v')\n",
    "\n",
    "\n",
    "SaveFig('pre-post-replay-rate-diff.pdf',r\"Z:\\projects\\sequence_squad\\revision_data\\emmett_revisions\\phase1_plots\\presleep\\\\\")\n"
   ]
  },
  {
   "cell_type": "markdown",
   "metadata": {},
   "source": [
    "# preprocess event details"
   ]
  },
  {
   "cell_type": "code",
   "execution_count": null,
   "metadata": {},
   "outputs": [
    {
     "name": "stderr",
     "output_type": "stream",
     "text": [
      "100%|██████████| 31/31 [05:48<00:00, 11.25s/it]\n"
     ]
    }
   ],
   "source": [
    "from ast import literal_eval\n",
    "\n",
    "PP_PATH =  r\"Z:\\projects\\sequence_squad\\revision_data\\emmett_revisions\\Reveiw_Pre_sleep\\\\\"\n",
    "\n",
    "# PP_PATH =  r\"Z:\\projects\\sequence_squad\\organised_data\\ppseq_data\\finalised_output\\striatum\\paper_submission\\post_sleep\\\\\"\n",
    "number_of_spikes = []\n",
    "event_lengths = []\n",
    "number_of_neurons = []\n",
    "mirs = []\n",
    "for iteration_ in tqdm(range(len(os.listdir(PP_PATH)))):\n",
    "    file_ = os.listdir(PP_PATH)[iteration_]\n",
    "    data_path = os.path.join(PP_PATH,file_)+ r'//_final_analysis_output//'\n",
    "    chunk_number_of_spikes = []\n",
    "    chunk_event_lengths = []\n",
    "    chunk_number_of_neurons = []\n",
    "    for file in os.listdir(data_path):\n",
    "        if 'chunk' in file:\n",
    "            current_data_path = os.path.join(data_path,file)+ r'//'\n",
    "            replay_clusts = pd.read_csv(current_data_path + 'filtered_replay_clusters_df.csv')\n",
    "            if 'ordering_classification' in list(replay_clusts):\n",
    "                filtered_replay_clusts = replay_clusts[replay_clusts.ordering_classification == 'sequential']\n",
    "                chunk_number_of_spikes += [list(filtered_replay_clusts.num_spikes.values)]\n",
    "                chunk_event_lengths += [list(filtered_replay_clusts.event_length.values)]\n",
    "                n_neurons = []\n",
    "                for clusters in filtered_replay_clusts.cluster_neurons:\n",
    "                    n_neurons += [len(np.unique(literal_eval(clusters)))]\n",
    "                chunk_number_of_neurons += [n_neurons]\n",
    "                \n",
    "    mirs += [file_.split('_run')[0]]\n",
    "    number_of_spikes += [chunk_number_of_spikes]\n",
    "    event_lengths += [chunk_event_lengths]\n",
    "    number_of_neurons += [chunk_number_of_neurons]  \n",
    "    \n",
    "out_df = pd.DataFrame({'mirs':mirs,'number_of_spikes_per_event_per_chunk':number_of_spikes,'event_lengths_per_event_per_chunk':event_lengths,'number_of_neurons_per_event_per_chunk':number_of_neurons}) \n",
    "out_df.to_csv(r\"Z:\\projects\\sequence_squad\\revision_data\\emmett_revisions\\pre_sleep_processed_data\\presleep_event_details.csv\",index = False)"
   ]
  },
  {
   "cell_type": "markdown",
   "metadata": {},
   "source": [
    "# load and plot"
   ]
  },
  {
   "cell_type": "code",
   "execution_count": 95,
   "metadata": {},
   "outputs": [],
   "source": [
    "postsleep_event_details = pd.read_csv(r\"Z:\\projects\\sequence_squad\\revision_data\\emmett_revisions\\pre_sleep_processed_data\\postsleep_event_details.csv\")\n",
    "presleep_event_details = pd.read_csv(r\"Z:\\projects\\sequence_squad\\revision_data\\emmett_revisions\\pre_sleep_processed_data\\presleep_event_details.csv\")\n"
   ]
  },
  {
   "cell_type": "code",
   "execution_count": 96,
   "metadata": {},
   "outputs": [
    {
     "name": "stderr",
     "output_type": "stream",
     "text": [
      "c:\\miniconda\\Lib\\site-packages\\numpy\\core\\fromnumeric.py:3504: RuntimeWarning: Mean of empty slice.\n",
      "  return _methods._mean(a, axis=axis, dtype=dtype,\n",
      "c:\\miniconda\\Lib\\site-packages\\numpy\\core\\_methods.py:129: RuntimeWarning: invalid value encountered in scalar divide\n",
      "  ret = ret.dtype.type(ret / rcount)\n"
     ]
    }
   ],
   "source": [
    "mean_neurons = []\n",
    "for item in postsleep_event_details.event_lengths_per_event_per_chunk:    \n",
    "    flattened_list = [item for sublist in literal_eval(item) for item in sublist]\n",
    "    mean_neurons += [np.mean(flattened_list)]\n",
    "    \n",
    "pre_mean_neurons = []\n",
    "for item in presleep_event_details.event_lengths_per_event_per_chunk:    \n",
    "    flattened_list = [item for sublist in literal_eval(item) for item in sublist]\n",
    "    pre_mean_neurons += [np.mean(flattened_list)]\n",
    "    \n",
    "fig, ax = plt.subplots(1, 1, figsize=(2, 5))\n",
    "\n",
    "ax.plot([0.8] * len(mean_neurons),mean_neurons,'o')\n",
    "ax.plot([0.2] * len(pre_mean_neurons),pre_mean_neurons,'o')\n",
    "\n",
    "plt_df = pd.DataFrame({'group': (['presleep'] * len(pre_mean_neurons))+(['postsleep'] * len(mean_neurons)), 'mean event lengths (s)': pre_mean_neurons+mean_neurons})\n",
    "ax = sns.boxplot(y='mean event lengths (s)', x='group', data=plt_df, width=.2, zorder=10,\n",
    "                    showcaps=True, boxprops={'facecolor': 'none', \"zorder\": 10},\n",
    "                    showfliers=False, whiskerprops={'linewidth': 2, \"zorder\": 10},\n",
    "                    saturation=1, orient='v')\n",
    "\n",
    "\n",
    "SaveFig('pre-post-event-length.pdf',r\"Z:\\projects\\sequence_squad\\revision_data\\emmett_revisions\\phase1_plots\\presleep\\\\\")"
   ]
  },
  {
   "cell_type": "code",
   "execution_count": 34,
   "metadata": {},
   "outputs": [
    {
     "name": "stdout",
     "output_type": "stream",
     "text": [
      "ShapiroResult(statistic=0.9736347336727063, pvalue=0.6425938122325177)\n",
      "ShapiroResult(statistic=0.9745358066407458, pvalue=0.5444022319207653)\n"
     ]
    },
    {
     "data": {
      "text/plain": [
       "TtestResult(statistic=-2.681469325508937, pvalue=0.009281302676323199, df=65.0)"
      ]
     },
     "execution_count": 34,
     "metadata": {},
     "output_type": "execute_result"
    }
   ],
   "source": [
    "\n",
    "import scipy\n",
    "\n",
    "# Remove NaN values\n",
    "presleep_clean = np.array(pre_mean_neurons)[~np.isnan(pre_mean_neurons)]\n",
    "post_clean = np.array(mean_neurons)[~np.isnan(mean_neurons)]\n",
    "\n",
    "print(scipy.stats.shapiro(presleep_clean))\n",
    "print(scipy.stats.shapiro(post_clean))\n",
    "\n",
    "#parametric\n",
    "\n",
    "# ind t test\n",
    "scipy.stats.ttest_ind(presleep_clean,post_clean)"
   ]
  },
  {
   "cell_type": "code",
   "execution_count": 97,
   "metadata": {},
   "outputs": [
    {
     "name": "stderr",
     "output_type": "stream",
     "text": [
      "c:\\miniconda\\Lib\\site-packages\\numpy\\core\\fromnumeric.py:3504: RuntimeWarning: Mean of empty slice.\n",
      "  return _methods._mean(a, axis=axis, dtype=dtype,\n",
      "c:\\miniconda\\Lib\\site-packages\\numpy\\core\\_methods.py:129: RuntimeWarning: invalid value encountered in scalar divide\n",
      "  ret = ret.dtype.type(ret / rcount)\n"
     ]
    }
   ],
   "source": [
    "mean_neurons = []\n",
    "for item in postsleep_event_details.number_of_neurons_per_event_per_chunk:    \n",
    "    flattened_list = [item for sublist in literal_eval(item) for item in sublist]\n",
    "    mean_neurons += [np.mean(flattened_list)]\n",
    "    \n",
    "pre_mean_neurons = []\n",
    "for item in presleep_event_details.number_of_neurons_per_event_per_chunk:    \n",
    "    flattened_list = [item for sublist in literal_eval(item) for item in sublist]\n",
    "    pre_mean_neurons += [np.mean(flattened_list)]\n",
    "    \n",
    "fig, ax = plt.subplots(1, 1, figsize=(2, 5))\n",
    "\n",
    "ax.plot([0.8] * len(mean_neurons),mean_neurons,'o')\n",
    "ax.plot([0.2] * len(pre_mean_neurons),pre_mean_neurons,'o')\n",
    "\n",
    "plt_df = pd.DataFrame({'group': (['presleep'] * len(pre_mean_neurons))+(['postsleep'] * len(mean_neurons)), 'neurons per event': pre_mean_neurons+mean_neurons})\n",
    "ax = sns.boxplot(y='neurons per event', x='group', data=plt_df, width=.2, zorder=10,\n",
    "                    showcaps=True, boxprops={'facecolor': 'none', \"zorder\": 10},\n",
    "                    showfliers=False, whiskerprops={'linewidth': 2, \"zorder\": 10},\n",
    "                    saturation=1, orient='v')\n",
    "\n",
    "SaveFig('neurons-per-event.pdf',r\"Z:\\projects\\sequence_squad\\revision_data\\emmett_revisions\\phase1_plots\\presleep\\\\\")"
   ]
  },
  {
   "cell_type": "code",
   "execution_count": 38,
   "metadata": {},
   "outputs": [
    {
     "name": "stdout",
     "output_type": "stream",
     "text": [
      "ShapiroResult(statistic=0.9426393607836691, pvalue=0.10714487311900522)\n",
      "ShapiroResult(statistic=0.9191407241432415, pvalue=0.010484009387248498)\n"
     ]
    },
    {
     "data": {
      "text/plain": [
       "RanksumsResult(statistic=-1.0339237932144132, pvalue=0.3011717908311138)"
      ]
     },
     "execution_count": 38,
     "metadata": {},
     "output_type": "execute_result"
    }
   ],
   "source": [
    "import scipy\n",
    "\n",
    "# Remove NaN values\n",
    "presleep_clean = np.array(pre_mean_neurons)[~np.isnan(pre_mean_neurons)]\n",
    "post_clean = np.array(mean_neurons)[~np.isnan(mean_neurons)]\n",
    "\n",
    "print(scipy.stats.shapiro(presleep_clean))\n",
    "print(scipy.stats.shapiro(post_clean))\n",
    "\n",
    "#non parametric\n",
    "\n",
    "#indipendent, Wilcoxon Rank-Sum test\n",
    "scipy.stats.ranksums(presleep_clean,post_clean)"
   ]
  },
  {
   "cell_type": "code",
   "execution_count": 98,
   "metadata": {},
   "outputs": [
    {
     "name": "stderr",
     "output_type": "stream",
     "text": [
      "c:\\miniconda\\Lib\\site-packages\\numpy\\core\\fromnumeric.py:3504: RuntimeWarning: Mean of empty slice.\n",
      "  return _methods._mean(a, axis=axis, dtype=dtype,\n",
      "c:\\miniconda\\Lib\\site-packages\\numpy\\core\\_methods.py:129: RuntimeWarning: invalid value encountered in scalar divide\n",
      "  ret = ret.dtype.type(ret / rcount)\n"
     ]
    }
   ],
   "source": [
    "mean_neurons = []\n",
    "for item in postsleep_event_details.number_of_spikes_per_event_per_chunk:    \n",
    "    flattened_list = [item for sublist in literal_eval(item) for item in sublist]\n",
    "    mean_neurons += [np.mean(flattened_list)]\n",
    "    \n",
    "pre_mean_neurons = []\n",
    "for item in presleep_event_details.number_of_spikes_per_event_per_chunk:    \n",
    "    flattened_list = [item for sublist in literal_eval(item) for item in sublist]\n",
    "    pre_mean_neurons += [np.mean(flattened_list)]\n",
    "    \n",
    "fig, ax = plt.subplots(1, 1, figsize=(2, 5))\n",
    "\n",
    "ax.plot([0.8] * len(mean_neurons),mean_neurons,'o')\n",
    "ax.plot([0.2] * len(pre_mean_neurons),pre_mean_neurons,'o')\n",
    "\n",
    "plt_df = pd.DataFrame({'group': (['presleep'] * len(pre_mean_neurons))+(['postsleep'] * len(mean_neurons)), 'mean spikes per event': pre_mean_neurons+mean_neurons})\n",
    "ax = sns.boxplot(y='mean spikes per event', x='group', data=plt_df, width=.2, zorder=10,\n",
    "                    showcaps=True, boxprops={'facecolor': 'none', \"zorder\": 10},\n",
    "                    showfliers=False, whiskerprops={'linewidth': 2, \"zorder\": 10},\n",
    "                    saturation=1, orient='v')\n",
    "\n",
    "SaveFig('pre-post-spikes-per-event.pdf',r\"Z:\\projects\\sequence_squad\\revision_data\\emmett_revisions\\phase1_plots\\presleep\\\\\")"
   ]
  },
  {
   "cell_type": "code",
   "execution_count": 41,
   "metadata": {},
   "outputs": [
    {
     "name": "stdout",
     "output_type": "stream",
     "text": [
      "ShapiroResult(statistic=0.9736347336727063, pvalue=0.6425938122325177)\n",
      "ShapiroResult(statistic=0.9745358066407458, pvalue=0.5444022319207653)\n"
     ]
    },
    {
     "data": {
      "text/plain": [
       "TtestResult(statistic=-2.681469325508937, pvalue=0.009281302676323199, df=65.0)"
      ]
     },
     "execution_count": 41,
     "metadata": {},
     "output_type": "execute_result"
    }
   ],
   "source": [
    "import scipy\n",
    "\n",
    "# Remove NaN values\n",
    "presleep_clean = np.array(pre_mean_neurons)[~np.isnan(pre_mean_neurons)]\n",
    "post_clean = np.array(mean_neurons)[~np.isnan(mean_neurons)]\n",
    "\n",
    "print(scipy.stats.shapiro(presleep_clean))\n",
    "print(scipy.stats.shapiro(post_clean))\n",
    "\n",
    "#parametric\n",
    "\n",
    "# ind t test\n",
    "scipy.stats.ttest_ind(presleep_clean,post_clean)"
   ]
  },
  {
   "cell_type": "markdown",
   "metadata": {},
   "source": [
    "# firing rate control"
   ]
  },
  {
   "cell_type": "code",
   "execution_count": 99,
   "metadata": {},
   "outputs": [],
   "source": [
    "presleep_average_firing_rates = pd.read_csv(r\"Z:\\projects\\sequence_squad\\revision_data\\emmett_revisions\\pre_sleep_processed_data\\presleep_average_firing_rates.csv\")\n",
    "postsleep_average_firing_rates = pd.read_csv(r\"Z:\\projects\\sequence_squad\\revision_data\\emmett_revisions\\replay_rate_old_data\\average_firing_rates.csv\")\n",
    "\n",
    "bool_1 = []\n",
    "for item in presleep_average_firing_rates.mirs:\n",
    "    if item in presleep_event_details.mirs.values:\n",
    "        bool_1 += [True]\n",
    "    else:\n",
    "        bool_1 += [False]\n",
    "        \n",
    "bool_2 = []\n",
    "for item in postsleep_average_firing_rates.mirs:\n",
    "    if item in postsleep_event_details.mirs.values:\n",
    "        bool_2 += [True]\n",
    "    else:\n",
    "        bool_2 += [False]\n",
    "        \n",
    "pre = presleep_average_firing_rates[bool_1].average_firing_rates.values\n",
    "post = postsleep_average_firing_rates[bool_2].average_firing_rates.values\n",
    "\n",
    "fig, ax = plt.subplots(1, 1, figsize=(2, 5))\n",
    "\n",
    "ax.plot([0.8] * len(pre),pre,'o')\n",
    "ax.plot([0.2] * len(post),post,'o')\n",
    "\n",
    "plt_df = pd.DataFrame({'group': (['presleep'] * len(pre))+(['postsleep'] * len(post)), 'mean firing rate (Hz)': list(pre)+list(post)})\n",
    "ax = sns.boxplot(y='mean firing rate (Hz)', x='group', data=plt_df, width=.2, zorder=10,\n",
    "                    showcaps=True, boxprops={'facecolor': 'none', \"zorder\": 10},\n",
    "                    showfliers=False, whiskerprops={'linewidth': 2, \"zorder\": 10},\n",
    "                    saturation=1, orient='v')\n",
    "\n",
    "SaveFig('pre-post-firing-rate-control.pdf',r\"Z:\\projects\\sequence_squad\\revision_data\\emmett_revisions\\phase1_plots\\presleep\\\\\")"
   ]
  },
  {
   "cell_type": "code",
   "execution_count": 88,
   "metadata": {},
   "outputs": [
    {
     "name": "stdout",
     "output_type": "stream",
     "text": [
      "ShapiroResult(statistic=0.951025621714755, pvalue=0.19460186435686694)\n",
      "ShapiroResult(statistic=0.9355716482703269, pvalue=0.037045802969689845)\n"
     ]
    },
    {
     "data": {
      "text/plain": [
       "RanksumsResult(statistic=-0.10557434432865279, pvalue=0.9159200812258538)"
      ]
     },
     "execution_count": 88,
     "metadata": {},
     "output_type": "execute_result"
    }
   ],
   "source": [
    "import scipy\n",
    "\n",
    "print(scipy.stats.shapiro(pre))\n",
    "print(scipy.stats.shapiro(post))\n",
    "\n",
    "#non parametric\n",
    "\n",
    "#indipendent, Wilcoxon Rank-Sum test\n",
    "scipy.stats.ranksums(pre,post)"
   ]
  },
  {
   "cell_type": "code",
   "execution_count": null,
   "metadata": {},
   "outputs": [],
   "source": []
  }
 ],
 "metadata": {
  "kernelspec": {
   "display_name": "base",
   "language": "python",
   "name": "python3"
  },
  "language_info": {
   "codemirror_mode": {
    "name": "ipython",
    "version": 3
   },
   "file_extension": ".py",
   "mimetype": "text/x-python",
   "name": "python",
   "nbconvert_exporter": "python",
   "pygments_lexer": "ipython3",
   "version": "3.12.3"
  }
 },
 "nbformat": 4,
 "nbformat_minor": 2
}
