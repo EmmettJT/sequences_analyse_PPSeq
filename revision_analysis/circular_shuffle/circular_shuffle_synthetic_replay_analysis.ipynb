{
 "cells": [
  {
   "cell_type": "markdown",
   "metadata": {},
   "source": [
    "# import + functions"
   ]
  },
  {
   "cell_type": "code",
   "execution_count": 33,
   "metadata": {},
   "outputs": [],
   "source": [
    "import os\n",
    "import pandas as pd\n",
    "from tqdm import tqdm\n",
    "import matplotlib.pyplot as plt\n",
    "import seaborn as sns"
   ]
  },
  {
   "cell_type": "code",
   "execution_count": null,
   "metadata": {},
   "outputs": [
    {
     "name": "stderr",
     "output_type": "stream",
     "text": [
      "  0%|          | 0/13 [00:00<?, ?it/s]"
     ]
    },
    {
     "name": "stderr",
     "output_type": "stream",
     "text": [
      "100%|██████████| 13/13 [00:04<00:00,  3.04it/s]\n",
      "100%|██████████| 13/13 [00:07<00:00,  1.72it/s]\n"
     ]
    }
   ],
   "source": [
    "# # load in the shuffled data - extract number of sequenes found\n",
    "# PP_PATH =  r\"Z:\\projects\\sequence_squad\\revision_data\\emmett_revisions\\circular_shuffle\\synthetic_data\\shuffled\\ppseq_output\\\\\"\n",
    "# shuffle_events_per_min = []\n",
    "# for iteration_ in tqdm(range(len(os.listdir(PP_PATH)))):\n",
    "#     file = os.listdir(PP_PATH)[iteration_]\n",
    "#     data_path = os.path.join(PP_PATH,file)+ r'//_final_analysis_output//'\n",
    "#     clust_events_per_min = 0\n",
    "#     all_chunks_len = 0\n",
    "#     current_mir = file.split('run')[0][:-1]\n",
    "#     for file in os.listdir(data_path):\n",
    "#         if 'chunk' in file:\n",
    "#             current_data_path = os.path.join(data_path,file)+ r'//'\n",
    "#             replay_clusts = pd.read_csv(current_data_path + 'filtered_replay_clusters_df.csv')\n",
    "#             if 'ordering_classification' in list(replay_clusts):\n",
    "#                 interval_length = int(file.split('_')[-1].split('to')[-1]) - int(file.split('_')[-1].split('to')[0])\n",
    "#                 # only sequential events\n",
    "#                 clust_events_per_min += len(replay_clusts[replay_clusts.ordering_classification == 'sequential'])\n",
    "#                 all_chunks_len += interval_length/60\n",
    "#             else:\n",
    "#                 print('no ordering classification...')\n",
    "            \n",
    "#     if all_chunks_len > 0:\n",
    "#         shuffle_events_per_min += [clust_events_per_min/all_chunks_len]\n",
    "\n",
    "\n",
    "# # load in the non shuffle - extract number of sequuences found \n",
    "# PP_PATH =  r\"Z:\\projects\\sequence_squad\\revision_data\\emmett_revisions\\circular_shuffle\\synthetic_data\\non_shuffled\\ppseq_output\\\\\"\n",
    "# non_shuff_events_per_min = []\n",
    "# for iteration_ in tqdm(range(len(os.listdir(PP_PATH)))):\n",
    "#     file = os.listdir(PP_PATH)[iteration_]\n",
    "#     data_path = os.path.join(PP_PATH,file)+ r'//_final_analysis_output//'\n",
    "#     clust_events_per_min = 0\n",
    "#     all_chunks_len = 0\n",
    "#     current_mir = file.split('run')[0][:-1]\n",
    "#     for file in os.listdir(data_path):\n",
    "#         if 'chunk' in file:\n",
    "#             current_data_path = os.path.join(data_path,file)+ r'//'\n",
    "#             replay_clusts = pd.read_csv(current_data_path + 'filtered_replay_clusters_df.csv')\n",
    "#             if 'ordering_classification' in list(replay_clusts):\n",
    "#                 interval_length = int(file.split('_')[-1].split('to')[-1]) - int(file.split('_')[-1].split('to')[0])\n",
    "#                 # only sequential events\n",
    "#                 clust_events_per_min += len(replay_clusts[replay_clusts.ordering_classification == 'sequential'])\n",
    "#                 all_chunks_len += interval_length/60\n",
    "#             else:\n",
    "#                 print('no ordering classification...')\n",
    "\n",
    "#     if all_chunks_len > 0:\n",
    "#         non_shuff_events_per_min += [clust_events_per_min/all_chunks_len]\n",
    "        \n",
    "# outpath = r'Z:\\projects\\sequence_squad\\revision_data\\emmett_revisions\\circular_shuffle\\\\'\n",
    "# pd.DataFrame({'id':mirs,'c_shuffled_epm':shuffle_events_per_min,'non_shuffled_epm':non_shuff_events_per_min}).to_csv(outpath+ 'circular_shuffle_test.csv')\n"
   ]
  },
  {
   "cell_type": "code",
   "execution_count": null,
   "metadata": {},
   "outputs": [],
   "source": []
  },
  {
   "cell_type": "code",
   "execution_count": null,
   "metadata": {},
   "outputs": [
    {
     "data": {
      "image/png": "[encoded data removed]",
      "text/plain": [
       "<Figure size 300x500 with 1 Axes>"
      ]
     },
     "metadata": {},
     "output_type": "display_data"
    }
   ],
   "source": [
    "# load in the csv:\n",
    "circular_shuffle_df = pd.read_csv(r'Z:\\projects\\sequence_squad\\revision_data\\emmett_revisions\\circular_shuffle\\circular_shuffle_test.csv')\n",
    "\n",
    "shuffle_events_per_min = circular_shuffle_df.c_shuffled_epm.values\n",
    "non_shuff_events_per_min = circular_shuffle_df.non_shuffled_epm.values\n",
    "\n",
    "fig, ax = plt.subplots(1, 1, figsize=(3, 5))\n",
    "\n",
    "ax.plot([0.2]*len(shuffle_events_per_min),shuffle_events_per_min,'o', color = 'blue')\n",
    "ax.plot([0.8]*len(non_shuff_events_per_min),non_shuff_events_per_min,'o', color = 'red')\n",
    "\n",
    "plt_df = pd.DataFrame({'group': (['circular shuffle'] * len(shuffle_events_per_min)) + (['no shuffle'] * len(non_shuff_events_per_min)) , 'replay rate': list(shuffle_events_per_min)+list(non_shuff_events_per_min)})\n",
    "ax = sns.boxplot(y='replay rate', x='group', data=plt_df, color='blue', width=.2, zorder=10,\n",
    "                    showcaps=True, boxprops={'facecolor': 'none', \"zorder\": 10},\n",
    "                    showfliers=False, whiskerprops={'linewidth': 2, \"zorder\": 10},\n",
    "                    saturation=1, orient='v')"
   ]
  },
  {
   "cell_type": "markdown",
   "metadata": {},
   "source": []
  }
 ],
 "metadata": {
  "kernelspec": {
   "display_name": "base",
   "language": "python",
   "name": "python3"
  },
  "language_info": {
   "codemirror_mode": {
    "name": "ipython",
    "version": 3
   },
   "file_extension": ".py",
   "mimetype": "text/x-python",
   "name": "python",
   "nbconvert_exporter": "python",
   "pygments_lexer": "ipython3",
   "version": "3.12.3"
  }
 },
 "nbformat": 4,
 "nbformat_minor": 2
}
