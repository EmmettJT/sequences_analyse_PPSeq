{
 "cells": [
  {
   "cell_type": "markdown",
   "metadata": {},
   "source": [
    "# import"
   ]
  },
  {
   "cell_type": "code",
   "execution_count": 33,
   "metadata": {},
   "outputs": [],
   "source": [
    "import os\n",
    "import pandas as pd\n",
    "import numpy as np\n",
    "from tqdm import tqdm\n",
    "import matplotlib.pyplot as plt\n",
    "from tqdm import tqdm\n",
    "from ast import literal_eval\n",
    "import scipy\n",
    "import json \n",
    "#functions\n",
    "\n",
    "def SaveFig(file_name,figure_dir):\n",
    "    if not os.path.isdir(figure_dir):\n",
    "        os.makedirs(figure_dir)\n",
    "    plt.savefig(figure_dir + file_name,bbox_inches=0,transparent = True)\n",
    "\n",
    "def load_in_sleep_state_scoring(mouse):\n",
    "    # print('---------------------')\n",
    "    # print('searching for sleep state scoring')\n",
    "    # determine organised data paths for the current mouse\n",
    "    if mouse.split('_')[0].isdigit():\n",
    "        org_dat_path = r\"Z:\\projects\\sequence_squad\\organised_data\\animals\\\\\"\n",
    "        old_data = True\n",
    "    else:\n",
    "        org_dat_path = r\"Z:\\projects\\sequence_squad\\revision_data\\organised_data\\animals\\\\\"\n",
    "        old_data = False\n",
    "    org_mouse_file = None\n",
    "    for file in os.listdir(org_dat_path):\n",
    "        if mouse.split('_')[0] in file:\n",
    "            # if the implant = implant\n",
    "            if mouse.split('_')[1] == file.split('_')[-1][-1]:\n",
    "                # print(f'1. mouse file found: \\033[1m{file}\\033[0m')\n",
    "                org_mouse_file = os.path.join(org_dat_path,file)\n",
    "    mouse_org_data_path = None\n",
    "    for recording in os.listdir(org_mouse_file):\n",
    "        if mouse.split('_')[-1] == recording.split('ing')[-1].split('_')[0]:\n",
    "            # print(f'2. recording found: \\033[1m{recording}\\033[0m')\n",
    "            mouse_org_data_path = os.path.join(org_mouse_file,recording) + r'\\\\'\n",
    "\n",
    "    # load in sleep scoring data \n",
    "\n",
    "    sleep_state_score_path = mouse_org_data_path + r\"\\ephys\\LFP\\\\\"\n",
    "    if not os.path.exists(sleep_state_score_path):\n",
    "        sleep_state_score_path =  mouse_org_data_path + '/ephys/probeA/LFP/'\n",
    "\n",
    "    if not os.path.exists(sleep_state_score_path):\n",
    "        print(f\"Sleep state score files not found for {mouse}.\")\n",
    "    else:\n",
    "        nrem_start_ends = np.load(sleep_state_score_path + \"presleep_nrem_start_ends.npy\", allow_pickle=True)\n",
    "        rem_start_ends = np.load(sleep_state_score_path + \"presleep_rem_start_ends.npy\", allow_pickle=True)\n",
    "    #     print (f\"\\033[1mSuccess!\\033[0m Loaded sleep state score files for mouse: {mouse}.\")\n",
    "\n",
    "    # print('----------------------')\n",
    "        \n",
    "    return nrem_start_ends,rem_start_ends,mouse_org_data_path,old_data\n",
    "\n",
    "def get_chunk_state_times(rem_start_ends,chunk_time):\n",
    "    chunk_rem_times = []\n",
    "    for start,end in rem_start_ends:\n",
    "        if start >= chunk_time[0] and start <= chunk_time[1]:\n",
    "            start_chunk_rebased = start - chunk_time[0]\n",
    "            end_chunk_rebased = end - chunk_time[0]\n",
    "            # expand by 10%\n",
    "            start_chunk_rebased = start_chunk_rebased * 0.9\n",
    "            end_chunk_rebased = end_chunk_rebased * 1.1\n",
    "            # if the end stetches past the end of the chunk then just set it to the end of the chunk\n",
    "            if end_chunk_rebased > np.diff(chunk_time)[0]:\n",
    "                end_chunk_rebased = np.diff(chunk_time)[0]\n",
    "            chunk_rem_times += [[start_chunk_rebased,end_chunk_rebased]]\n",
    "    return chunk_rem_times\n"
   ]
  },
  {
   "cell_type": "markdown",
   "metadata": {},
   "source": [
    "# PRESLEEP ANALYSIS "
   ]
  },
  {
   "cell_type": "code",
   "execution_count": 34,
   "metadata": {},
   "outputs": [
    {
     "name": "stderr",
     "output_type": "stream",
     "text": [
      "  0%|          | 0/17 [00:00<?, ?it/s]"
     ]
    },
    {
     "name": "stdout",
     "output_type": "stream",
     "text": [
      "706\n",
      "188\n"
     ]
    },
    {
     "name": "stderr",
     "output_type": "stream",
     "text": [
      "C:\\Users\\Emmett Thompson\\AppData\\Local\\Temp\\ipykernel_35212\\260366405.py:71: DeprecationWarning: Conversion of an array with ndim > 0 to a scalar is deprecated, and will error in future. Ensure you extract a single element from your array before performing this operation. (Deprecated NumPy 1.25.)\n",
      "  presleep_events_per_min += [float(total_event/all_chunks_len)]\n",
      "  6%|▌         | 1/17 [00:01<00:28,  1.77s/it]"
     ]
    },
    {
     "name": "stdout",
     "output_type": "stream",
     "text": [
      "102\n",
      "221\n",
      "132\n"
     ]
    },
    {
     "name": "stderr",
     "output_type": "stream",
     "text": [
      "C:\\Users\\Emmett Thompson\\AppData\\Local\\Temp\\ipykernel_35212\\260366405.py:71: DeprecationWarning: Conversion of an array with ndim > 0 to a scalar is deprecated, and will error in future. Ensure you extract a single element from your array before performing this operation. (Deprecated NumPy 1.25.)\n",
      "  presleep_events_per_min += [float(total_event/all_chunks_len)]\n",
      " 12%|█▏        | 2/17 [00:03<00:29,  1.97s/it]"
     ]
    },
    {
     "name": "stdout",
     "output_type": "stream",
     "text": [
      "267\n",
      "189\n"
     ]
    },
    {
     "name": "stderr",
     "output_type": "stream",
     "text": [
      "C:\\Users\\Emmett Thompson\\AppData\\Local\\Temp\\ipykernel_35212\\260366405.py:71: DeprecationWarning: Conversion of an array with ndim > 0 to a scalar is deprecated, and will error in future. Ensure you extract a single element from your array before performing this operation. (Deprecated NumPy 1.25.)\n",
      "  presleep_events_per_min += [float(total_event/all_chunks_len)]\n",
      " 18%|█▊        | 3/17 [00:05<00:25,  1.81s/it]"
     ]
    },
    {
     "name": "stdout",
     "output_type": "stream",
     "text": [
      "178\n",
      "84\n"
     ]
    },
    {
     "name": "stderr",
     "output_type": "stream",
     "text": [
      "C:\\Users\\Emmett Thompson\\AppData\\Local\\Temp\\ipykernel_35212\\260366405.py:71: DeprecationWarning: Conversion of an array with ndim > 0 to a scalar is deprecated, and will error in future. Ensure you extract a single element from your array before performing this operation. (Deprecated NumPy 1.25.)\n",
      "  presleep_events_per_min += [float(total_event/all_chunks_len)]\n",
      " 24%|██▎       | 4/17 [00:08<00:29,  2.27s/it]"
     ]
    },
    {
     "name": "stdout",
     "output_type": "stream",
     "text": [
      "127\n",
      "39\n"
     ]
    },
    {
     "name": "stderr",
     "output_type": "stream",
     "text": [
      "C:\\Users\\Emmett Thompson\\AppData\\Local\\Temp\\ipykernel_35212\\260366405.py:71: DeprecationWarning: Conversion of an array with ndim > 0 to a scalar is deprecated, and will error in future. Ensure you extract a single element from your array before performing this operation. (Deprecated NumPy 1.25.)\n",
      "  presleep_events_per_min += [float(total_event/all_chunks_len)]\n",
      " 29%|██▉       | 5/17 [00:10<00:26,  2.21s/it]"
     ]
    },
    {
     "name": "stdout",
     "output_type": "stream",
     "text": [
      "268\n",
      "109\n"
     ]
    },
    {
     "name": "stderr",
     "output_type": "stream",
     "text": [
      "C:\\Users\\Emmett Thompson\\AppData\\Local\\Temp\\ipykernel_35212\\260366405.py:71: DeprecationWarning: Conversion of an array with ndim > 0 to a scalar is deprecated, and will error in future. Ensure you extract a single element from your array before performing this operation. (Deprecated NumPy 1.25.)\n",
      "  presleep_events_per_min += [float(total_event/all_chunks_len)]\n",
      " 35%|███▌      | 6/17 [00:12<00:21,  1.97s/it]"
     ]
    },
    {
     "name": "stdout",
     "output_type": "stream",
     "text": [
      "57\n",
      "20\n",
      "75\n"
     ]
    },
    {
     "name": "stderr",
     "output_type": "stream",
     "text": [
      "C:\\Users\\Emmett Thompson\\AppData\\Local\\Temp\\ipykernel_35212\\260366405.py:71: DeprecationWarning: Conversion of an array with ndim > 0 to a scalar is deprecated, and will error in future. Ensure you extract a single element from your array before performing this operation. (Deprecated NumPy 1.25.)\n",
      "  presleep_events_per_min += [float(total_event/all_chunks_len)]\n",
      " 41%|████      | 7/17 [00:14<00:20,  2.01s/it]"
     ]
    },
    {
     "name": "stdout",
     "output_type": "stream",
     "text": [
      "42\n",
      "173\n",
      "53\n"
     ]
    },
    {
     "name": "stderr",
     "output_type": "stream",
     "text": [
      "C:\\Users\\Emmett Thompson\\AppData\\Local\\Temp\\ipykernel_35212\\260366405.py:71: DeprecationWarning: Conversion of an array with ndim > 0 to a scalar is deprecated, and will error in future. Ensure you extract a single element from your array before performing this operation. (Deprecated NumPy 1.25.)\n",
      "  presleep_events_per_min += [float(total_event/all_chunks_len)]\n",
      " 47%|████▋     | 8/17 [00:16<00:18,  2.03s/it]"
     ]
    },
    {
     "name": "stdout",
     "output_type": "stream",
     "text": [
      "333\n",
      "116\n",
      "108\n"
     ]
    },
    {
     "name": "stderr",
     "output_type": "stream",
     "text": [
      "C:\\Users\\Emmett Thompson\\AppData\\Local\\Temp\\ipykernel_35212\\260366405.py:71: DeprecationWarning: Conversion of an array with ndim > 0 to a scalar is deprecated, and will error in future. Ensure you extract a single element from your array before performing this operation. (Deprecated NumPy 1.25.)\n",
      "  presleep_events_per_min += [float(total_event/all_chunks_len)]\n",
      " 53%|█████▎    | 9/17 [00:18<00:17,  2.13s/it]"
     ]
    },
    {
     "name": "stdout",
     "output_type": "stream",
     "text": [
      "144\n",
      "29\n"
     ]
    },
    {
     "name": "stderr",
     "output_type": "stream",
     "text": [
      "C:\\Users\\Emmett Thompson\\AppData\\Local\\Temp\\ipykernel_35212\\260366405.py:71: DeprecationWarning: Conversion of an array with ndim > 0 to a scalar is deprecated, and will error in future. Ensure you extract a single element from your array before performing this operation. (Deprecated NumPy 1.25.)\n",
      "  presleep_events_per_min += [float(total_event/all_chunks_len)]\n",
      " 59%|█████▉    | 10/17 [00:21<00:17,  2.50s/it]"
     ]
    },
    {
     "name": "stdout",
     "output_type": "stream",
     "text": [
      "11\n",
      "8\n",
      "4\n"
     ]
    },
    {
     "name": "stderr",
     "output_type": "stream",
     "text": [
      "C:\\Users\\Emmett Thompson\\AppData\\Local\\Temp\\ipykernel_35212\\260366405.py:71: DeprecationWarning: Conversion of an array with ndim > 0 to a scalar is deprecated, and will error in future. Ensure you extract a single element from your array before performing this operation. (Deprecated NumPy 1.25.)\n",
      "  presleep_events_per_min += [float(total_event/all_chunks_len)]\n",
      " 65%|██████▍   | 11/17 [00:24<00:14,  2.38s/it]"
     ]
    },
    {
     "name": "stdout",
     "output_type": "stream",
     "text": [
      "164\n",
      "121\n"
     ]
    },
    {
     "name": "stderr",
     "output_type": "stream",
     "text": [
      "C:\\Users\\Emmett Thompson\\AppData\\Local\\Temp\\ipykernel_35212\\260366405.py:71: DeprecationWarning: Conversion of an array with ndim > 0 to a scalar is deprecated, and will error in future. Ensure you extract a single element from your array before performing this operation. (Deprecated NumPy 1.25.)\n",
      "  presleep_events_per_min += [float(total_event/all_chunks_len)]\n",
      " 71%|███████   | 12/17 [00:25<00:10,  2.11s/it]"
     ]
    },
    {
     "name": "stdout",
     "output_type": "stream",
     "text": [
      "49\n",
      "26\n"
     ]
    },
    {
     "name": "stderr",
     "output_type": "stream",
     "text": [
      "C:\\Users\\Emmett Thompson\\AppData\\Local\\Temp\\ipykernel_35212\\260366405.py:71: DeprecationWarning: Conversion of an array with ndim > 0 to a scalar is deprecated, and will error in future. Ensure you extract a single element from your array before performing this operation. (Deprecated NumPy 1.25.)\n",
      "  presleep_events_per_min += [float(total_event/all_chunks_len)]\n",
      " 76%|███████▋  | 13/17 [00:26<00:07,  1.90s/it]"
     ]
    },
    {
     "name": "stdout",
     "output_type": "stream",
     "text": [
      "43\n",
      "8\n"
     ]
    },
    {
     "name": "stderr",
     "output_type": "stream",
     "text": [
      "C:\\Users\\Emmett Thompson\\AppData\\Local\\Temp\\ipykernel_35212\\260366405.py:71: DeprecationWarning: Conversion of an array with ndim > 0 to a scalar is deprecated, and will error in future. Ensure you extract a single element from your array before performing this operation. (Deprecated NumPy 1.25.)\n",
      "  presleep_events_per_min += [float(total_event/all_chunks_len)]\n",
      " 82%|████████▏ | 14/17 [00:28<00:05,  1.82s/it]"
     ]
    },
    {
     "name": "stdout",
     "output_type": "stream",
     "text": [
      "15\n",
      "8\n"
     ]
    },
    {
     "name": "stderr",
     "output_type": "stream",
     "text": [
      "C:\\Users\\Emmett Thompson\\AppData\\Local\\Temp\\ipykernel_35212\\260366405.py:71: DeprecationWarning: Conversion of an array with ndim > 0 to a scalar is deprecated, and will error in future. Ensure you extract a single element from your array before performing this operation. (Deprecated NumPy 1.25.)\n",
      "  presleep_events_per_min += [float(total_event/all_chunks_len)]\n",
      " 88%|████████▊ | 15/17 [00:30<00:03,  1.71s/it]"
     ]
    },
    {
     "name": "stdout",
     "output_type": "stream",
     "text": [
      "1\n",
      "1\n"
     ]
    },
    {
     "name": "stderr",
     "output_type": "stream",
     "text": [
      "C:\\Users\\Emmett Thompson\\AppData\\Local\\Temp\\ipykernel_35212\\260366405.py:71: DeprecationWarning: Conversion of an array with ndim > 0 to a scalar is deprecated, and will error in future. Ensure you extract a single element from your array before performing this operation. (Deprecated NumPy 1.25.)\n",
      "  presleep_events_per_min += [float(total_event/all_chunks_len)]\n",
      " 94%|█████████▍| 16/17 [00:31<00:01,  1.61s/it]"
     ]
    },
    {
     "name": "stdout",
     "output_type": "stream",
     "text": [
      "9\n",
      "2\n"
     ]
    },
    {
     "name": "stderr",
     "output_type": "stream",
     "text": [
      "C:\\Users\\Emmett Thompson\\AppData\\Local\\Temp\\ipykernel_35212\\260366405.py:71: DeprecationWarning: Conversion of an array with ndim > 0 to a scalar is deprecated, and will error in future. Ensure you extract a single element from your array before performing this operation. (Deprecated NumPy 1.25.)\n",
      "  presleep_events_per_min += [float(total_event/all_chunks_len)]\n",
      "100%|██████████| 17/17 [00:32<00:00,  1.93s/it]\n"
     ]
    }
   ],
   "source": [
    "\n",
    "# load in the presleep data - extract number of sequenes found\n",
    "PP_PATH =  r\"Z:\\projects\\sequence_squad\\revision_data\\emmett_revisions\\Reveiw_Pre_sleep\\second_attempt\\\\\"\n",
    "presleep_events_per_min = []\n",
    "mirs = []\n",
    "\n",
    "# load in sleep time points\n",
    "sleep_time_point_df = pd.read_csv(r'Z:\\projects\\sequence_squad\\ppseq_finalised_publication_data\\expert\\postsleep\\sleep_time_points.csv')\n",
    "# decide when sleep started\n",
    "sleep_start = {}\n",
    "for index,value in enumerate(sleep_time_point_df.approx_sleep_start.values):\n",
    "    mouse = sleep_time_point_df.mir.values[index]\n",
    "    sleep_start[mouse] = value\n",
    "\n",
    "for iteration_ in tqdm(range(len(os.listdir(PP_PATH)[3::]))):\n",
    "    \n",
    "    file_ = os.listdir(PP_PATH)[iteration_]\n",
    "    data_path = os.path.join(PP_PATH,file_)+ r'//_final_analysis_output//'\n",
    "    \n",
    "    total_event = 0\n",
    "    all_chunks_len = 0 \n",
    " \n",
    "    # load in sleep start time \n",
    "    current_sleep_start = sleep_start[file_.split('_run')[0]]\n",
    "    params_file = PP_PATH + file_ + r'\\trainingData\\\\' + 'params_' + file_.split('_run')[0] + '.json'\n",
    "    with open(params_file, 'r') as file:\n",
    "        params = json.load(file)\n",
    "    time_spans = params['time_span']\n",
    "                \n",
    "\n",
    "    for file in os.listdir(data_path):\n",
    "        if 'chunk' in file:\n",
    "            current_data_path = os.path.join(data_path,file)+ r'//'\n",
    "            chunk_time = np.load(current_data_path + 'chunk_time_interval.npy')\n",
    "            replay_clusts = pd.read_csv(current_data_path + 'filtered_replay_clusters_df.csv')\n",
    "            print(len(replay_clusts))\n",
    "            if 'ordering_classification' in list(replay_clusts):\n",
    "                # interval_length = int(file.split('_')[-1].split('to')[-1]) - int(file.split('_')[-1].split('to')[0])\n",
    "                # only sequential events\n",
    "                ## filter this data for sequential ordering\n",
    "                sequential_condition = replay_clusts.ordering_classification == 'sequential'\n",
    "                # filter is set up so that any true will carry forward \n",
    "                filtered_chunk_data = replay_clusts[sequential_condition].reset_index()\n",
    "            \n",
    "                # only rem/nrem events... \n",
    "                ## REM / NREM times only\n",
    "                # load in sleep state scoring\n",
    "                nrem_start_ends,rem_start_ends,mouse_org_data_path,old_data = load_in_sleep_state_scoring(file_.split('_run')[0])\n",
    "                # get relevant rem/nrem times for chunk\n",
    "                chunk_nrem_times = get_chunk_state_times(nrem_start_ends,chunk_time)\n",
    "                chunk_rem_times = get_chunk_state_times(rem_start_ends,chunk_time) \n",
    "                # get spike times relative to chunk:\n",
    "                chunk_number = int(file.split('_')[0][-1])\n",
    "                chunk_start_offset = ([0]+list(np.cumsum(np.diff(time_spans))))[chunk_number-1]\n",
    "                # make relative to start of chunk\n",
    "                fs_event_times = filtered_chunk_data['first_spike_time'].values - chunk_start_offset\n",
    "                # find inds of spike times that are in nrem and rem periods:\n",
    "                idx  = []\n",
    "                for start,end in chunk_nrem_times + chunk_rem_times:\n",
    "                    idx += list(np.where((fs_event_times >= start) & (fs_event_times <= end))[0])\n",
    "                # filter the data frame, only keeping the rows in idx\n",
    "                filtered_chunk_data = filtered_chunk_data.iloc[idx]\n",
    "                filtered_chunk_data = filtered_chunk_data.reset_index(drop=True)\n",
    "                \n",
    "                total_event += len(filtered_chunk_data)\n",
    "                \n",
    "                interval_length = sum([np.diff(item) for item in chunk_nrem_times]) + sum([sum(item) for item in chunk_rem_times])\n",
    "                # interval_length = np.diff(chunk_time)\n",
    "                all_chunks_len += interval_length/60\n",
    "\n",
    "    if all_chunks_len > 0:\n",
    "        presleep_events_per_min += [float(total_event/all_chunks_len)]\n",
    "        mirs += [file_.split('_run')[0]]\n",
    "\n",
    "import pickle\n",
    "with open(r\"Z:\\projects\\sequence_squad\\revision_data\\emmett_revisions\\Replay_plots_remade\\expert\\\\\" + \"processed_replay_data.pkl\", 'rb') as f:\n",
    "    expert_master = pickle.load(f)"
   ]
  },
  {
   "cell_type": "code",
   "execution_count": 35,
   "metadata": {},
   "outputs": [
    {
     "data": {
      "image/png": "[encoded data removed]",
      "text/plain": [
       "<Figure size 200x500 with 1 Axes>"
      ]
     },
     "metadata": {},
     "output_type": "display_data"
    }
   ],
   "source": [
    "import seaborn as sns\n",
    "\n",
    "fig, ax = plt.subplots(1, 1, figsize=(2, 5))\n",
    "\n",
    "for epms in presleep_events_per_min:\n",
    "    ax.plot(0.2,epms,'o', color = 'blue')\n",
    "    \n",
    "ps_rr = expert_master['reactivations_per_min']\n",
    "ax.plot([0.8]*len(ps_rr),ps_rr,'o', color = 'red')\n",
    "\n",
    "plt_df = pd.DataFrame({'group': (['presleep'] * len(presleep_events_per_min)) + (['post sleep'] * len(ps_rr)) , 'replay rate': list(presleep_events_per_min)+list(ps_rr)})\n",
    "ax = sns.boxplot(y='replay rate', x='group', data=plt_df, color='blue', width=.2, zorder=10,\n",
    "                    showcaps=True, boxprops={'facecolor': 'none', \"zorder\": 10},\n",
    "                    showfliers=False, whiskerprops={'linewidth': 2, \"zorder\": 10},\n",
    "                    saturation=1, orient='v')\n",
    "\n",
    "\n",
    "SaveFig('pre-post-replay-rate.pdf',r\"C:\\Users\\Emmett Thompson\\Documents\\plots\\\\\")\n"
   ]
  },
  {
   "cell_type": "code",
   "execution_count": 38,
   "metadata": {},
   "outputs": [
    {
     "data": {
      "image/png": "[encoded data removed]",
      "text/plain": [
       "<Figure size 200x500 with 1 Axes>"
      ]
     },
     "metadata": {},
     "output_type": "display_data"
    }
   ],
   "source": [
    "fig, ax = plt.subplots(1, 1, figsize=(2, 5))\n",
    "for index, mir in enumerate(mirs):\n",
    "    pre_events = presleep_events_per_min[index]\n",
    "    if mir in expert_master['animals']:\n",
    "        post_events = np.array(expert_master['reactivations_per_min'])[np.array(expert_master['animals']) == mir][0]\n",
    "        ax.plot([0.2,0.8],[pre_events,post_events],'o-', color = 'k', alpha = 0.2)\n",
    "        \n",
    "plt_df = pd.DataFrame({'group': (['presleep'] * len(presleep_events_per_min)) + (['post sleep'] * len(ps_rr)) , 'replay rate': list(presleep_events_per_min)+list(ps_rr)})\n",
    "ax = sns.boxplot(y='replay rate', x='group', data=plt_df, color='blue', width=.2, zorder=10,\n",
    "                    showcaps=True, boxprops={'facecolor': 'none', \"zorder\": 10},\n",
    "                    showfliers=False, whiskerprops={'linewidth': 2, \"zorder\": 10},\n",
    "                    saturation=1, orient='v')\n",
    "\n",
    "\n",
    "SaveFig('pre-post-replay-rate-connected.pdf',r\"Z:\\projects\\sequence_squad\\revision_data\\emmett_revisions\\phase1_plots\\presleep\\\\\")"
   ]
  },
  {
   "cell_type": "code",
   "execution_count": 37,
   "metadata": {},
   "outputs": [
    {
     "data": {
      "image/png": "[encoded data removed]",
      "text/plain": [
       "<Figure size 200x500 with 1 Axes>"
      ]
     },
     "metadata": {},
     "output_type": "display_data"
    }
   ],
   "source": [
    "fig, ax = plt.subplots(1, 1, figsize=(2, 5))\n",
    "diffs = []\n",
    "for index, mir in enumerate(mirs):\n",
    "    pre_events = presleep_events_per_min[index]\n",
    "    if mir in expert_master['animals']:\n",
    "        post_events = np.array(expert_master['reactivations_per_min'])[np.array(expert_master['animals']) == mir][0]\n",
    "        diff = post_events - pre_events\n",
    "        diffs += [diff]\n",
    "        ax.plot([0.2],diff,'o', color = 'k', alpha = 0.2)\n",
    "        \n",
    "plt_df = pd.DataFrame({'group': (['replay rates'] * len(diffs)), 'difference: pre to post': diffs})\n",
    "ax = sns.boxplot(y='difference: pre to post', x='group', data=plt_df, width=.2, zorder=10,\n",
    "                    showcaps=True, boxprops={'facecolor': 'none', \"zorder\": 10},\n",
    "                    showfliers=False, whiskerprops={'linewidth': 2, \"zorder\": 10},\n",
    "                    saturation=1, orient='v')\n",
    "\n",
    "\n",
    "SaveFig('pre-post-replay-rate-diff.pdf',r\"Z:\\projects\\sequence_squad\\revision_data\\emmett_revisions\\phase1_plots\\presleep\\\\\")\n"
   ]
  },
  {
   "cell_type": "markdown",
   "metadata": {},
   "source": [
    "# firing rate control"
   ]
  },
  {
   "cell_type": "code",
   "execution_count": null,
   "metadata": {},
   "outputs": [],
   "source": [
    "\n",
    "            "
   ]
  },
  {
   "cell_type": "code",
   "execution_count": 9,
   "metadata": {},
   "outputs": [
    {
     "data": {
      "image/png": "[encoded data removed]",
      "text/plain": [
       "<Figure size 200x500 with 1 Axes>"
      ]
     },
     "metadata": {},
     "output_type": "display_data"
    }
   ],
   "source": [
    "presleep_average_firing_rates = pd.read_csv(r\"Z:\\projects\\sequence_squad\\revision_data\\emmett_revisions\\pre_sleep_processed_data\\presleep_average_firing_rates.csv\")\n",
    "postsleep_average_firing_rates = pd.read_csv(r\"Z:\\projects\\sequence_squad\\revision_data\\emmett_revisions\\replay_rate_old_data\\average_firing_rates.csv\")\n",
    "postsleep_event_details = pd.read_csv(r\"Z:\\projects\\sequence_squad\\revision_data\\emmett_revisions\\pre_sleep_processed_data\\postsleep_event_details.csv\")\n",
    "presleep_event_details = pd.read_csv(r\"Z:\\projects\\sequence_squad\\revision_data\\emmett_revisions\\pre_sleep_processed_data\\presleep_event_details.csv\")\n",
    "\n",
    "\n",
    "bool_1 = []\n",
    "for item in presleep_average_firing_rates.mirs:\n",
    "    if item in presleep_event_details.mirs.values:\n",
    "        bool_1 += [True]\n",
    "    else:\n",
    "        bool_1 += [False]\n",
    "        \n",
    "bool_2 = []\n",
    "for item in postsleep_average_firing_rates.mirs:\n",
    "    if item in postsleep_event_details.mirs.values:\n",
    "        bool_2 += [True]\n",
    "    else:\n",
    "        bool_2 += [False]\n",
    "    \n",
    "pre_fr = []\n",
    "for file in os.listdir(PP_PATH):\n",
    "    if 'run' in file:\n",
    "        mouse = file.split('_run')[0]\n",
    "        if mouse in presleep_average_firing_rates.mirs.values:\n",
    "            indx = np.where(presleep_average_firing_rates.mirs ==  mouse)[0][0]\n",
    "            pre_fr += [presleep_average_firing_rates.average_firing_rates.values[indx]]\n",
    "            \n",
    "post_fr = []\n",
    "for file in os.listdir(PP_PATH):\n",
    "    if 'run' in file:\n",
    "        mouse = file.split('_run')[0]\n",
    "        if mouse in postsleep_average_firing_rates.mirs.values:\n",
    "            indx = np.where(postsleep_average_firing_rates.mirs ==  mouse)[0][0]\n",
    "            post_fr += [postsleep_average_firing_rates.average_firing_rates.values[indx]]\n",
    "        \n",
    "# pre = presleep_average_firing_rates[bool_1].average_firing_rates.values\n",
    "# post = postsleep_average_firing_rates[bool_2].average_firing_rates.values\n",
    "\n",
    "fig, ax = plt.subplots(1, 1, figsize=(2, 5))\n",
    "\n",
    "ax.plot([0.2] * len(pre_fr),pre_fr,'o')\n",
    "ax.plot([0.8] * len(post_fr),post_fr,'o')\n",
    "\n",
    "plt_df = pd.DataFrame({'group': (['presleep'] * len(pre_fr))+(['postsleep'] * len(post_fr)), 'mean firing rate (Hz)': list(pre_fr)+list(post_fr)})\n",
    "ax = sns.boxplot(y='mean firing rate (Hz)', x='group', data=plt_df, width=.2, zorder=10,\n",
    "                    showcaps=True, boxprops={'facecolor': 'none', \"zorder\": 10},\n",
    "                    showfliers=False, whiskerprops={'linewidth': 2, \"zorder\": 10},\n",
    "                    saturation=1, orient='v')\n",
    "\n",
    "ax.set_ylim(0,10)\n",
    "\n",
    "SaveFig('pre-post-firing-rate-control.pdf',r\"C:\\Users\\Emmett Thompson\\Documents\\plots\\\\\")\n",
    "\n"
   ]
  },
  {
   "cell_type": "code",
   "execution_count": 14,
   "metadata": {},
   "outputs": [
    {
     "data": {
      "text/plain": [
       "34"
      ]
     },
     "execution_count": 14,
     "metadata": {},
     "output_type": "execute_result"
    }
   ],
   "source": [
    "len(presleep_average_firing_rates)"
   ]
  },
  {
   "cell_type": "markdown",
   "metadata": {},
   "source": [
    "# preprocess event details"
   ]
  },
  {
   "cell_type": "code",
   "execution_count": 7,
   "metadata": {},
   "outputs": [
    {
     "name": "stderr",
     "output_type": "stream",
     "text": [
      "100%|██████████| 31/31 [06:02<00:00, 11.69s/it]\n"
     ]
    }
   ],
   "source": [
    "\n",
    "\n",
    "PP_PATH =  r\"Z:\\projects\\sequence_squad\\revision_data\\emmett_revisions\\Reveiw_Pre_sleep\\\\\"\n",
    "\n",
    "# PP_PATH =  r\"Z:\\projects\\sequence_squad\\organised_data\\ppseq_data\\finalised_output\\striatum\\paper_submission\\post_sleep\\\\\"\n",
    "number_of_spikes = []\n",
    "event_lengths = []\n",
    "number_of_neurons = []\n",
    "mirs = []\n",
    "for iteration_ in tqdm(range(len(os.listdir(PP_PATH)))):\n",
    "    file_ = os.listdir(PP_PATH)[iteration_]\n",
    "    data_path = os.path.join(PP_PATH,file_)+ r'//_final_analysis_output//'\n",
    "    chunk_number_of_spikes = []\n",
    "    chunk_event_lengths = []\n",
    "    chunk_number_of_neurons = []\n",
    "    for file in os.listdir(data_path):\n",
    "        if 'chunk' in file:\n",
    "            current_data_path = os.path.join(data_path,file)+ r'//'\n",
    "            replay_clusts = pd.read_csv(current_data_path + 'filtered_replay_clusters_df.csv')\n",
    "            if 'ordering_classification' in list(replay_clusts):\n",
    "                filtered_replay_clusts = replay_clusts[replay_clusts.ordering_classification == 'sequential']\n",
    "                chunk_number_of_spikes += [list(filtered_replay_clusts.num_spikes.values)]\n",
    "                chunk_event_lengths += [list(filtered_replay_clusts.event_length.values)]\n",
    "                n_neurons = []\n",
    "                for clusters in filtered_replay_clusts.cluster_neurons:\n",
    "                    n_neurons += [len(np.unique(literal_eval(clusters)))]\n",
    "                chunk_number_of_neurons += [n_neurons]\n",
    "                \n",
    "    mirs += [file_.split('_run')[0]]\n",
    "    number_of_spikes += [chunk_number_of_spikes]\n",
    "    event_lengths += [chunk_event_lengths]\n",
    "    number_of_neurons += [chunk_number_of_neurons]  \n",
    "    \n",
    "out_df = pd.DataFrame({'mirs':mirs,'number_of_spikes_per_event_per_chunk':number_of_spikes,'event_lengths_per_event_per_chunk':event_lengths,'number_of_neurons_per_event_per_chunk':number_of_neurons}) \n",
    "out_df.to_csv(r\"Z:\\projects\\sequence_squad\\revision_data\\emmett_revisions\\pre_sleep_processed_data\\presleep_event_details.csv\",index = False)"
   ]
  },
  {
   "cell_type": "markdown",
   "metadata": {},
   "source": [
    "# load and plot"
   ]
  },
  {
   "cell_type": "code",
   "execution_count": 129,
   "metadata": {},
   "outputs": [],
   "source": [
    "postsleep_event_details = pd.read_csv(r\"Z:\\projects\\sequence_squad\\revision_data\\emmett_revisions\\pre_sleep_processed_data\\postsleep_event_details.csv\")\n",
    "presleep_event_details = pd.read_csv(r\"Z:\\projects\\sequence_squad\\revision_data\\emmett_revisions\\pre_sleep_processed_data\\presleep_event_details.csv\")\n"
   ]
  },
  {
   "cell_type": "code",
   "execution_count": 130,
   "metadata": {},
   "outputs": [
    {
     "name": "stderr",
     "output_type": "stream",
     "text": [
      "c:\\miniconda\\envs\\analysis_main\\lib\\site-packages\\numpy\\_core\\fromnumeric.py:3860: RuntimeWarning: Mean of empty slice.\n",
      "  return _methods._mean(a, axis=axis, dtype=dtype,\n",
      "c:\\miniconda\\envs\\analysis_main\\lib\\site-packages\\numpy\\_core\\_methods.py:145: RuntimeWarning: invalid value encountered in scalar divide\n",
      "  ret = ret.dtype.type(ret / rcount)\n"
     ]
    },
    {
     "data": {
      "image/png": "[encoded data removed]",
      "text/plain": [
       "<Figure size 200x500 with 1 Axes>"
      ]
     },
     "metadata": {},
     "output_type": "display_data"
    }
   ],
   "source": [
    "mean_neurons = []\n",
    "for item in postsleep_event_details.event_lengths_per_event_per_chunk:    \n",
    "    flattened_list = [item for sublist in literal_eval(item) for item in sublist]\n",
    "    mean_neurons += [np.mean(flattened_list)]\n",
    "    \n",
    "pre_mean_neurons = []\n",
    "for item in presleep_event_details.event_lengths_per_event_per_chunk:    \n",
    "    flattened_list = [item for sublist in literal_eval(item) for item in sublist]\n",
    "    pre_mean_neurons += [np.mean(flattened_list)]\n",
    "    \n",
    "fig, ax = plt.subplots(1, 1, figsize=(2, 5))\n",
    "\n",
    "ax.plot([0.8] * len(mean_neurons),mean_neurons,'o')\n",
    "ax.plot([0.2] * len(pre_mean_neurons),pre_mean_neurons,'o')\n",
    "\n",
    "plt_df = pd.DataFrame({'group': (['presleep'] * len(pre_mean_neurons))+(['postsleep'] * len(mean_neurons)), 'mean event lengths (s)': pre_mean_neurons+mean_neurons})\n",
    "ax = sns.boxplot(y='mean event lengths (s)', x='group', data=plt_df, width=.2, zorder=10,\n",
    "                    showcaps=True, boxprops={'facecolor': 'none', \"zorder\": 10},\n",
    "                    showfliers=False, whiskerprops={'linewidth': 2, \"zorder\": 10},\n",
    "                    saturation=1, orient='v')\n",
    "\n",
    "\n",
    "SaveFig('pre-post-event-length.pdf',r\"Z:\\projects\\sequence_squad\\revision_data\\emmett_revisions\\phase1_plots\\presleep\\\\\")"
   ]
  },
  {
   "cell_type": "code",
   "execution_count": 131,
   "metadata": {},
   "outputs": [
    {
     "name": "stdout",
     "output_type": "stream",
     "text": [
      "ShapiroResult(statistic=np.float64(0.9854181555860531), pvalue=np.float64(0.9440877889687044))\n",
      "ShapiroResult(statistic=np.float64(0.9890546809376314), pvalue=np.float64(0.9699504486195011))\n"
     ]
    },
    {
     "data": {
      "text/plain": [
       "TtestResult(statistic=np.float64(-2.952189100461933), pvalue=np.float64(0.00438617673174652), df=np.float64(65.0))"
      ]
     },
     "execution_count": 131,
     "metadata": {},
     "output_type": "execute_result"
    }
   ],
   "source": [
    "\n",
    "\n",
    "# Remove NaN values\n",
    "presleep_clean = np.array(pre_mean_neurons)[~np.isnan(pre_mean_neurons)]\n",
    "post_clean = np.array(mean_neurons)[~np.isnan(mean_neurons)]\n",
    "\n",
    "print(scipy.stats.shapiro(presleep_clean))\n",
    "print(scipy.stats.shapiro(post_clean))\n",
    "\n",
    "#parametric\n",
    "\n",
    "# ind t test\n",
    "scipy.stats.ttest_ind(presleep_clean,post_clean)"
   ]
  },
  {
   "cell_type": "code",
   "execution_count": 132,
   "metadata": {},
   "outputs": [
    {
     "name": "stderr",
     "output_type": "stream",
     "text": [
      "c:\\miniconda\\envs\\analysis_main\\lib\\site-packages\\numpy\\_core\\fromnumeric.py:3860: RuntimeWarning: Mean of empty slice.\n",
      "  return _methods._mean(a, axis=axis, dtype=dtype,\n",
      "c:\\miniconda\\envs\\analysis_main\\lib\\site-packages\\numpy\\_core\\_methods.py:145: RuntimeWarning: invalid value encountered in scalar divide\n",
      "  ret = ret.dtype.type(ret / rcount)\n"
     ]
    },
    {
     "data": {
      "image/png": "[encoded data removed]",
      "text/plain": [
       "<Figure size 200x500 with 1 Axes>"
      ]
     },
     "metadata": {},
     "output_type": "display_data"
    }
   ],
   "source": [
    "mean_neurons = []\n",
    "for item in postsleep_event_details.number_of_neurons_per_event_per_chunk:    \n",
    "    flattened_list = [item for sublist in literal_eval(item) for item in sublist]\n",
    "    mean_neurons += [np.mean(flattened_list)]\n",
    "    \n",
    "pre_mean_neurons = []\n",
    "for item in presleep_event_details.number_of_neurons_per_event_per_chunk:    \n",
    "    flattened_list = [item for sublist in literal_eval(item) for item in sublist]\n",
    "    pre_mean_neurons += [np.mean(flattened_list)]\n",
    "    \n",
    "fig, ax = plt.subplots(1, 1, figsize=(2, 5))\n",
    "\n",
    "ax.plot([0.8] * len(mean_neurons),mean_neurons,'o')\n",
    "ax.plot([0.2] * len(pre_mean_neurons),pre_mean_neurons,'o')\n",
    "\n",
    "plt_df = pd.DataFrame({'group': (['presleep'] * len(pre_mean_neurons))+(['postsleep'] * len(mean_neurons)), 'neurons per event': pre_mean_neurons+mean_neurons})\n",
    "ax = sns.boxplot(y='neurons per event', x='group', data=plt_df, width=.2, zorder=10,\n",
    "                    showcaps=True, boxprops={'facecolor': 'none', \"zorder\": 10},\n",
    "                    showfliers=False, whiskerprops={'linewidth': 2, \"zorder\": 10},\n",
    "                    saturation=1, orient='v')\n",
    "\n",
    "SaveFig('neurons-per-event.pdf',r\"Z:\\projects\\sequence_squad\\revision_data\\emmett_revisions\\phase1_plots\\presleep\\\\\")"
   ]
  },
  {
   "cell_type": "code",
   "execution_count": null,
   "metadata": {},
   "outputs": [
    {
     "name": "stdout",
     "output_type": "stream",
     "text": [
      "ShapiroResult(statistic=np.float64(0.9426393607836691), pvalue=np.float64(0.10714487311900522))\n",
      "ShapiroResult(statistic=np.float64(0.9191407241432415), pvalue=np.float64(0.01048400938724851))\n"
     ]
    },
    {
     "data": {
      "text/plain": [
       "RanksumsResult(statistic=np.float64(-1.0339237932144132), pvalue=np.float64(0.3011717908311138))"
      ]
     },
     "execution_count": 133,
     "metadata": {},
     "output_type": "execute_result"
    }
   ],
   "source": [
    "\n",
    "# Remove NaN values\n",
    "presleep_clean = np.array(pre_mean_neurons)[~np.isnan(pre_mean_neurons)]\n",
    "post_clean = np.array(mean_neurons)[~np.isnan(mean_neurons)]\n",
    "\n",
    "print(scipy.stats.shapiro(presleep_clean))\n",
    "print(scipy.stats.shapiro(post_clean))\n",
    "\n",
    "#non parametric\n",
    "\n",
    "#indipendent, Wilcoxon Rank-Sum test\n",
    "scipy.stats.ranksums(presleep_clean,post_clean)"
   ]
  },
  {
   "cell_type": "code",
   "execution_count": null,
   "metadata": {},
   "outputs": [
    {
     "name": "stderr",
     "output_type": "stream",
     "text": [
      "c:\\miniconda\\envs\\analysis_main\\lib\\site-packages\\numpy\\_core\\fromnumeric.py:3860: RuntimeWarning: Mean of empty slice.\n",
      "  return _methods._mean(a, axis=axis, dtype=dtype,\n",
      "c:\\miniconda\\envs\\analysis_main\\lib\\site-packages\\numpy\\_core\\_methods.py:145: RuntimeWarning: invalid value encountered in scalar divide\n",
      "  ret = ret.dtype.type(ret / rcount)\n"
     ]
    },
    {
     "data": {
      "image/png": "[encoded data removed]",
      "text/plain": [
       "<Figure size 200x500 with 1 Axes>"
      ]
     },
     "metadata": {},
     "output_type": "display_data"
    }
   ],
   "source": [
    "mean_neurons = []\n",
    "for item in postsleep_event_details.number_of_spikes_per_event_per_chunk:    \n",
    "    flattened_list = [item for sublist in literal_eval(item) for item in sublist]\n",
    "    mean_neurons += [np.mean(flattened_list)]\n",
    "    \n",
    "pre_mean_neurons = []\n",
    "for item in presleep_event_details.number_of_spikes_per_event_per_chunk:    \n",
    "    flattened_list = [item for sublist in literal_eval(item) for item in sublist]\n",
    "    pre_mean_neurons += [np.mean(flattened_list)]\n",
    "    \n",
    "fig, ax = plt.subplots(1, 1, figsize=(2, 5))\n",
    "\n",
    "ax.plot([0.8] * len(mean_neurons),mean_neurons,'o')\n",
    "ax.plot([0.2] * len(pre_mean_neurons),pre_mean_neurons,'o')\n",
    "\n",
    "plt_df = pd.DataFrame({'group': (['presleep'] * len(pre_mean_neurons))+(['postsleep'] * len(mean_neurons)), 'mean spikes per event': pre_mean_neurons+mean_neurons})\n",
    "ax = sns.boxplot(y='mean spikes per event', x='group', data=plt_df, width=.2, zorder=10,\n",
    "                    showcaps=True, boxprops={'facecolor': 'none', \"zorder\": 10},\n",
    "                    showfliers=False, whiskerprops={'linewidth': 2, \"zorder\": 10},\n",
    "                    saturation=1, orient='v')\n",
    "\n",
    "SaveFig('pre-post-spikes-per-event.pdf',r\"Z:\\projects\\sequence_squad\\revision_data\\emmett_revisions\\phase1_plots\\presleep\\\\\")"
   ]
  },
  {
   "cell_type": "code",
   "execution_count": null,
   "metadata": {},
   "outputs": [
    {
     "name": "stdout",
     "output_type": "stream",
     "text": [
      "ShapiroResult(statistic=np.float64(0.9736347336727063), pvalue=np.float64(0.6425938122325177))\n",
      "ShapiroResult(statistic=np.float64(0.9745358066407458), pvalue=np.float64(0.5444022319207653))\n"
     ]
    },
    {
     "data": {
      "text/plain": [
       "TtestResult(statistic=np.float64(-2.681469325508937), pvalue=np.float64(0.009281302676323199), df=np.float64(65.0))"
      ]
     },
     "execution_count": 135,
     "metadata": {},
     "output_type": "execute_result"
    }
   ],
   "source": [
    "\n",
    "# Remove NaN values\n",
    "presleep_clean = np.array(pre_mean_neurons)[~np.isnan(pre_mean_neurons)]\n",
    "post_clean = np.array(mean_neurons)[~np.isnan(mean_neurons)]\n",
    "\n",
    "print(scipy.stats.shapiro(presleep_clean))\n",
    "print(scipy.stats.shapiro(post_clean))\n",
    "\n",
    "#parametric\n",
    "\n",
    "# ind t test\n",
    "scipy.stats.ttest_ind(presleep_clean,post_clean)"
   ]
  },
  {
   "cell_type": "code",
   "execution_count": null,
   "metadata": {},
   "outputs": [
    {
     "data": {
      "image/png": "[encoded data removed]",
      "text/plain": [
       "<Figure size 200x500 with 1 Axes>"
      ]
     },
     "metadata": {},
     "output_type": "display_data"
    }
   ],
   "source": []
  },
  {
   "cell_type": "code",
   "execution_count": 137,
   "metadata": {},
   "outputs": [
    {
     "name": "stdout",
     "output_type": "stream",
     "text": [
      "ShapiroResult(statistic=np.float64(0.951025621714755), pvalue=np.float64(0.19460186435686688))\n",
      "ShapiroResult(statistic=np.float64(0.9355716482703269), pvalue=np.float64(0.03704580296968984))\n"
     ]
    },
    {
     "data": {
      "text/plain": [
       "RanksumsResult(statistic=np.float64(-0.10557434432865279), pvalue=np.float64(0.9159200812258538))"
      ]
     },
     "execution_count": 137,
     "metadata": {},
     "output_type": "execute_result"
    }
   ],
   "source": [
    "\n",
    "\n",
    "print(scipy.stats.shapiro(pre))\n",
    "print(scipy.stats.shapiro(post))\n",
    "\n",
    "#non parametric\n",
    "\n",
    "#indipendent, Wilcoxon Rank-Sum test\n",
    "scipy.stats.ranksums(pre,post)"
   ]
  },
  {
   "cell_type": "code",
   "execution_count": null,
   "metadata": {},
   "outputs": [],
   "source": []
  },
  {
   "cell_type": "code",
   "execution_count": null,
   "metadata": {},
   "outputs": [],
   "source": []
  },
  {
   "cell_type": "code",
   "execution_count": null,
   "metadata": {},
   "outputs": [],
   "source": []
  }
 ],
 "metadata": {
  "kernelspec": {
   "display_name": "analysis_main",
   "language": "python",
   "name": "python3"
  },
  "language_info": {
   "codemirror_mode": {
    "name": "ipython",
    "version": 3
   },
   "file_extension": ".py",
   "mimetype": "text/x-python",
   "name": "python",
   "nbconvert_exporter": "python",
   "pygments_lexer": "ipython3",
   "version": "3.10.18"
  }
 },
 "nbformat": 4,
 "nbformat_minor": 2
}
