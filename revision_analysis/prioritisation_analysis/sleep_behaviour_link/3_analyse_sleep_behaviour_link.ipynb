{
 "cells": [
  {
   "cell_type": "markdown",
   "id": "c5f2fea8",
   "metadata": {},
   "source": [
    "# import + functions"
   ]
  },
  {
   "cell_type": "markdown",
   "id": "8d97e1dc",
   "metadata": {},
   "source": [
    "import os"
   ]
  },
  {
   "cell_type": "code",
   "execution_count": null,
   "id": "6a21e9a5",
   "metadata": {},
   "outputs": [],
   "source": [
    "import os\n",
    "import pandas as pd\n",
    "import numpy as np\n",
    "from matplotlib import pyplot as plt  \n",
    "import json"
   ]
  },
  {
   "cell_type": "markdown",
   "id": "fa4eb677",
   "metadata": {},
   "source": [
    "# main"
   ]
  },
  {
   "cell_type": "code",
   "execution_count": 11,
   "id": "4eb9bedd",
   "metadata": {},
   "outputs": [],
   "source": [
    "# pull in the data and calculate deltas\n",
    "data_path = r\"Z:\\projects\\sequence_squad\\revision_data\\emmett_revisions\\sleep_wake_link_data\\replay_to_behaviour\\\\\"\n",
    "\n",
    "replay_type = 'sequential_NREM_and_REM_sleep'\n",
    "## \n",
    "\n",
    "\n"
   ]
  },
  {
   "cell_type": "code",
   "execution_count": 37,
   "id": "3b30d0db",
   "metadata": {},
   "outputs": [
    {
     "name": "stdout",
     "output_type": "stream",
     "text": [
      "Processing EJT136_1_3\n",
      "Loaded replay data for EJT136_1_3 from Z:\\projects\\sequence_squad\\revision_data\\emmett_revisions\\sleep_wake_link_data\\replay_to_behaviour\\\\EJT136_1_3\\replay\\sequential_NREM_and_REM_sleep\\replay_data_variables.json\n",
      "Loaded poke data 2 for Z:\\projects\\sequence_squad\\revision_data\\emmett_revisions\\sleep_wake_link_data\\replay_to_behaviour\\\\EJT136_1_3\\day2_12-11-2021\n",
      "Tracking data 2 found for Z:\\projects\\sequence_squad\\revision_data\\emmett_revisions\\sleep_wake_link_data\\replay_to_behaviour\\\\EJT136_1_3\\day2_12-11-2021\n",
      "Loaded poke data 1 for Z:\\projects\\sequence_squad\\revision_data\\emmett_revisions\\sleep_wake_link_data\\replay_to_behaviour\\\\EJT136_1_3\\day1_11-11-2021\n",
      "Tracking data 1 found for Z:\\projects\\sequence_squad\\revision_data\\emmett_revisions\\sleep_wake_link_data\\replay_to_behaviour\\\\EJT136_1_3\\day1_11-11-2021\n"
     ]
    }
   ],
   "source": [
    "for mir in os.listdir(data_path)[3::]:\n",
    "    print(f\"Processing {mir}\")\n",
    "    current_path = os.path.join(data_path, mir)\n",
    "    # only bother loading any of the data if there is replay data saved out. \n",
    "    if 'replay' in os.listdir(current_path):\n",
    "        replay_path = os.path.join(current_path, 'replay',replay_type)\n",
    "        # load replay json \n",
    "        json_path = replay_path + r'\\replay_data_variables.json'\n",
    "        with open(json_path, 'r') as file:\n",
    "            replay_data = json.load(file)\n",
    "            print(f\"Loaded replay data for {mir} from {json_path}\")\n",
    "            \n",
    "        # load in beahvioural data\n",
    "        for file in os.listdir(current_path):\n",
    "            if 'day2' in file:\n",
    "                day2_path = os.path.join(current_path, file)\n",
    "                if 'processed' in os.listdir(day2_path):\n",
    "                    processed_poke_data_2 = pd.read_csv(os.path.join(day2_path, 'processed', 'processed_poke_data_2.csv'))\n",
    "                    print(f\"Loaded poke data 2 for {day2_path}\")\n",
    "                    try:\n",
    "                        processed_tracking_data_2 = pd.read_csv(os.path.join(day2_path, 'processed', 'processed_tracking_data.csv'))\n",
    "                        Tracking = True\n",
    "                        print(f\"Tracking data 2 found for {day2_path}\")\n",
    "                    except:\n",
    "                        print(f\"Tracking data not found for {day2_path}\")\n",
    "                        Tracking = False\n",
    "        for file in os.listdir(current_path):\n",
    "            if 'day1' in file:\n",
    "                day1_path = os.path.join(current_path, file)\n",
    "                if 'processed' in os.listdir(day1_path):\n",
    "                    processed_poke_data_1 = pd.read_csv(os.path.join(day1_path, 'processed', 'processed_poke_data_1.csv'))\n",
    "                    print(f\"Loaded poke data 1 for {day1_path}\")\n",
    "                    try:\n",
    "                        processed_tracking_data_1 = pd.read_csv(os.path.join(day1_path, 'processed', 'processed_tracking_data.csv'))\n",
    "                        Tracking = True\n",
    "                        print(f\"Tracking data 1 found for {day1_path}\")\n",
    "                    except:\n",
    "                        print(f\"Tracking data not found for {day1_path}\")\n",
    "                        Tracking = False\n",
    "                        \n",
    "    break\n",
    "        "
   ]
  },
  {
   "cell_type": "code",
   "execution_count": 51,
   "id": "384938e6",
   "metadata": {},
   "outputs": [],
   "source": [
    "## calculate behvaioural deltas\n",
    "delta_behavioural_data = processed_poke_data_2 - processed_poke_data_1\n",
    "if Tracking:\n",
    "    delta_tracking_data = processed_tracking_data_2 - processed_tracking_data_1"
   ]
  },
  {
   "cell_type": "code",
   "execution_count": 54,
   "id": "f002d8ac",
   "metadata": {},
   "outputs": [
    {
     "data": {
      "text/html": [
       "<div>\n",
       "<style scoped>\n",
       "    .dataframe tbody tr th:only-of-type {\n",
       "        vertical-align: middle;\n",
       "    }\n",
       "\n",
       "    .dataframe tbody tr th {\n",
       "        vertical-align: top;\n",
       "    }\n",
       "\n",
       "    .dataframe thead th {\n",
       "        text-align: right;\n",
       "    }\n",
       "</style>\n",
       "<table border=\"1\" class=\"dataframe\">\n",
       "  <thead>\n",
       "    <tr style=\"text-align: right;\">\n",
       "      <th></th>\n",
       "      <th>num_trials</th>\n",
       "      <th>correct_transit_rate</th>\n",
       "      <th>error_transit_rate</th>\n",
       "      <th>neutral_transit_rate</th>\n",
       "      <th>perf_score</th>\n",
       "      <th>total_transitions</th>\n",
       "      <th>transits_per_reward</th>\n",
       "      <th>seconds_per_reward</th>\n",
       "    </tr>\n",
       "  </thead>\n",
       "  <tbody>\n",
       "    <tr>\n",
       "      <th>0</th>\n",
       "      <td>92</td>\n",
       "      <td>-0.080249</td>\n",
       "      <td>0.075162</td>\n",
       "      <td>0.005087</td>\n",
       "      <td>-0.286907</td>\n",
       "      <td>1752</td>\n",
       "      <td>2.116936</td>\n",
       "      <td>-6.390712</td>\n",
       "    </tr>\n",
       "  </tbody>\n",
       "</table>\n",
       "</div>"
      ],
      "text/plain": [
       "   num_trials  correct_transit_rate  error_transit_rate  neutral_transit_rate  \\\n",
       "0          92             -0.080249            0.075162              0.005087   \n",
       "\n",
       "   perf_score  total_transitions  transits_per_reward  seconds_per_reward  \n",
       "0   -0.286907               1752             2.116936           -6.390712  "
      ]
     },
     "execution_count": 54,
     "metadata": {},
     "output_type": "execute_result"
    }
   ],
   "source": [
    "delta_behavioural_data"
   ]
  },
  {
   "cell_type": "code",
   "execution_count": 53,
   "id": "a0bf5f3c",
   "metadata": {},
   "outputs": [
    {
     "data": {
      "text/html": [
       "<div>\n",
       "<style scoped>\n",
       "    .dataframe tbody tr th:only-of-type {\n",
       "        vertical-align: middle;\n",
       "    }\n",
       "\n",
       "    .dataframe tbody tr th {\n",
       "        vertical-align: top;\n",
       "    }\n",
       "\n",
       "    .dataframe thead th {\n",
       "        text-align: right;\n",
       "    }\n",
       "</style>\n",
       "<table border=\"1\" class=\"dataframe\">\n",
       "  <thead>\n",
       "    <tr style=\"text-align: right;\">\n",
       "      <th></th>\n",
       "      <th>sequence_motif</th>\n",
       "      <th>mean_h_distance_from_av_mm</th>\n",
       "      <th>std_h_distance_from_av_mm</th>\n",
       "      <th>mean_dtw_distance_from_av_mm</th>\n",
       "      <th>std_dtw_distance_from_av_mm</th>\n",
       "      <th>mean_movement_speed_mm_s</th>\n",
       "      <th>std_movement_speed_mm_s</th>\n",
       "    </tr>\n",
       "  </thead>\n",
       "  <tbody>\n",
       "    <tr>\n",
       "      <th>0</th>\n",
       "      <td>0</td>\n",
       "      <td>0.702269</td>\n",
       "      <td>0.584591</td>\n",
       "      <td>0.084063</td>\n",
       "      <td>-0.042136</td>\n",
       "      <td>13.671231</td>\n",
       "      <td>3.446381</td>\n",
       "    </tr>\n",
       "    <tr>\n",
       "      <th>1</th>\n",
       "      <td>0</td>\n",
       "      <td>-0.231616</td>\n",
       "      <td>-0.070824</td>\n",
       "      <td>-0.239316</td>\n",
       "      <td>-0.108740</td>\n",
       "      <td>5.740315</td>\n",
       "      <td>1.322276</td>\n",
       "    </tr>\n",
       "    <tr>\n",
       "      <th>2</th>\n",
       "      <td>0</td>\n",
       "      <td>-0.193072</td>\n",
       "      <td>0.038966</td>\n",
       "      <td>-1.024002</td>\n",
       "      <td>-0.483729</td>\n",
       "      <td>14.623149</td>\n",
       "      <td>-2.853868</td>\n",
       "    </tr>\n",
       "    <tr>\n",
       "      <th>3</th>\n",
       "      <td>0</td>\n",
       "      <td>0.102085</td>\n",
       "      <td>0.424722</td>\n",
       "      <td>-0.564206</td>\n",
       "      <td>-0.209347</td>\n",
       "      <td>15.097801</td>\n",
       "      <td>-1.185813</td>\n",
       "    </tr>\n",
       "  </tbody>\n",
       "</table>\n",
       "</div>"
      ],
      "text/plain": [
       "   sequence_motif  mean_h_distance_from_av_mm  std_h_distance_from_av_mm  \\\n",
       "0               0                    0.702269                   0.584591   \n",
       "1               0                   -0.231616                  -0.070824   \n",
       "2               0                   -0.193072                   0.038966   \n",
       "3               0                    0.102085                   0.424722   \n",
       "\n",
       "   mean_dtw_distance_from_av_mm  std_dtw_distance_from_av_mm  \\\n",
       "0                      0.084063                    -0.042136   \n",
       "1                     -0.239316                    -0.108740   \n",
       "2                     -1.024002                    -0.483729   \n",
       "3                     -0.564206                    -0.209347   \n",
       "\n",
       "   mean_movement_speed_mm_s  std_movement_speed_mm_s  \n",
       "0                 13.671231                 3.446381  \n",
       "1                  5.740315                 1.322276  \n",
       "2                 14.623149                -2.853868  \n",
       "3                 15.097801                -1.185813  "
      ]
     },
     "execution_count": 53,
     "metadata": {},
     "output_type": "execute_result"
    }
   ],
   "source": [
    "delta_tracking_data"
   ]
  },
  {
   "cell_type": "code",
   "execution_count": null,
   "id": "3b3d3b3b",
   "metadata": {},
   "outputs": [],
   "source": [
    "# work out what the next steps are...I need to talk to chat gpt\n",
    "# essentially I want to know if replay features can predict the behavioural deltas? \n",
    "# how do I do a regression with muliple predictors and mulitple outcomes? \n",
    "# maybe I cant? Maybe the predictor (replay) variables need to be combined into a single variable? or I need to do a GLM for each? "
   ]
  },
  {
   "cell_type": "code",
   "execution_count": null,
   "id": "3fe7aa80",
   "metadata": {},
   "outputs": [],
   "source": [
    "# looks like I want to use a multivariate regression \n",
    "# I will use the R squared as a meausre of predictive power of the model, and compare this to shuffled replay features. "
   ]
  }
 ],
 "metadata": {
  "kernelspec": {
   "display_name": "base",
   "language": "python",
   "name": "python3"
  },
  "language_info": {
   "codemirror_mode": {
    "name": "ipython",
    "version": 3
   },
   "file_extension": ".py",
   "mimetype": "text/x-python",
   "name": "python",
   "nbconvert_exporter": "python",
   "pygments_lexer": "ipython3",
   "version": "3.12.3"
  }
 },
 "nbformat": 4,
 "nbformat_minor": 5
}
