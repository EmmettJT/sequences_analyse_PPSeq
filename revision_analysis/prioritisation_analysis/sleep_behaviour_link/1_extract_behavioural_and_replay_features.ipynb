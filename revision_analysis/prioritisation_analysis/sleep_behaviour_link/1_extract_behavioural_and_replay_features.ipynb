{
 "cells": [
  {
   "cell_type": "markdown",
   "id": "6782dc6f",
   "metadata": {},
   "source": [
    "# import"
   ]
  },
  {
   "cell_type": "code",
   "execution_count": 23,
   "id": "78aeab70",
   "metadata": {},
   "outputs": [],
   "source": [
    "import numpy as np\n",
    "import pandas as pd\n",
    "import os\n",
    "from IPython.display import display, HTML\n",
    "\n",
    "def get_dlc_data(Tracking_data_path,interp,val):\n",
    "    # Load in '.h5' file:\n",
    "    h5_read=pd.read_hdf(Tracking_data_path)\n",
    "    # Access the head center      \n",
    "    scorer =  h5_read.columns.tolist()[0][0]\n",
    "\n",
    "    colum_headings = h5_read[scorer].columns\n",
    "    bodyparts = np.unique([item[0] for item in colum_headings])\n",
    "\n",
    "    output = {}\n",
    "    for name in bodyparts:\n",
    "        print(name)\n",
    "        dat_ =  h5_read[scorer][name]\n",
    "        if interp:\n",
    "            dat_interped=clean_and_interpolate(dat_,val)\n",
    "        output[name] =[dat_interped]\n",
    "    return output\n",
    "\n",
    "\n",
    "def clean_and_interpolate(data,threshold):\n",
    "\n",
    "    bad_confidence_inds = np.where(data.likelihood.values<threshold)[0]\n",
    "    newx = data.x.values\n",
    "    newx[bad_confidence_inds] = 0\n",
    "    newy = data.y.values\n",
    "    newy[bad_confidence_inds] = 0\n",
    "\n",
    "    start_value_cleanup(newx)\n",
    "    interped_x = interp_0_coords(newx)\n",
    "\n",
    "    start_value_cleanup(newy)\n",
    "    interped_y = interp_0_coords(newy)\n",
    "    \n",
    "    data['interped_x'] = interped_x\n",
    "    data['interped_y'] = interped_y\n",
    "    \n",
    "    return data\n",
    "\n",
    "def start_value_cleanup(coords):\n",
    "    # This is for when the starting value of the coords == 0; interpolation will not work on these coords until the first 0 \n",
    "    #is changed. The 0 value is changed to the first non-zero value in the coords lists\n",
    "    for index, value in enumerate(coords):\n",
    "        working = 0\n",
    "        if value > 0:\n",
    "            start_value = value\n",
    "            start_index = index\n",
    "            working = 1\n",
    "            break\n",
    "    if working == 1:\n",
    "        for x in range(start_index):\n",
    "            coords[x] = start_value\n",
    "            \n",
    "def interp_0_coords(coords_list):\n",
    "    #coords_list is one if the outputs of the get_x_y_data = a list of co-ordinate points\n",
    "    for index, value in enumerate(coords_list):\n",
    "        if value == 0:\n",
    "            if coords_list[index-1] > 0:\n",
    "                value_before = coords_list[index-1]\n",
    "                interp_start_index = index-1\n",
    "                \n",
    "\n",
    "        if index < len(coords_list)-1:\n",
    "            if value ==0:\n",
    "                if coords_list[index+1] > 0:\n",
    "                    interp_end_index = index+1\n",
    "                    value_after = coords_list[index+1]\n",
    "                   \n",
    "\n",
    "                    #now code to interpolate over the values\n",
    "                    try:\n",
    "                        interp_diff_index = interp_end_index - interp_start_index\n",
    "                    except UnboundLocalError:\n",
    "#                         print('the first value in list is 0, use the function start_value_cleanup to fix')\n",
    "                        break\n",
    "                 \n",
    "\n",
    "                    new_values = np.linspace(value_before, value_after, interp_diff_index)\n",
    "                    #print(new_values)\n",
    "\n",
    "                    interp_index = interp_start_index+1\n",
    "                    for x in range(interp_diff_index):\n",
    "                        \n",
    "                        coords_list[interp_index] = new_values[x]\n",
    "                        interp_index +=1\n",
    "        if index == len(coords_list)-1:\n",
    "            if value ==0:\n",
    "                for x in range(30):\n",
    "                    coords_list[index-x] = coords_list[index-30]\n",
    "                    #print('')\n",
    "    print('function exiting')\n",
    "    return(coords_list)"
   ]
  },
  {
   "cell_type": "markdown",
   "id": "348ddb5e",
   "metadata": {},
   "source": [
    "# main"
   ]
  },
  {
   "cell_type": "code",
   "execution_count": null,
   "id": "cb74a553",
   "metadata": {},
   "outputs": [],
   "source": [
    "# load in behavioural data from first and second day and extract relevant information\n",
    "\n",
    "# load in replay data from first day and extract relevant information"
   ]
  },
  {
   "cell_type": "code",
   "execution_count": 1,
   "id": "6f10dbee",
   "metadata": {},
   "outputs": [],
   "source": [
    "behaviour_path = r'Z:\\projects\\sequence_squad\\revision_data\\emmett_revisions\\sleep_wake_link_data\\replay_to_behaviour\\\\'"
   ]
  },
  {
   "cell_type": "code",
   "execution_count": null,
   "id": "863fb75a",
   "metadata": {},
   "outputs": [
    {
     "data": {
      "text/html": [
       "<b>Processing data for: AP5R_1_1</b>"
      ],
      "text/plain": [
       "<IPython.core.display.HTML object>"
      ]
     },
     "metadata": {},
     "output_type": "display_data"
    },
    {
     "name": "stdout",
     "output_type": "stream",
     "text": [
      "Processing day2_17-11-2024\n",
      "Processing day1_16-11-2024\n"
     ]
    },
    {
     "data": {
      "text/html": [
       "<b>Processing data for: AP5R_1_2</b>"
      ],
      "text/plain": [
       "<IPython.core.display.HTML object>"
      ]
     },
     "metadata": {},
     "output_type": "display_data"
    },
    {
     "name": "stdout",
     "output_type": "stream",
     "text": [
      "Processing day2_19-11-2024\n",
      "day 2 tracking found\n"
     ]
    }
   ],
   "source": [
    "\n",
    "\n",
    "def load_in_behavioural_data(current_path):\n",
    "\n",
    "    day2_tracking = False\n",
    "    port_tracking2,movement_tracking2,port_tracking1,movement_tracking1 = None, None, None, None\n",
    "    \n",
    "    for day_folder in os.listdir(current_path):\n",
    "        day_path = os.path.join(current_path, day_folder)\n",
    "        if 'day2' in day_path:\n",
    "            print(f'Processing {day_folder}')\n",
    "            for file in os.listdir(day_path):\n",
    "                if file.endswith('.csv'):\n",
    "                    df_2 = pd.read_csv(os.path.join(day_path,file))\n",
    "                if file.endswith('.h5'):\n",
    "                    print('day 2 tracking found')\n",
    "                    day2_tracking = True\n",
    "                    # tracking exists\n",
    "                    if 'port' or 'PORT' in file:\n",
    "                        port_tracking2 = get_dlc_data(os.path.join(day_path, file),interp = True,val = 0.9995)\n",
    "                    else:\n",
    "                        movement_tracking2 = get_dlc_data(os.path.join(day_path, file),interp = True,val = 0.9995)                        \n",
    "    for day_folder in os.listdir(current_path):\n",
    "        day_path = os.path.join(current_path, day_folder)\n",
    "        if 'day1' in day_path:\n",
    "            print(f'Processing {day_folder}')\n",
    "            for file in os.listdir(day_path):\n",
    "                if file.endswith('.csv'):\n",
    "                    df_1 = pd.read_csv(os.path.join(day_path,file))\n",
    "                if day2_tracking:\n",
    "                    # if day 2 tracking exists, then we also load in the day 1 tracking\n",
    "                    if file.endswith('.h5'):\n",
    "                        'day 1 tracking found'\n",
    "                        # tracking exists\n",
    "                        if 'port' or 'PORT' in file:\n",
    "                            port_tracking1 = get_dlc_data(os.path.join(day_path, file),interp = True,val = 0.9995)\n",
    "                        else:\n",
    "                            movement_tracking1 = get_dlc_data(os.path.join(day_path, file),interp = True,val = 0.9995)\n",
    "\n",
    "    return df_1, df_2, movement_tracking1, movement_tracking2, port_tracking1, port_tracking2\n",
    "\n",
    "\n",
    "\n",
    "\n",
    "for m_i_r in os.listdir(behaviour_path):\n",
    "    current_path = os.path.join(behaviour_path, m_i_r)\n",
    "    display(HTML(f\"<b>Processing behavioural data for: {m_i_r}</b>\"))\n",
    "    df_1, df_2, movement_tracking1, movement_tracking2, port_tracking1, port_tracking2 = load_in_behavioural_data(current_path)\n",
    "    "
   ]
  },
  {
   "cell_type": "code",
   "execution_count": 34,
   "id": "02051a49",
   "metadata": {},
   "outputs": [
    {
     "data": {
      "text/plain": [
       "'PreProcessed_RawPokeData.csv'"
      ]
     },
     "execution_count": 34,
     "metadata": {},
     "output_type": "execute_result"
    }
   ],
   "source": [
    "file"
   ]
  },
  {
   "cell_type": "code",
   "execution_count": 26,
   "id": "6f18a73f",
   "metadata": {},
   "outputs": [
    {
     "data": {
      "text/plain": [
       "'Z:\\\\projects\\\\sequence_squad\\\\revision_data\\\\emmett_revisions\\\\sleep_wake_link_data\\\\replay_to_behaviour\\\\\\\\AP5R_1_1\\\\day2_17-11-2024'"
      ]
     },
     "execution_count": 26,
     "metadata": {},
     "output_type": "execute_result"
    }
   ],
   "source": [
    "day_path"
   ]
  },
  {
   "cell_type": "code",
   "execution_count": 19,
   "id": "b8d8d2a7",
   "metadata": {},
   "outputs": [
    {
     "data": {
      "text/plain": [
       "['PreProcessed_RawPokeData.csv']"
      ]
     },
     "execution_count": 19,
     "metadata": {},
     "output_type": "execute_result"
    }
   ],
   "source": [
    "os.listdir(day_path)"
   ]
  },
  {
   "cell_type": "code",
   "execution_count": 18,
   "id": "cafb6853",
   "metadata": {},
   "outputs": [
    {
     "data": {
      "text/plain": [
       "'Z:\\\\projects\\\\sequence_squad\\\\revision_data\\\\emmett_revisions\\\\sleep_wake_link_data\\\\replay_to_behaviour\\\\\\\\SEQ008_1_3\\\\day2_14-11-2024'"
      ]
     },
     "execution_count": 18,
     "metadata": {},
     "output_type": "execute_result"
    }
   ],
   "source": [
    "day_path"
   ]
  },
  {
   "cell_type": "code",
   "execution_count": 17,
   "id": "38ac02a0",
   "metadata": {},
   "outputs": [
    {
     "data": {
      "text/plain": [
       "['PreProcessed_RawPokeData.csv']"
      ]
     },
     "execution_count": 17,
     "metadata": {},
     "output_type": "execute_result"
    }
   ],
   "source": [
    "os.listdir(day_path)"
   ]
  },
  {
   "cell_type": "code",
   "execution_count": 16,
   "id": "6c5d5e02",
   "metadata": {},
   "outputs": [
    {
     "ename": "NameError",
     "evalue": "name 'file' is not defined",
     "output_type": "error",
     "traceback": [
      "\u001b[1;31m---------------------------------------------------------------------------\u001b[0m",
      "\u001b[1;31mNameError\u001b[0m                                 Traceback (most recent call last)",
      "Cell \u001b[1;32mIn[16], line 1\u001b[0m\n\u001b[1;32m----> 1\u001b[0m \u001b[43mfile\u001b[49m\n",
      "\u001b[1;31mNameError\u001b[0m: name 'file' is not defined"
     ]
    }
   ],
   "source": [
    "file"
   ]
  },
  {
   "cell_type": "code",
   "execution_count": 8,
   "id": "a8fd5543",
   "metadata": {},
   "outputs": [
    {
     "data": {
      "text/plain": [
       "'Z:\\\\projects\\\\sequence_squad\\\\revision_data\\\\emmett_revisions\\\\sleep_wake_link_data\\\\replay_to_behaviour\\\\\\\\SEQ008_1_3'"
      ]
     },
     "execution_count": 8,
     "metadata": {},
     "output_type": "execute_result"
    }
   ],
   "source": [
    "current_path"
   ]
  },
  {
   "cell_type": "code",
   "execution_count": null,
   "id": "bbec2cc7",
   "metadata": {},
   "outputs": [
    {
     "data": {
      "text/plain": [
       "['PreProcessed_RawPokeData.csv']"
      ]
     },
     "execution_count": 13,
     "metadata": {},
     "output_type": "execute_result"
    }
   ],
   "source": []
  },
  {
   "cell_type": "code",
   "execution_count": null,
   "id": "bd468162",
   "metadata": {},
   "outputs": [],
   "source": []
  }
 ],
 "metadata": {
  "kernelspec": {
   "display_name": "base",
   "language": "python",
   "name": "python3"
  },
  "language_info": {
   "codemirror_mode": {
    "name": "ipython",
    "version": 3
   },
   "file_extension": ".py",
   "mimetype": "text/x-python",
   "name": "python",
   "nbconvert_exporter": "python",
   "pygments_lexer": "ipython3",
   "version": "3.12.3"
  }
 },
 "nbformat": 4,
 "nbformat_minor": 5
}
