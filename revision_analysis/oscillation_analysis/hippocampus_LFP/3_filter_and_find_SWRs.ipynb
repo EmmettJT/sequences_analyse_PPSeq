{
 "cells": [
  {
   "cell_type": "markdown",
   "id": "c6b600fd",
   "metadata": {},
   "source": [
    "# import and functions "
   ]
  },
  {
   "cell_type": "code",
   "execution_count": null,
   "id": "2f695c44",
   "metadata": {},
   "outputs": [],
   "source": [
    "import os \n",
    "import numpy as np\n",
    "import matplotlib.pyplot as plt\n",
    "import pandas as pd\n",
    "\n",
    "\n",
    "def find_sync_file(mouse_file, animal_dat_path):\n",
    "    ## find sync file: \n",
    "    for item in os.listdir(animal_dat_path):\n",
    "        if mouse_file.split('_')[0] in item:\n",
    "            if mouse_file.split('_')[1] == item[-1]:\n",
    "                for folder in os.listdir(animal_dat_path + item):\n",
    "                    if folder.split('_')[0].split('g')[-1] == mouse_file.split('_')[-1]:\n",
    "                        current_animals_video_path = os.path.join(animal_dat_path + item,folder)+ r\"\\\\video\\tracking\\\\\"\n",
    "                        current_animals_behav_sync_path = os.path.join(animal_dat_path + item,folder)+ r\"\\\\behav_sync\\\\\"\n",
    "                        for stage in os.listdir(current_animals_behav_sync_path):\n",
    "                            if 'postsleep' in stage or 'post_sleep' in stage:\n",
    "                                sync_path = current_animals_behav_sync_path + stage +r\"\\\\\"\n",
    "\n",
    "    if mouse_file == '148_2_2':\n",
    "        sync_df = pd.read_csv(sync_path + r'Postsleep_Ephys_Camera_sync.csv', encoding='cp1252')\n",
    "    else:\n",
    "        sync_df = pd.read_csv(sync_path + r'Postsleep_Ephys_Camera_sync.csv')\n",
    "        \n",
    "    return sync_df \n",
    "\n",
    "def extract_number(filename):\n",
    "    \"\"\"Extracts the numerical part from the filename.\"\"\"\n",
    "    match = re.search(r'channel-(\\d+)', filename)\n",
    "    if match:\n",
    "        return int(match.group(1))\n",
    "    return float('inf')  # Return infinity if no number is found#\n",
    "\n",
    "# new way based on Kime t al Ganguly\n",
    "def butter_bandpass_filter(data, lowcut, highcut, fs, order_hp, order_lp):\n",
    "    nyquist = 0.5 * fs\n",
    "    low = lowcut / nyquist\n",
    "    high = highcut / nyquist\n",
    "\n",
    "    # High-pass filtering\n",
    "    b_hp, a_hp = butter(order_hp, low, btype='high', analog=False)\n",
    "    filtered_hp = filtfilt(b_hp, a_hp, data)\n",
    "\n",
    "    # Low-pass filtering\n",
    "    b_lp, a_lp = butter(order_lp, high, btype='low', analog=False)\n",
    "    filtered_band = filtfilt(b_lp, a_lp, filtered_hp)\n",
    "\n",
    "    return filtered_band\n"
   ]
  },
  {
   "cell_type": "markdown",
   "id": "48d3ced2",
   "metadata": {},
   "source": [
    "# main"
   ]
  },
  {
   "cell_type": "markdown",
   "id": "730bbd85",
   "metadata": {},
   "source": [
    "taken from: https://www.nature.com/articles/nature12112\n",
    "\n",
    " To examine SWRs, the local field potential was band-pass filtered between 150 and 250 Hz, and the absolute value of the Hilbert transform of this filtered signal was then smoothed (Gaussian kernel, s.d. = 12.5 ms). This processed signal was averaged across all tetrodes and ripple events were identified as local peaks with an amplitude greater than 3 s.d. above the mean, using only periods when the rat’s velocity was less than 5 cm s−1. The start and end boundaries for each event were defined as the point when the signal crossed the mean.\n",
    "\n",
    " I will do the same:\n",
    "\n",
    " - bandpass between 150 and 250Hz\n",
    " - absolute value of hilbert transform and smooth (guassian 12.5ms)\n",
    " - average this. \n",
    " - peaks greater than 3.sd are ripples - start and end = mean crossing points"
   ]
  },
  {
   "cell_type": "code",
   "execution_count": null,
   "id": "6c633467",
   "metadata": {},
   "outputs": [],
   "source": []
  },
  {
   "cell_type": "code",
   "execution_count": null,
   "id": "935cbcd9",
   "metadata": {},
   "outputs": [
    {
     "name": "stdout",
     "output_type": "stream",
     "text": [
      "seq006_1_1\n",
      "seq006_1_2\n",
      "seq006_1_3\n",
      "seq006_1_4\n",
      "seq006_1_5\n",
      "seq006_1_6\n",
      "seq007_1_1\n",
      "seq007_1_2\n",
      "seq007_1_3\n"
     ]
    }
   ],
   "source": [
    "# load in the raw LFP data:\n",
    "### secondary processing of the LFP, to create actual LFP averages. \n",
    "LFP_dat_path = r\"Z:\\projects\\sequence_squad\\revision_data\\emmett_revisions\\oscillations\\hippocampus_lfp\\extracted_LFP\\\\\"\n",
    "animal_dat_path = r\"Z:\\projects\\sequence_squad\\revision_data\\organised_data\\animals\\\\\"\n",
    "\n",
    "# check which mice havent been processed yet \n",
    "for mouse in os.listdir(LFP_dat_path):\n",
    "    temp_path = os.path.join(LFP_dat_path,mouse)\n",
    "    if not 'processed_data' in os.listdir(temp_path):\n",
    "        print(mouse)"
   ]
  },
  {
   "cell_type": "code",
   "execution_count": null,
   "id": "d90dd1c6",
   "metadata": {},
   "outputs": [],
   "source": [
    "mouse_file = 'seq006_1_1'\n",
    "\n",
    "mouse_path = os.path.join(LFP_dat_path, mouse_file)\n",
    "data_channels = []\n",
    "channel_names = []\n",
    "for channels in os.listdir(mouse_path):\n",
    "    if 'striatum' in channels:\n",
    "        print(channels)\n",
    "        channel_path = os.path.join(mouse_path, channels)\n",
    "        try:\n",
    "            data_channels += [np.load(channel_path)]\n",
    "        except:\n",
    "            data_channels += [np.load(channel_path, allow_pickle=True)]\n",
    "        channel_names +=[channels]\n",
    "    elif 'timestamps' in channels:\n",
    "        timestamps_df = pd.read_csv(os.path.join(mouse_path, channels))\n",
    "   \n",
    "# reorder them so that they ar ein channel order\n",
    "sorted_inds = np.argsort([extract_number(item) for item in channel_names])\n",
    "channel_names =  np.array(channel_names)[sorted_inds]\n",
    "data_channels = np.array(data_channels)[sorted_inds]    \n",
    "\n",
    "\n",
    "# hack to make sure that timestamps are correct length\n",
    "if not len(data_channels[0]) == len(timestamps_df):\n",
    "    timestamps_df = timestamps_df[0:len(data_channels[0])]\n",
    "    print('timestamps and data channels are not the same length, truncating timestamps to match data channels')\n",
    "            \n",
    "### chop the data down to just the post sleep \n",
    "\n",
    "# load in the sync df to get the start time of the sleep period\n",
    "sync_df = find_sync_file(mouse_file, animal_dat_path)\n",
    "sleep_period_ephys_start_time = sync_df.Camera_time_Ephys_Aligned[0]\n",
    "# make a mask for the sleep period\n",
    "chopping_mask = timestamps_df.ephys_timestamp > sleep_period_ephys_start_time\n",
    "# apply that mask to each channel and the timestamps\n",
    "sleep_period_timestamps_df = timestamps_df[chopping_mask]\n",
    "sleep_period_data_channels = []\n",
    "for i,dat in enumerate(data_channels):\n",
    "    sleep_period_data_channels += [dat[chopping_mask]]"
   ]
  },
  {
   "cell_type": "code",
   "execution_count": null,
   "id": "6748d97b",
   "metadata": {},
   "outputs": [],
   "source": [
    "## chose which channels to keep \n",
    "fig, axs = plt.subplots(len(sleep_period_data_channels), 2, figsize=(7, 4))  # 2 rows, 1 column\n",
    "for i,dat in enumerate(sleep_period_data_channels):\n",
    "    #downsample just for visualisation\n",
    "    dat = dat[::10]\n",
    "    axs[i][0].plot(dat)\n",
    "    axs[i][1].plot(dat[10000:10100])\n",
    "    axs[i][0].set_title(f\"{i} | {channel_names[i]}\", fontsize=6, color = 'red')"
   ]
  },
  {
   "cell_type": "markdown",
   "id": "7c31ca5a",
   "metadata": {},
   "source": [
    "choose non noisy channels and bandpass between 150-250Hz"
   ]
  },
  {
   "cell_type": "code",
   "execution_count": null,
   "id": "47807034",
   "metadata": {},
   "outputs": [
    {
     "ename": "NameError",
     "evalue": "name 'sleep_period_data_channels' is not defined",
     "output_type": "error",
     "traceback": [
      "\u001b[1;31m---------------------------------------------------------------------------\u001b[0m",
      "\u001b[1;31mNameError\u001b[0m                                 Traceback (most recent call last)",
      "Cell \u001b[1;32mIn[4], line 6\u001b[0m\n\u001b[0;32m      4\u001b[0m channel_z \u001b[38;5;241m=\u001b[39m []\n\u001b[0;32m      5\u001b[0m channel_ \u001b[38;5;241m=\u001b[39m []\n\u001b[1;32m----> 6\u001b[0m \u001b[38;5;28;01mfor\u001b[39;00m ind,dat \u001b[38;5;129;01min\u001b[39;00m \u001b[38;5;28menumerate\u001b[39m(\u001b[43msleep_period_data_channels\u001b[49m):\n\u001b[0;32m      7\u001b[0m     \u001b[38;5;28;01mif\u001b[39;00m chosen_channels_bool[ind] \u001b[38;5;241m==\u001b[39m \u001b[38;5;241m1\u001b[39m:\n\u001b[0;32m      8\u001b[0m         channel_z \u001b[38;5;241m+\u001b[39m\u001b[38;5;241m=\u001b[39m [scipy\u001b[38;5;241m.\u001b[39mstats\u001b[38;5;241m.\u001b[39mzscore(dat)]\n",
      "\u001b[1;31mNameError\u001b[0m: name 'sleep_period_data_channels' is not defined"
     ]
    }
   ],
   "source": [
    "### choose channels \n",
    "chosen_channels_bool = [1,1,1,1,1,1,1,1]\n",
    "\n",
    "channel_ = []\n",
    "for ind,dat in enumerate(sleep_period_data_channels):\n",
    "    if chosen_channels_bool[ind] == 1:\n",
    "        channel_ += [dat]\n",
    "lfp_all = np.vstack(channel_)     \n",
    "\n",
    "\n",
    "### !!! this isnt going to work....i fucking low passed the data at 30Hz... so i need to re-extract the hippocampal LFP data from the raw data...\n",
    "\n",
    "\n",
    "#bandpass filter the data\n",
    "fs = 2500  # Sampling frequency\n",
    "lowcut = 150  # Cutoff frequency for high-pass filter (Hz)\n",
    "highcut = 250   # Cutoff frequency for low-pass filter (Hz)\n",
    "order_hp = 2  # Order of the high-pass Butterworth filter\n",
    "order_lp = 2  # Order of the low-pass Butterworth filter\n",
    "delta_filtered_z = butter_bandpass_filter(average_lfp_z, lowcut, highcut, fs, order_hp, order_lp) \n",
    "\n"
   ]
  },
  {
   "cell_type": "markdown",
   "id": "c9519913",
   "metadata": {},
   "source": [
    "compute the hilbert transform for each channel "
   ]
  },
  {
   "cell_type": "code",
   "execution_count": null,
   "id": "5857486d",
   "metadata": {},
   "outputs": [],
   "source": []
  }
 ],
 "metadata": {
  "kernelspec": {
   "display_name": "analysis_main",
   "language": "python",
   "name": "python3"
  },
  "language_info": {
   "codemirror_mode": {
    "name": "ipython",
    "version": 3
   },
   "file_extension": ".py",
   "mimetype": "text/x-python",
   "name": "python",
   "nbconvert_exporter": "python",
   "pygments_lexer": "ipython3",
   "version": "3.10.18"
  }
 },
 "nbformat": 4,
 "nbformat_minor": 5
}
