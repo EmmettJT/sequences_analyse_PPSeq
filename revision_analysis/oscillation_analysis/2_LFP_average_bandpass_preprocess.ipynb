{
 "cells": [
  {
   "cell_type": "code",
   "execution_count": 1,
   "metadata": {},
   "outputs": [],
   "source": [
    "import os\n",
    "import numpy as np\n",
    "import matplotlib.pyplot as plt\n",
    "import pandas as pd\n",
    "import scipy\n",
    "from scipy.signal import butter\n",
    "from scipy.signal import filtfilt\n",
    "import re\n",
    "\n",
    "def find_sync_file(mouse_file, animal_dat_path):\n",
    "    ## find sync file: \n",
    "    for item in os.listdir(animal_dat_path):\n",
    "        if mouse_file.split('_')[0] in item:\n",
    "            if mouse_file.split('_')[1] == item[-1]:\n",
    "                for folder in os.listdir(animal_dat_path + item):\n",
    "                    if folder.split('_')[0][-1] == mouse_file.split('_')[-1]:\n",
    "                        current_animals_video_path = os.path.join(animal_dat_path + item,folder)+ r\"\\\\video\\tracking\\\\\"\n",
    "                        current_animals_behav_sync_path = os.path.join(animal_dat_path + item,folder)+ r\"\\\\behav_sync\\\\\"\n",
    "                        for stage in os.listdir(current_animals_video_path):\n",
    "                            if 'postsleep' in stage:\n",
    "                                sync_path = current_animals_behav_sync_path + stage.split('t')[0] + 't' + '_' + stage.split('t')[-1] + '\\\\'\n",
    "\n",
    "    if mouse_file == '148_2_2':\n",
    "        sync_df = pd.read_csv(sync_path + r'Postsleep_Ephys_Camera_sync.csv', encoding='cp1252')\n",
    "    else:\n",
    "        sync_df = pd.read_csv(sync_path + r'Postsleep_Ephys_Camera_sync.csv')\n",
    "        \n",
    "    return sync_df \n",
    "\n",
    "# new way based on Kime t al Ganguly\n",
    "def butter_bandpass_filter(data, lowcut, highcut, fs, order_hp, order_lp):\n",
    "    nyquist = 0.5 * fs\n",
    "    low = lowcut / nyquist\n",
    "    high = highcut / nyquist\n",
    "\n",
    "    # High-pass filtering\n",
    "    b_hp, a_hp = butter(order_hp, low, btype='high', analog=False)\n",
    "    filtered_hp = filtfilt(b_hp, a_hp, data)\n",
    "\n",
    "    # Low-pass filtering\n",
    "    b_lp, a_lp = butter(order_lp, high, btype='low', analog=False)\n",
    "    filtered_band = filtfilt(b_lp, a_lp, filtered_hp)\n",
    "\n",
    "    return filtered_band\n",
    "\n",
    "def extract_number(filename):\n",
    "    \"\"\"Extracts the numerical part from the filename.\"\"\"\n",
    "    match = re.search(r'channel-(\\d+)', filename)\n",
    "    if match:\n",
    "        return int(match.group(1))\n",
    "    return float('inf')  # Return infinity if no number is found\n",
    "\n",
    "\n"
   ]
  },
  {
   "cell_type": "markdown",
   "metadata": {},
   "source": [
    "paths"
   ]
  },
  {
   "cell_type": "code",
   "execution_count": 16,
   "metadata": {},
   "outputs": [
    {
     "name": "stdout",
     "output_type": "stream",
     "text": [
      "269_1_7\n",
      "270_1_5\n",
      "270_1_6\n",
      "seq006_1_10\n",
      "seq006_1_11\n",
      "seq006_1_8\n",
      "seq006_1_9\n",
      "seq007_1_4\n",
      "seq008_1_3\n"
     ]
    }
   ],
   "source": [
    "### secondary processing of the LFP, to create actual LFP averages. \n",
    "experiment_type = \"expert\"\n",
    "LFP_dat_path = r\"Z:\\projects\\sequence_squad\\revision_data\\emmett_revisions\\oscillations\\striatum_lfp\\\\\" + experiment_type + r'\\\\'\n",
    "animal_dat_path = r'Z:\\projects\\sequence_squad\\organised_data\\animals\\\\'\n",
    "\n",
    "# check which mice havent been processed yet \n",
    "for mouse in os.listdir(LFP_dat_path):\n",
    "    temp_path = os.path.join(LFP_dat_path,mouse)\n",
    "    if not 'processed_data' in os.listdir(temp_path):\n",
    "        print(mouse)"
   ]
  },
  {
   "cell_type": "markdown",
   "metadata": {},
   "source": [
    "load the data for chosen mouse"
   ]
  },
  {
   "cell_type": "code",
   "execution_count": null,
   "metadata": {},
   "outputs": [
    {
     "name": "stdout",
     "output_type": "stream",
     "text": [
      "channel-130_REGION-striatum_LFP_data.npy\n",
      "channel-170_REGION-striatum_LFP_data.npy\n",
      "channel-210_REGION-striatum_LFP_data.npy\n",
      "channel-250_REGION-striatum_LFP_data.npy\n",
      "channel-50_REGION-striatum_LFP_data.npy\n",
      "channel-90_REGION-striatum_LFP_data.npy\n"
     ]
    }
   ],
   "source": [
    "mouse_file = '269_1_7'\n",
    "\n",
    "mouse_path = os.path.join(LFP_dat_path, mouse_file)\n",
    "data_channels = []\n",
    "channel_names = []\n",
    "for channels in os.listdir(mouse_path):\n",
    "    if 'striatum' in channels:\n",
    "        print(channels)\n",
    "        channel_path = os.path.join(mouse_path, channels)\n",
    "        try:\n",
    "            data_channels += [np.load(channel_path)]\n",
    "        except:\n",
    "            data_channels += [np.load(channel_path, allow_pickle=True)]\n",
    "        channel_names +=[channels]\n",
    "    elif 'timestamps' in channels:\n",
    "        timestamps_df = pd.read_csv(os.path.join(mouse_path, channels))\n",
    "   \n",
    "# reorder them so that they ar ein channel order\n",
    "sorted_inds = np.argsort([extract_number(item) for item in channel_names])\n",
    "channel_names =  np.array(channel_names)[sorted_inds]\n",
    "data_channels = np.array(data_channels)[sorted_inds]    \n",
    "\n",
    "\n",
    "# hack to make sure that timestamps are correct length\n",
    "if not len(data_channels[0]) == len(timestamps_df):\n",
    "    timestamps_df = timestamps_df[0:len(data_channels[0])]\n",
    "    print('timestamps and data channels are not the same length, truncating timestamps to match data channels')\n",
    "            \n",
    "### chop the data down to just the post sleep \n",
    "\n",
    "# load in the sync df to get the start time of the sleep period\n",
    "sync_df = find_sync_file(mouse_file, animal_dat_path)\n",
    "sleep_period_ephys_start_time = sync_df.Camera_time_Ephys_Aligned[0]\n",
    "# make a mask for the sleep period\n",
    "chopping_mask = timestamps_df.ephys_timestamp > sleep_period_ephys_start_time\n",
    "# apply that mask to each channel and the timestamps\n",
    "sleep_period_timestamps_df = timestamps_df[chopping_mask]\n",
    "sleep_period_data_channels = []\n",
    "for i,dat in enumerate(data_channels):\n",
    "    sleep_period_data_channels += [dat[chopping_mask]]\n"
   ]
  },
  {
   "cell_type": "markdown",
   "metadata": {},
   "source": [
    "plot the channels"
   ]
  },
  {
   "cell_type": "code",
   "execution_count": null,
   "metadata": {},
   "outputs": [],
   "source": [
    "## chose which channels to keep \n",
    "fig, axs = plt.subplots(len(sleep_period_data_channels), 2, figsize=(7, 4))  # 2 rows, 1 column\n",
    "for i,dat in enumerate(sleep_period_data_channels):\n",
    "    #downsample just for visualisation\n",
    "    dat = dat[::10]\n",
    "    axs[i][0].plot(dat)\n",
    "    axs[i][1].plot(dat[10000:10100])\n",
    "    axs[i][0].set_title(f\"{i} | {channel_names[i]}\", fontsize=6, color = 'red')"
   ]
  },
  {
   "cell_type": "markdown",
   "metadata": {},
   "source": [
    "choose non noisy channels and make an average "
   ]
  },
  {
   "cell_type": "code",
   "execution_count": null,
   "metadata": {},
   "outputs": [],
   "source": [
    "### choose channels \n",
    "chosen_channels_bool = [1,1,1,1,1,0]\n",
    "\n",
    "channel_z = []\n",
    "channel_ = []\n",
    "for ind,dat in enumerate(sleep_period_data_channels):\n",
    "    if chosen_channels_bool[ind] == 1:\n",
    "        channel_z += [scipy.stats.zscore(dat)]\n",
    "        channel_ += [dat]\n",
    "lfp_all_z = np.vstack(channel_z) \n",
    "lfp_all = np.vstack(channel_)     \n",
    "# Avg all channels\n",
    "average_lfp_z = lfp_all_z.mean(axis=0) # AVG\n",
    "average_lfp = lfp_all.mean(axis=0) # AVG\n",
    "\n",
    "fig, axs = plt.subplots(2, 2, figsize=(7, 2))  # 2 rows, 1 column\n",
    "axs[0][0].plot(average_lfp_z)\n",
    "axs[0][1].plot(average_lfp_z[10000:10100])\n",
    "axs[0][0].set_title(f\"Average z scored LFP\", fontsize=6, color = 'red')\n",
    "\n",
    "axs[1][0].plot(average_lfp)\n",
    "axs[1][1].plot(average_lfp[10000:10100])\n",
    "axs[1][0].set_title(f\"Average LFP\", fontsize=6, color = 'red')\n",
    "\n"
   ]
  },
  {
   "cell_type": "markdown",
   "metadata": {},
   "source": [
    "delta bandpass "
   ]
  },
  {
   "cell_type": "code",
   "execution_count": null,
   "metadata": {},
   "outputs": [],
   "source": [
    "## band pass \n",
    "\n",
    "ts = sleep_period_timestamps_df.ephys_timestamp\n",
    "\n",
    "#### filter for delta band:\n",
    "fs = 2500  # Sampling frequency\n",
    "lowcut = 0.5  # Cutoff frequency for high-pass filter (Hz)\n",
    "highcut = 4   # Cutoff frequency for low-pass filter (Hz)\n",
    "order_hp = 2  # Order of the high-pass Butterworth filter\n",
    "order_lp = 2  # Order of the low-pass Butterworth filter\n",
    "delta_filtered_z = butter_bandpass_filter(average_lfp_z, lowcut, highcut, fs, order_hp, order_lp) \n",
    "delta_filtered = butter_bandpass_filter(average_lfp, lowcut, highcut, fs, order_hp, order_lp) \n",
    "\n",
    "fig, axs = plt.subplots(1, 2, figsize=(7, 2))  # 2 rows, 1 column\n",
    "axs[0].plot(ts[20000:40000],delta_filtered[20000:40000])\n",
    "axs[0].set_title(f\"Average delta band pass\", fontsize=6, color = 'blue')\n",
    "axs[1].plot(ts[20000:40000],delta_filtered_z[20000:40000], color = 'red')\n",
    "axs[1].set_title(f\"Average z scored delta band pass\", fontsize=6, color = 'red')"
   ]
  },
  {
   "cell_type": "markdown",
   "metadata": {},
   "source": [
    "spindle bandpass "
   ]
  },
  {
   "cell_type": "code",
   "execution_count": null,
   "metadata": {},
   "outputs": [],
   "source": [
    "\n",
    "\n",
    "#The LFP average was filtered in spindle band (10-14 Hz) through two independent filtering; \n",
    "#the high pass Butterworth filter (6th order, zero phase shifted, with a cutoff at 10 Hz) was applied and \n",
    "#then followed by the low pass Butterworth filter (8th order, zero phase shifted, with a cutoff at 14Hz).\n",
    "lowcut = 9  # Cutoff frequency for high-pass filter (Hz)\n",
    "highcut = 14   # Cutoff frequency for low-pass filter (Hz)\n",
    "order_hp = 6  # Order of the high-pass Butterworth filter\n",
    "order_lp = 8  # Order of the low-pass Butterworth filter\n",
    "\n",
    "spindle_filtered = butter_bandpass_filter(average_lfp, lowcut, highcut, fs, order_hp, order_lp) # crop for plotting\n",
    "spindle_filtered_z = butter_bandpass_filter(average_lfp_z, lowcut, highcut, fs, order_hp, order_lp) # crop for plotting\n",
    "\n",
    "fig, axs = plt.subplots(1, 2, figsize=(7, 2))  # 2 rows, 1 column\n",
    "axs[0].plot(ts[30000:40000],spindle_filtered[30000:40000])\n",
    "axs[0].set_title(f\"Average spindle band pass\", fontsize=6, color = 'blue')\n",
    "axs[1].plot(ts[30000:40000],spindle_filtered_z[30000:40000], color = 'red')\n",
    "axs[1].set_title(f\"Average z spindle band pass\", fontsize=6, color = 'red')\n"
   ]
  },
  {
   "cell_type": "markdown",
   "metadata": {},
   "source": [
    "fast v slow spindle bandpass"
   ]
  },
  {
   "cell_type": "code",
   "execution_count": null,
   "metadata": {},
   "outputs": [],
   "source": [
    "\n",
    "#### fast spindles\n",
    "lowcut = 12  # Cutoff frequency for high-pass filter (Hz)\n",
    "highcut = 16   # Cutoff frequency for low-pass filter (Hz)\n",
    "order_hp = 6  # Order of the high-pass Butterworth filter\n",
    "order_lp = 8  # Order of the low-pass Butterworth filter\n",
    "fast_spindle_filtered = butter_bandpass_filter(average_lfp, lowcut, highcut, fs, order_hp, order_lp)\n",
    "fast_spindle_filtered_z = butter_bandpass_filter(average_lfp_z, lowcut, highcut, fs, order_hp, order_lp)\n",
    "\n",
    "fig, axs = plt.subplots(1, 2, figsize=(7, 2))  # 2 rows, 1 column\n",
    "axs[0].plot(ts[30000:40000],fast_spindle_filtered[30000:40000])\n",
    "axs[0].set_title(f\"Average fast spindle band pass\", fontsize=6, color = 'blue')\n",
    "axs[1].plot(ts[30000:40000],fast_spindle_filtered_z[30000:40000], color = 'red')\n",
    "axs[1].set_title(f\"Average z fast spindle band pass\", fontsize=6, color = 'red')\n",
    "\n",
    "\n",
    "#### slow spindles\n",
    "lowcut = 9  # Cutoff frequency for high-pass filter (Hz)\n",
    "highcut = 12   # Cutoff frequency for low-pass filter (Hz)\n",
    "order_hp = 6  # Order of the high-pass Butterworth filter\n",
    "order_lp = 8  # Order of the low-pass Butterworth filter\n",
    "slow_spindle_filtered = butter_bandpass_filter(average_lfp, lowcut, highcut, fs, order_hp, order_lp)\n",
    "slow_spindle_filtered_z = butter_bandpass_filter(average_lfp_z, lowcut, highcut, fs, order_hp, order_lp)\n",
    "\n",
    "fig, axs = plt.subplots(1, 2, figsize=(7, 2))  # 2 rows, 1 column\n",
    "axs[0].plot(ts[30000:40000],slow_spindle_filtered[30000:40000])\n",
    "axs[0].set_title(f\"Average slow spindle band pass\", fontsize=6, color = 'blue')\n",
    "axs[1].plot(ts[30000:40000],slow_spindle_filtered_z[30000:40000], color = 'red')\n",
    "axs[1].set_title(f\"Average z slow spindle band pass\", fontsize=6, color = 'red')\n"
   ]
  },
  {
   "cell_type": "markdown",
   "metadata": {},
   "source": [
    "save out av lfp and bandpasses"
   ]
  },
  {
   "cell_type": "code",
   "execution_count": null,
   "metadata": {},
   "outputs": [],
   "source": [
    "outpath = mouse_path + '/processed_data/' \n",
    "if not os.path.exists(outpath):\n",
    "    os.makedirs(outpath)\n",
    "\n",
    "np.save(outpath + 'average_lfp.npy',average_lfp)\n",
    "np.save(outpath + 'average_lfp_zscored.npy',average_lfp_z)\n",
    "\n",
    "np.save(outpath + 'delta_bandpassed.npy',delta_filtered)\n",
    "np.save(outpath + 'zscored_delta_bandpassed.npy',delta_filtered_z)\n",
    "\n",
    "np.save(outpath + 'spindle_bandpassed.npy',spindle_filtered)\n",
    "np.save(outpath + 'zscored_spindle_bandpassed.npy',spindle_filtered_z)\n",
    "\n",
    "np.save(outpath + 'fast_spindle_bandpassed.npy',fast_spindle_filtered)\n",
    "np.save(outpath + 'zscored_fast_spindle_bandpassed.npy',fast_spindle_filtered_z)\n",
    "\n",
    "np.save(outpath + 'slow_spindle_bandpassed.npy',slow_spindle_filtered)\n",
    "np.save(outpath + 'zscored_slow_spindle_bandpassed.npy',slow_spindle_filtered_z)\n",
    "\n",
    "print(f'all saved for {mouse_file}!')\n",
    "\n",
    "\n"
   ]
  },
  {
   "cell_type": "code",
   "execution_count": null,
   "metadata": {},
   "outputs": [],
   "source": []
  }
 ],
 "metadata": {
  "kernelspec": {
   "display_name": "Python 3 (ipykernel)",
   "language": "python",
   "name": "python3"
  },
  "language_info": {
   "codemirror_mode": {
    "name": "ipython",
    "version": 3
   },
   "file_extension": ".py",
   "mimetype": "text/x-python",
   "name": "python",
   "nbconvert_exporter": "python",
   "pygments_lexer": "ipython3",
   "version": "3.11.10"
  }
 },
 "nbformat": 4,
 "nbformat_minor": 4
}
