{
 "cells": [
  {
   "cell_type": "code",
   "execution_count": 1,
   "id": "f0a03dd8",
   "metadata": {},
   "outputs": [
    {
     "data": {
      "text/html": [
       "\n",
       "<style>\n",
       "    div#notebook-container    { width: 95%; }\n",
       "    div#menubar-container     { width: 65%; }\n",
       "    div#maintoolbar-container { width: 99%; }\n",
       "</style>\n"
      ],
      "text/plain": [
       "<IPython.core.display.HTML object>"
      ]
     },
     "metadata": {},
     "output_type": "display_data"
    }
   ],
   "source": [
    "### Make notebook wider:\n",
    "\n",
    "from IPython.display import display, HTML\n",
    "\n",
    "display(HTML(data=\"\"\"\n",
    "<style>\n",
    "    div#notebook-container    { width: 95%; }\n",
    "    div#menubar-container     { width: 65%; }\n",
    "    div#maintoolbar-container { width: 99%; }\n",
    "</style>\n",
    "\"\"\"))\n"
   ]
  },
  {
   "cell_type": "code",
   "execution_count": 2,
   "id": "7306c5e2",
   "metadata": {},
   "outputs": [],
   "source": [
    "import os\n",
    "import pandas as pd\n",
    "import os\n",
    "import numpy as np\n",
    "import matplotlib.pyplot as plt\n",
    "from tqdm import tqdm\n",
    "import statistics\n",
    "import json\n",
    "from PIL import Image, ImageDraw, ImageFont\n",
    "import seaborn as sns;\n",
    "import pickle\n",
    "\n",
    "def load_in_paths(pp_file, PP_PATH, DAT_PATH,analysis_folder):\n",
    "    mir = '_'.join(pp_file.split('_')[0:3])\n",
    "    print(str(run_index+1) + '/' + str(len(os.listdir(PP_PATH))-1) + '-------------------------------------------------------------------------')\n",
    "    print(pp_file)\n",
    "    mouse_session_recording = pp_file.split('_')[0] + '_' + pp_file.split('_')[1] + '_' + pp_file.split('_')[2] \n",
    "    skip = False\n",
    "    for item in ignore_list:\n",
    "        if item == mouse_session_recording:\n",
    "            skip = True\n",
    "\n",
    "    save_path = PP_PATH + pp_file + analysis_folder\n",
    "    if not os.path.isdir(save_path):\n",
    "        os.makedirs(save_path)\n",
    "\n",
    "    ## set dat_path:\n",
    "    for file_ in os.listdir(DAT_PATH):\n",
    "        if mouse_session_recording.split('_')[0] in file_:\n",
    "            if mouse_session_recording.split('_')[1] == file_[-1]:\n",
    "                dat_path = os.path.join(DAT_PATH,file_)\n",
    "    for recording in os.listdir(os.path.join(DAT_PATH,dat_path)):\n",
    "        if recording.split('_')[0][9::] == mouse_session_recording.split('_')[-1]:\n",
    "            dat_path = os.path.join(dat_path,recording)\n",
    "\n",
    "    # set tracking path\n",
    "    for file_ in os.listdir(dat_path + r\"\\video\\tracking\\\\\"):\n",
    "        if 'task' in file_:\n",
    "            if not 'clock' in file_:\n",
    "                tracking_path = os.path.join(dat_path + r\"\\video\\tracking\\\\\",file_) + '\\\\'\n",
    "        \n",
    "    tracking_path = dat_path + r\"\\video\\tracking\\\\\"\n",
    "   \n",
    "    return mir,mouse_session_recording,save_path,tracking_path,dat_path\n",
    "                        \n",
    "def load_PPSEQ_data(PP_PATH,pp_file,dat_path):\n",
    "\n",
    "    # -------------------------------------------------------------------------------------------------------------------------------------------------------------------    \n",
    "    ## LOAD \n",
    "    print(\"LOADING PPSEQ DATA\")\n",
    "    print('\\n')\n",
    "    #The assignment history frame (assigment_hist_frame.csv): Spikes by iterations, how each spike is assigned to a sequence ID (in latent_event_hist) or to background (-1)\n",
    "    assignment_history_df = pd.read_csv(PP_PATH + pp_file + r\"\\assigment_hist_frame.csv\")\n",
    "\n",
    "    # latent_event_hist.csv: history of latent events. All latent events across all iterations have a row\n",
    "    latent_event_history_df = pd.read_csv(PP_PATH + pp_file + r\"\\latent_event_hist.csv\")\n",
    "\n",
    "    # seq_type_log_proportions: log p of each type of sequence at each iteration\n",
    "    seq_type_log_proportions_df = pd.read_csv(PP_PATH + pp_file + r\"\\seq_type_log_proportions.csv\")\n",
    "\n",
    "    # neuron_responses.csv: iterations x neurons by 3(number of sequences). Each neuron has three parameters per sequence to describe how it is influenced by each sequence type. \n",
    "    # Each iteration these are resampled, therefore there are number of neurons by iterations by 3 by number of sequences of these numbers.\n",
    "    neuron_response_df = pd.read_csv(PP_PATH + pp_file + r\"\\neuron_response.csv\")\n",
    "\n",
    "\n",
    "    masking = False\n",
    "    for dat_files in os.listdir(PP_PATH + pp_file):\n",
    "        if 'unmasked_spikes' in dat_files:\n",
    "            masking = True\n",
    "            print('masking was used')\n",
    "\n",
    "    if masking == True:\n",
    "        #log_p_hist.csv: the history of the log_p of the model\n",
    "        log_p_hist_df = pd.read_csv(PP_PATH + pp_file + r\"\\test_log_p_hist.csv\")\n",
    "\n",
    "        unmasked_spikes_df = pd.read_csv(PP_PATH + pp_file + r\"\\unmasked_spikes.csv\")\n",
    "    else:\n",
    "        log_p_hist_df = pd.read_csv(PP_PATH + pp_file + r\"\\log_p_hist.csv\")\n",
    "\n",
    "        spikes_file = os.path.join(PP_PATH + pp_file,'trainingData\\\\') + mouse_session_recording + '.txt'\n",
    "        neuron_ids, spike_times= [], []\n",
    "        with open(spikes_file) as f:\n",
    "            for (i, line) in enumerate(f.readlines()):\n",
    "                [neuron_id, spike_time] = line.split(' ', 1)\n",
    "                spike_time = eval(spike_time.split('\\n')[0])\n",
    "                neuron_id = eval(neuron_id.split('\\t')[0])\n",
    "                spike_times.append(spike_time)\n",
    "                neuron_ids.append(neuron_id)\n",
    "        unmasked_spikes_df = pd.DataFrame({'neuron':neuron_ids,'timestamp':spike_times}) \n",
    "\n",
    "    bkgd_log_proportions_array = pd.read_csv(PP_PATH + pp_file + r\"\\bkgd_log_proportions_array.csv\")\n",
    "\n",
    "\n",
    "    # Opening JSON file\n",
    "    f = open(PP_PATH + pp_file + r'\\config_file.json')\n",
    "    # returns JSON object as a dictionary\n",
    "    config = eval(json.load(f))\n",
    "    print(f'      done')\n",
    "\n",
    "    ## LOAD behaviour data\n",
    "    print('\\n')\n",
    "    print(\"LOADING BEHAV DATA\")\n",
    "\n",
    "    ## load in the timespan used for pppseq:\n",
    "    input_params_path = os.path.join(PP_PATH + pp_file,'trainingData\\\\') + ('params_' + mouse_session_recording +'.json')\n",
    "    # Opening JSON file\n",
    "    f = open(input_params_path)\n",
    "    # returns JSON object as \n",
    "    # a dictionary\n",
    "    input_config = json.load(f)\n",
    "    behav_time_interval_start = input_config['time_span']\n",
    "    print(f\"      A corresponding time span has been found. Time span set to {behav_time_interval_start}\")\n",
    "\n",
    "    ### load in data:\n",
    "    for sub_file in os.listdir(dat_path + '\\\\behav_sync\\\\'):\n",
    "        if 'task' in sub_file:\n",
    "            behav_sync_path = dat_path + '\\\\behav_sync\\\\' + sub_file +'\\\\'\n",
    "    behav_sync = pd.read_csv(behav_sync_path + 'Behav_Ephys_Camera_Sync.csv')\n",
    "    transitions = pd.read_csv(behav_sync_path + 'Transition_data_sync.csv')\n",
    "\n",
    "    return assignment_history_df,latent_event_history_df,seq_type_log_proportions_df,neuron_response_df,log_p_hist_df,unmasked_spikes_df,bkgd_log_proportions_array,behav_sync,transitions,behav_time_interval_start\n",
    "\n",
    "def add_sleep_state_to_plot(nrem_start_ends,chunk_interval,offset,ax,c,alph):\n",
    "    \n",
    "    state_times = []\n",
    "    for pair in nrem_start_ends-chunk_interval[0]:\n",
    "        if pair[0] > 0:\n",
    "            if pair[0] < np.diff(chunk_interval)[0]:\n",
    "                x1 = pair[0]+offset\n",
    "                if pair[1]<np.diff(chunk_interval)[0]:\n",
    "                    x2 = pair[-1]+offset\n",
    "                else:\n",
    "                    x2 = np.diff(chunk_interval)[0]+offset\n",
    "                print(x1,x2)\n",
    "                state_times += [[x1,x2]]\n",
    "\n",
    "                ax.axvspan(x1,x2, alpha = alph, color = c)\n",
    "                \n",
    "    return(state_times)\n",
    "\n",
    "\n",
    "def match_state_to_replay_events(filtered_replay_clusters,rem_state_times):\n",
    "\n",
    "    state_event = []\n",
    "    for index, f_spike in enumerate(filtered_replay_clusters.first_spike_time):\n",
    "        e_spike = filtered_replay_clusters.last_spike_time[index]\n",
    "        c_state_event = 'nan'\n",
    "        if len(rem_state_times) > 0:  \n",
    "            for pair in rem_state_times:\n",
    "                #if both inside\n",
    "                if f_spike >= pair[0] and e_spike <= pair[-1]:\n",
    "                    c_state_event=1\n",
    "                    done = 1\n",
    "                elif f_spike >= pair[0] and f_spike <= pair[-1]:\n",
    "                    c_state_event=1      \n",
    "        else:\n",
    "            c_state_event = 0\n",
    "            \n",
    "        if c_state_event == 'nan':\n",
    "            c_state_event = 0\n",
    "            \n",
    "        state_event += [c_state_event]\n",
    "       \n",
    "    return(state_event)\n",
    "\n",
    "def SaveFig(file_name,figure_dir):\n",
    "    if not os.path.isdir(figure_dir):\n",
    "        os.makedirs(figure_dir)\n",
    "    plt.savefig(figure_dir + file_name, bbox_inches='tight')\n",
    "    plt.show()\n",
    "#     plt.close()\n"
   ]
  },
  {
   "cell_type": "code",
   "execution_count": 3,
   "id": "112c815b",
   "metadata": {},
   "outputs": [],
   "source": [
    "# PP_PATH = r\"Z:\\projects\\sequence_squad\\revision_data\\organised_data\\ppseq_data\\output_data\\striatum\\Post_sleep\\\\\"\n",
    "\n",
    "PP_PATH = r\"Z:\\projects\\sequence_squad\\revision_data\\emmett_revisions\\Reveiw_Pre_sleep\\second_attempt\\\\\"\n",
    "\n",
    "# PP_PATH = r\"Z:\\projects\\sequence_squad\\organised_data\\ppseq_data\\output_data\\striatum\\New_Post_sleep\\\\\"\n",
    "DAT_PATH = r\"Z:\\projects\\sequence_squad\\organised_data\\animals\\\\\"\n",
    "\n",
    "analysis_folder = r'\\\\_final_analysis_output\\\\'\n",
    "\n",
    "stage = 'presleep'\n",
    "\n",
    "\n",
    "if stage == 'presleep':\n",
    "    stage = stage + '_'"
   ]
  },
  {
   "cell_type": "code",
   "execution_count": null,
   "id": "ec058b12",
   "metadata": {
    "scrolled": false
   },
   "outputs": [
    {
     "name": "stdout",
     "output_type": "stream",
     "text": [
      "1/19-------------------------------------------------------------------------\n",
      "136_1_3_run_2908025_2041\n",
      "LOADING PPSEQ DATA\n",
      "\n",
      "\n"
     ]
    }
   ],
   "source": [
    "ignore_list= []\n",
    "\n",
    "\n",
    "for run_index,pp_file in enumerate(os.listdir(PP_PATH)):\n",
    "    \n",
    "#     pp_file = '262_1_4_run_2106023_2357'\n",
    "    \n",
    "    if run_index >-1 and 'run' in pp_file:\n",
    "        # load in paths for that specific mouse and recording\n",
    "        mir,mouse_session_recording,save_path,tracking_path,dat_path = load_in_paths(pp_file, PP_PATH, DAT_PATH, analysis_folder)\n",
    "        \n",
    "        \n",
    "#         if os.path.exists(dat_path + r'\\\\ephys\\probeA\\LFP\\nrem_start_ends.npy'):\n",
    "\n",
    "        ## load in PPseq output data\n",
    "        assignment_history_df,latent_event_history_df,seq_type_log_proportions_df,neuron_response_df,log_p_hist_df,unmasked_spikes_df,bkgd_log_proportions_array,behav_sync,transitions,behav_time_interval_start = load_PPSEQ_data(PP_PATH,pp_file,dat_path)\n",
    "\n",
    "\n",
    "        ## load in colors and order from awake data -------------------------------------------------------------------------------------------------------------------------------------------------------------------    \n",
    "        awake_file = False\n",
    "        awake_PP_path = r\"Z:\\projects\\sequence_squad\\ppseq_finalised_publication_data\\expert\\awake\\\\\"\n",
    "        for file_ in os.listdir(awake_PP_path):\n",
    "            if mouse_session_recording in file_:\n",
    "                awake_file = file_\n",
    "        if not awake_file:\n",
    "            awake_PP_path = r\"Z:\\projects\\sequence_squad\\ppseq_finalised_publication_data\\learning\\awake\\\\\"\n",
    "            for file_ in os.listdir(awake_PP_path):\n",
    "                if mouse_session_recording in file_:\n",
    "                    awake_file = file_\n",
    "\n",
    "\n",
    "        print(awake_file)\n",
    "        ordered_preferred_type = pd.read_pickle(awake_PP_path + awake_file + r\"\\analysis_output\\reordered_recolored\\\\\" + 'ordered_preferred_type')\n",
    "        neuron_index = pd.read_pickle(awake_PP_path + awake_file + r\"\\analysis_output\\reordered_recolored\\\\\" + 'neuron_index')\n",
    "        colors = pd.read_pickle(awake_PP_path + awake_file + r\"\\analysis_output\\reordered_recolored\\\\\" + 'colors')\n",
    "        spikes_df = unmasked_spikes_df\n",
    "        colors += ['pink','lightblue', 'k'] \n",
    "\n",
    "        replay_analysis_path = PP_PATH + pp_file + analysis_folder\n",
    "\n",
    "        # #load in spikes \n",
    "        # unfiltered_spikes_data\n",
    "\n",
    "        offset = 0\n",
    "\n",
    "        rem_length_tot = 0\n",
    "        nrem_length_tot = 0\n",
    "        rem_events_tot = 0\n",
    "        nrem_events_tot = 0\n",
    "        bg_time_tot = 0\n",
    "        bg_events_tot = 0\n",
    "        for chunk_file in os.listdir(replay_analysis_path):\n",
    "            if 'chunk' in chunk_file:\n",
    "                print(chunk_file)\n",
    "                unfiltered_spikes_data = pd.read_csv(os.path.join(replay_analysis_path,chunk_file) + \"\\\\unfiltered_spikes_data.csv\")\n",
    "                filtered_replay_clusters = pd.read_csv(os.path.join(replay_analysis_path,chunk_file) + \"\\\\filtered_replay_clusters_df.csv\")\n",
    "\n",
    "\n",
    "                fig, ax = plt.subplots(1, 1,figsize=(20, 8))\n",
    "\n",
    "                ax.set_title('blue = nrem       |      red = rem')\n",
    "\n",
    "\n",
    "                # Define neuron order\n",
    "                neuron_permute_loc = np.zeros(len(neuron_index))\n",
    "                for i in range(len(neuron_index)):\n",
    "                    neuron_permute_loc[i] = int(list(neuron_index).index(i))\n",
    "                neuron_order = neuron_permute_loc[(unfiltered_spikes_data.neuron - 1).astype(int)]\n",
    "\n",
    "\n",
    "\n",
    "                background_keep_mask = (unfiltered_spikes_data.sequence_type_adjusted < 0) | (unfiltered_spikes_data.sequence_type_adjusted >= 7.0)\n",
    "                ax.scatter(unfiltered_spikes_data[background_keep_mask].timestamp, neuron_order[background_keep_mask],\n",
    "                               marker='o', s=40, linewidth=0, color='lightgrey', alpha=0.3)\n",
    "                background_remove_mask = (unfiltered_spikes_data.sequence_type_adjusted >= 0) * \\\n",
    "                                         (unfiltered_spikes_data.sequence_type_adjusted != 7.0) * \\\n",
    "                                         (unfiltered_spikes_data.sequence_type_adjusted != 8.0)\n",
    "                c_ = np.array(colors)[unfiltered_spikes_data[background_remove_mask].sequence_type_adjusted.astype(int)]\n",
    "                ax.scatter(unfiltered_spikes_data.timestamp[background_remove_mask], neuron_order[background_remove_mask],marker = 'o', s=20, linewidth=0,color = c_ ,alpha=0.3)\n",
    "\n",
    "                chunk_interval = np.load(os.path.join(os.path.join(replay_analysis_path,chunk_file),'chunk_time_interval.npy'))\n",
    "\n",
    "\n",
    "                ##### load in rem/nrem data\n",
    "                try:\n",
    "                    nrem_start_ends = np.load(dat_path + r'\\\\ephys\\probeA\\LFP\\nrem_start_ends.npy')\n",
    "                    rem_start_ends = np.load(dat_path + r'\\\\ephys\\probeA\\LFP\\rem_start_ends.npy')\n",
    "                except:\n",
    "                    nrem_start_ends = np.load(dat_path + r'\\\\ephys\\LFP\\\\' + stage + 'nrem_start_ends.npy')\n",
    "                    rem_start_ends = np.load(dat_path + r'\\\\ephys\\LFP\\\\' + stage + 'rem_start_ends.npy')\n",
    "\n",
    "                nrem_state_times = add_sleep_state_to_plot(nrem_start_ends,chunk_interval,offset,ax,'blue',0.1)\n",
    "                rem_state_times = add_sleep_state_to_plot(rem_start_ends,chunk_interval,offset,ax,'red',0.1)\n",
    "\n",
    "                offset += np.diff(chunk_interval)[0]\n",
    "\n",
    "\n",
    "                ##### save figs\n",
    "                chunk_path = replay_analysis_path + chunk_file + '\\\\'\n",
    "\n",
    "                SaveFig('state_scoring_plot.png',chunk_path)\n",
    "\n",
    "                ##### decide what sleep state replay occurs in and add this to the dataframe, event has to start inside that state to be counted\n",
    "\n",
    "                rem_events = match_state_to_replay_events(filtered_replay_clusters,rem_state_times)\n",
    "                nrem_events = match_state_to_replay_events(filtered_replay_clusters,nrem_state_times)\n",
    "\n",
    "\n",
    "                # add t df and save this out \n",
    "\n",
    "                filtered_replay_clusters['rem_events'] = rem_events\n",
    "                filtered_replay_clusters['nrem_events'] = nrem_events\n",
    "                filtered_replay_clusters.to_csv(chunk_path + 'filtered_replay_clusters_df.csv', index=False)\n",
    "\n",
    "                print('--------------------')\n",
    "                print(chunk_path)\n",
    "\n",
    "                np.save(chunk_path + 'nrem_state_times.npy', nrem_state_times) \n",
    "                np.save(chunk_path + 'rem_state_times.npy', rem_state_times)\n",
    "\n",
    "\n",
    "\n",
    "\n",
    "                # add up all time periods\n",
    "                bg_time = np.diff(chunk_interval)[0]\n",
    "\n",
    "                for item in rem_state_times:\n",
    "                    rem_length_tot += np.diff(item)[0]\n",
    "                    bg_time -= np.diff(item)[0]\n",
    "                for item in nrem_state_times:\n",
    "                    nrem_length_tot += np.diff(item)[0]\n",
    "                    bg_time -= np.diff(item)[0]\n",
    "\n",
    "                bg_time_tot += bg_time\n",
    "\n",
    "\n",
    "                ## add up replay events:\n",
    "                rem_events_tot += sum(rem_events)\n",
    "                nrem_events_tot += sum(nrem_events)\n",
    "\n",
    "                bg_events = (len(rem_events) - sum(nrem_events)) - sum(rem_events)\n",
    "                bg_events_tot += bg_events\n",
    "\n",
    "        # save out state replay rate data    \n",
    "        if not nrem_events_tot == 0:\n",
    "            n_rem_rate = nrem_events_tot/nrem_length_tot\n",
    "        else:\n",
    "            n_rem_rate = 'nan'\n",
    "\n",
    "        if not rem_events_tot == 0:\n",
    "            rem_rate = rem_events_tot/rem_length_tot\n",
    "        else:\n",
    "            rem_rate = 'nan'\n",
    "\n",
    "        if not bg_events_tot == 0:\n",
    "            bg_rate = bg_events_tot/bg_time_tot \n",
    "        else:\n",
    "            bg_rate = 'nan'\n",
    "\n",
    "        rates_df = pd.DataFrame({'n_rem_rate': [n_rem_rate],'rem_rate': [rem_rate],'bg_rate': [bg_rate]})\n",
    "        rates_df.to_csv(replay_analysis_path + 'state_rates_df.csv', index=False)\n",
    "            \n",
    "#     break\n",
    "\n",
    "\n",
    "\n",
    "\n"
   ]
  },
  {
   "cell_type": "code",
   "execution_count": 38,
   "id": "990f950c",
   "metadata": {},
   "outputs": [
    {
     "data": {
      "text/plain": [
       "'Z:\\\\projects\\\\sequence_squad\\\\revision_data\\\\organised_data\\\\ppseq_data\\\\output_data\\\\striatum\\\\Post_sleep\\\\\\\\seq007_1_4_run_2405025_0900\\\\\\\\_final_analysis_output\\\\\\\\chunk2_14900to16400\\\\filtered_replay_clusters_df.csv'"
      ]
     },
     "execution_count": 38,
     "metadata": {},
     "output_type": "execute_result"
    }
   ],
   "source": [
    "chunk_path + 'filtered_replay_clusters_df.csv'"
   ]
  },
  {
   "cell_type": "code",
   "execution_count": 35,
   "id": "df6c861a",
   "metadata": {},
   "outputs": [
    {
     "data": {
      "text/plain": [
       "'Z:\\\\projects\\\\sequence_squad\\\\revision_data\\\\organised_data\\\\ppseq_data\\\\output_data\\\\striatum\\\\Post_sleep\\\\\\\\seq007_1_3_run_2905025_0930\\\\\\\\_final_analysis_output\\\\\\\\chunk3_14500to15500\\\\filtered_replay_clusters_df.csv'"
      ]
     },
     "execution_count": 35,
     "metadata": {},
     "output_type": "execute_result"
    }
   ],
   "source": [
    "chunk_path + 'filtered_replay_clusters_df.csv'"
   ]
  },
  {
   "cell_type": "code",
   "execution_count": null,
   "id": "4d6318af",
   "metadata": {},
   "outputs": [],
   "source": []
  },
  {
   "cell_type": "code",
   "execution_count": null,
   "id": "d808a57e",
   "metadata": {},
   "outputs": [],
   "source": []
  },
  {
   "cell_type": "markdown",
   "id": "df2e2b5a",
   "metadata": {},
   "source": [
    "# Across mice state rates"
   ]
  },
  {
   "cell_type": "code",
   "execution_count": 236,
   "id": "381cb873",
   "metadata": {},
   "outputs": [
    {
     "name": "stdout",
     "output_type": "stream",
     "text": [
      "1/37-------------------------------------------------------------------------\n",
      "238_1_5_run_0407023_1954\n",
      "2/37-------------------------------------------------------------------------\n",
      "238_1_6_run_1906023_0628\n",
      "3/37-------------------------------------------------------------------------\n",
      "255_1_1_run_2006023_0409\n",
      "4/37-------------------------------------------------------------------------\n",
      "255_1_2_run_2106023_1837\n",
      "5/37-------------------------------------------------------------------------\n",
      "255_1_4_run_1906023_0133\n",
      "6/37-------------------------------------------------------------------------\n",
      "256_1_1_run_1906023_0053\n",
      "7/37-------------------------------------------------------------------------\n",
      "262_1_1_run_1806023_2129\n",
      "8/37-------------------------------------------------------------------------\n",
      "262_1_2_run_2006023_0238\n",
      "9/37-------------------------------------------------------------------------\n",
      "262_1_4_run_2106023_2357\n",
      "10/37-------------------------------------------------------------------------\n",
      "262_1_5_run_2106023_0729\n",
      "11/37-------------------------------------------------------------------------\n",
      "262_1_6_run_1906023_1532\n",
      "12/37-------------------------------------------------------------------------\n",
      "268_1_2_run_2906023_0109\n",
      "13/37-------------------------------------------------------------------------\n",
      "269_1_1_run_3006023_0438\n",
      "14/37-------------------------------------------------------------------------\n",
      "269_1_2_run_1906023_1423\n",
      "15/37-------------------------------------------------------------------------\n",
      "269_1_3_run_2806023_1335\n",
      "16/37-------------------------------------------------------------------------\n",
      "269_1_4_run_2006023_1200\n",
      "17/37-------------------------------------------------------------------------\n",
      "269_1_5_run_2106023_0508\n",
      "18/37-------------------------------------------------------------------------\n",
      "269_1_6_run_3006023_2113\n",
      "19/37-------------------------------------------------------------------------\n",
      "269_1_7_run_1906023_0852\n",
      "20/37-------------------------------------------------------------------------\n",
      "270_1_1_run_2006023_0408\n",
      "21/37-------------------------------------------------------------------------\n",
      "270_1_3_run_2006023_1428\n",
      "22/37-------------------------------------------------------------------------\n",
      "270_1_5_run_2006023_0041\n",
      "23/37-------------------------------------------------------------------------\n",
      "270_1_6_run_1906023_2327\n"
     ]
    }
   ],
   "source": [
    "#### across mice\n",
    "\n",
    "n_rem_rates = []\n",
    "rem_rates = []\n",
    "bg_rates = []\n",
    "\n",
    "for run_index,pp_file in enumerate(os.listdir(PP_PATH)[15::]):\n",
    "    if run_index >-1 and 'run' in pp_file:\n",
    "        \n",
    "        mir,mouse_session_recording,save_path,tracking_path,dat_path = load_in_paths(pp_file, PP_PATH, DAT_PATH)\n",
    "        \n",
    "        \n",
    "        if os.path.exists(dat_path + r'\\\\ephys\\LFP\\sleep_state_score\\nrem_start_ends.npy'):\n",
    "\n",
    "            replay_analysis_path = PP_PATH + pp_file + r\"\\\\analysis_output\\\\\"\n",
    "            a = pd.read_csv(replay_analysis_path + 'state_rates_df.csv')\n",
    "            \n",
    "            n_rem_rates+=[a.n_rem_rate[0]]\n",
    "            rem_rates+=[a.rem_rate[0]]\n",
    "            bg_rates+=[a.bg_rate[0]]"
   ]
  },
  {
   "cell_type": "code",
   "execution_count": 242,
   "id": "ac4ff688",
   "metadata": {},
   "outputs": [
    {
     "data": {
      "image/png": "[encoded data removed]",
      "text/plain": [
       "<Figure size 640x480 with 1 Axes>"
      ]
     },
     "metadata": {},
     "output_type": "display_data"
    }
   ],
   "source": [
    "for i in range(len(n_rem_rates)):\n",
    "    plt.plot([1,2,3],[n_rem_rates[i],rem_rates[i],bg_rates[i]],'-o')"
   ]
  },
  {
   "cell_type": "code",
   "execution_count": null,
   "id": "9e683c49",
   "metadata": {},
   "outputs": [],
   "source": [
    "# for each replay event plot the movement\n",
    "# plot the normalised delta \n",
    "# plot the theta ratio - "
   ]
  },
  {
   "cell_type": "code",
   "execution_count": null,
   "id": "1d5f5101",
   "metadata": {},
   "outputs": [],
   "source": []
  },
  {
   "cell_type": "code",
   "execution_count": null,
   "id": "ff623cbd",
   "metadata": {},
   "outputs": [],
   "source": []
  },
  {
   "cell_type": "code",
   "execution_count": 239,
   "id": "686eb964",
   "metadata": {},
   "outputs": [],
   "source": [
    "plot_df = pd.DataFrame({'n_rem_rates': n_rem_rates,'rem_rates': rem_rates,'bg_rates': bg_rates})"
   ]
  },
  {
   "cell_type": "code",
   "execution_count": 234,
   "id": "e67fe919",
   "metadata": {},
   "outputs": [
    {
     "data": {
      "text/plain": [
       "[0.2833333333333333,\n",
       " 0.2333333333333333,\n",
       " 0.6431818181818182,\n",
       " 0.2123402818641834,\n",
       " 0.166146982575403,\n",
       " 0.4438469999556624,\n",
       " 0.925197592219092,\n",
       " 0.4479727333285478,\n",
       " 1.2551912320355945,\n",
       " 0.5007859838022825,\n",
       " 0.6656449765600847,\n",
       " 0.3157894736842105,\n",
       " 0.28,\n",
       " 0.4648648648648649,\n",
       " 0.4366806136790503,\n",
       " 0.1109742796783745,\n",
       " 0.3919354838709677,\n",
       " 0.121638483829624,\n",
       " 0.1924414962094158]"
      ]
     },
     "execution_count": 234,
     "metadata": {},
     "output_type": "execute_result"
    }
   ],
   "source": [
    "plt.figure(figsize=(5, 10))\n",
    "ax = sns.boxplot(x=\"experiment\", y=\"perfect score\", linewidth=1, saturation = 1, data=df_perfect_score, \n",
    "                 order=order,  showfliers=False, palette = my_cmap, width = 0.2,\n",
    "                 medianprops={\"linewidth\": 1, \"solid_capstyle\": \"butt\"},boxprops = {\"facecolor\": 'none'}) \n",
    "\n",
    "ax.plot([-.2]*len(df_perfect_score[df_perfect_score.experiment == 'baseline']['perfect score']),df_perfect_score[df_perfect_score.experiment == 'baseline']['perfect score'],'o',color = '#56BEC1',markersize = 10,alpha = 0.8)\n",
    "ax.plot([0.8]*len(df_perfect_score[df_perfect_score.experiment == 'saline']['perfect score']),df_perfect_score[df_perfect_score.experiment == 'saline']['perfect score'],'o',color = '#56BEC1',markersize = 10,alpha = 0.8)\n",
    "ax.plot([1.8]*len(df_perfect_score[df_perfect_score.experiment == 'muscimol']['perfect score']),df_perfect_score[df_perfect_score.experiment == 'muscimol']['perfect score'],'o',color = '#56BEC1',markersize = 10,alpha = 0.8)\n",
    "\n",
    "\n"
   ]
  },
  {
   "cell_type": "code",
   "execution_count": 114,
   "id": "eea52a95",
   "metadata": {},
   "outputs": [
    {
     "data": {
      "text/plain": [
       "'Z:\\\\projects\\\\sequence_squad\\\\organised_data\\\\ppseq_data\\\\output_data\\\\striatum\\\\New_Post_sleep\\\\\\\\'"
      ]
     },
     "execution_count": 114,
     "metadata": {},
     "output_type": "execute_result"
    }
   ],
   "source": [
    "PP_PATH"
   ]
  },
  {
   "cell_type": "code",
   "execution_count": 235,
   "id": "973b4beb",
   "metadata": {},
   "outputs": [
    {
     "data": {
      "text/plain": [
       "[0.2446632692623861,\n",
       " 0.2580428498442401,\n",
       " 0.5462096986715284,\n",
       " 0.3162992350051553,\n",
       " 0.1858182196591743,\n",
       " 0.3529484714668473,\n",
       " 0.9320414044771342,\n",
       " 0.4412694396455194,\n",
       " 1.277275486574283,\n",
       " 0.5419111173673288,\n",
       " 0.5356871084656585,\n",
       " 0.3612214932517527,\n",
       " 0.5735329450216178,\n",
       " 0.6687644381691604,\n",
       " 0.436923104655082,\n",
       " 0.3965144119285693,\n",
       " 0.4655600180107679,\n",
       " 0.404874444763129,\n",
       " 0.3418314783023362]"
      ]
     },
     "execution_count": 235,
     "metadata": {},
     "output_type": "execute_result"
    }
   ],
   "source": [
    "bg_rates"
   ]
  },
  {
   "cell_type": "code",
   "execution_count": 204,
   "id": "50cb6fa2",
   "metadata": {},
   "outputs": [
    {
     "data": {
      "text/plain": [
       "'Z:\\\\projects\\\\sequence_squad\\\\organised_data\\\\ppseq_data\\\\finalised_output\\\\striatum\\\\paper_submission\\\\post_sleep\\\\\\\\255_1_1_run_2006023_0409\\\\\\\\analysis_output\\\\\\\\'"
      ]
     },
     "execution_count": 204,
     "metadata": {},
     "output_type": "execute_result"
    }
   ],
   "source": [
    "replay_analysis_path"
   ]
  },
  {
   "cell_type": "code",
   "execution_count": 129,
   "id": "9190e426",
   "metadata": {},
   "outputs": [],
   "source": [
    "rem_state_times = []"
   ]
  },
  {
   "cell_type": "code",
   "execution_count": 86,
   "id": "82eec5a4",
   "metadata": {},
   "outputs": [],
   "source": [
    "for index,event in rem_events:\n",
    "    if event == nrem_events[index]:\n",
    "        # this meas the event falls into both\n",
    "\n"
   ]
  },
  {
   "cell_type": "code",
   "execution_count": 115,
   "id": "ad59464f",
   "metadata": {},
   "outputs": [
    {
     "data": {
      "text/plain": [
       "69"
      ]
     },
     "execution_count": 115,
     "metadata": {},
     "output_type": "execute_result"
    }
   ],
   "source": [
    "np.sum(rem_events)\n",
    "\n",
    "np.sum(nrem_events)"
   ]
  },
  {
   "cell_type": "code",
   "execution_count": 112,
   "id": "a5129909",
   "metadata": {},
   "outputs": [
    {
     "data": {
      "text/html": [
       "<div>\n",
       "<style scoped>\n",
       "    .dataframe tbody tr th:only-of-type {\n",
       "        vertical-align: middle;\n",
       "    }\n",
       "\n",
       "    .dataframe tbody tr th {\n",
       "        vertical-align: top;\n",
       "    }\n",
       "\n",
       "    .dataframe thead th {\n",
       "        text-align: right;\n",
       "    }\n",
       "</style>\n",
       "<table border=\"1\" class=\"dataframe\">\n",
       "  <thead>\n",
       "    <tr style=\"text-align: right;\">\n",
       "      <th></th>\n",
       "      <th>cluster_seq_type</th>\n",
       "      <th>num_spikes</th>\n",
       "      <th>num_neurons</th>\n",
       "      <th>first_spike_time</th>\n",
       "      <th>event_length</th>\n",
       "      <th>last_spike_time</th>\n",
       "      <th>cluster_spike_times</th>\n",
       "      <th>cluster_neurons</th>\n",
       "      <th>spike_plotting_order</th>\n",
       "      <th>coactive_cluster_group</th>\n",
       "      <th>rem_events</th>\n",
       "      <th>nrem_events</th>\n",
       "    </tr>\n",
       "  </thead>\n",
       "  <tbody>\n",
       "    <tr>\n",
       "      <th>0</th>\n",
       "      <td>2</td>\n",
       "      <td>10</td>\n",
       "      <td>1213.3466</td>\n",
       "      <td>1213.2128</td>\n",
       "      <td>0.1338</td>\n",
       "      <td>1213.3466</td>\n",
       "      <td>[1213.2128, 1213.2257, 1213.2691, 1213.2854, 1...</td>\n",
       "      <td>[7.0, 7.0, 7.0, 7.0, 21.0, 44.0, 44.0, 55.0, 1...</td>\n",
       "      <td>[ 58.  58.  58.  58.  52.  38.  38. 115.  46. ...</td>\n",
       "      <td>0.0</td>\n",
       "      <td>0</td>\n",
       "      <td>0</td>\n",
       "    </tr>\n",
       "    <tr>\n",
       "      <th>1</th>\n",
       "      <td>2</td>\n",
       "      <td>5</td>\n",
       "      <td>1246.3715</td>\n",
       "      <td>1245.5777</td>\n",
       "      <td>0.7938</td>\n",
       "      <td>1246.3715</td>\n",
       "      <td>[1246.3715, 1246.1014, 1246.1383, 1245.5777, 1...</td>\n",
       "      <td>[5.0, 44.0, 44.0, 102.0, 102.0]</td>\n",
       "      <td>[94. 38. 38. 46. 46.]</td>\n",
       "      <td>1.0</td>\n",
       "      <td>0</td>\n",
       "      <td>0</td>\n",
       "    </tr>\n",
       "    <tr>\n",
       "      <th>2</th>\n",
       "      <td>2</td>\n",
       "      <td>36</td>\n",
       "      <td>1271.3310</td>\n",
       "      <td>1270.9381</td>\n",
       "      <td>0.3929</td>\n",
       "      <td>1271.3310</td>\n",
       "      <td>[1271.2254, 1271.1639, 1271.1184, 1271.1685, 1...</td>\n",
       "      <td>[4.0, 5.0, 12.0, 20.0, 20.0, 23.0, 41.0, 46.0,...</td>\n",
       "      <td>[ 42.  94.   4.  86.  86. 119.  45.  41.  41. ...</td>\n",
       "      <td>2.0</td>\n",
       "      <td>0</td>\n",
       "      <td>0</td>\n",
       "    </tr>\n",
       "    <tr>\n",
       "      <th>3</th>\n",
       "      <td>2</td>\n",
       "      <td>9</td>\n",
       "      <td>1300.9456</td>\n",
       "      <td>1300.0387</td>\n",
       "      <td>0.9069</td>\n",
       "      <td>1300.9456</td>\n",
       "      <td>[1300.4561, 1300.5587, 1300.7037, 1300.7505, 1...</td>\n",
       "      <td>[41.0, 41.0, 41.0, 41.0, 46.0, 46.0, 52.0, 54....</td>\n",
       "      <td>[45. 45. 45. 45. 41. 41. 27. 51. 51.]</td>\n",
       "      <td>3.0</td>\n",
       "      <td>0</td>\n",
       "      <td>0</td>\n",
       "    </tr>\n",
       "    <tr>\n",
       "      <th>4</th>\n",
       "      <td>2</td>\n",
       "      <td>33</td>\n",
       "      <td>1312.0769</td>\n",
       "      <td>1311.0613</td>\n",
       "      <td>1.0156</td>\n",
       "      <td>1312.0769</td>\n",
       "      <td>[1311.6418, 1311.6136, 1311.6467, 1311.7189, 1...</td>\n",
       "      <td>[18.0, 41.0, 41.0, 41.0, 44.0, 44.0, 44.0, 55....</td>\n",
       "      <td>[122.  45.  45.  45.  38.  38.  38. 115. 115. ...</td>\n",
       "      <td>4.0</td>\n",
       "      <td>0</td>\n",
       "      <td>0</td>\n",
       "    </tr>\n",
       "    <tr>\n",
       "      <th>...</th>\n",
       "      <td>...</td>\n",
       "      <td>...</td>\n",
       "      <td>...</td>\n",
       "      <td>...</td>\n",
       "      <td>...</td>\n",
       "      <td>...</td>\n",
       "      <td>...</td>\n",
       "      <td>...</td>\n",
       "      <td>...</td>\n",
       "      <td>...</td>\n",
       "      <td>...</td>\n",
       "      <td>...</td>\n",
       "    </tr>\n",
       "    <tr>\n",
       "      <th>340</th>\n",
       "      <td>6</td>\n",
       "      <td>128</td>\n",
       "      <td>1784.7798</td>\n",
       "      <td>1783.6655</td>\n",
       "      <td>1.1143</td>\n",
       "      <td>1784.7798</td>\n",
       "      <td>[1784.7685, 1784.1709, 1784.1847, 1784.1979, 1...</td>\n",
       "      <td>[8.0, 56.0, 56.0, 56.0, 56.0, 57.0, 57.0, 57.0...</td>\n",
       "      <td>[ 62. 108. 108. 108. 108. 105. 105. 105. 105. ...</td>\n",
       "      <td>230.0</td>\n",
       "      <td>1</td>\n",
       "      <td>0</td>\n",
       "    </tr>\n",
       "    <tr>\n",
       "      <th>341</th>\n",
       "      <td>6</td>\n",
       "      <td>48</td>\n",
       "      <td>1787.1267</td>\n",
       "      <td>1786.0388</td>\n",
       "      <td>1.0879</td>\n",
       "      <td>1787.1267</td>\n",
       "      <td>[1786.0733, 1786.106, 1786.0388, 1787.1267, 17...</td>\n",
       "      <td>[1.0, 1.0, 5.0, 5.0, 56.0, 56.0, 57.0, 57.0, 5...</td>\n",
       "      <td>[ 29.  29.  94.  94. 108. 108. 105. 105. 105. ...</td>\n",
       "      <td>155.0</td>\n",
       "      <td>1</td>\n",
       "      <td>0</td>\n",
       "    </tr>\n",
       "    <tr>\n",
       "      <th>342</th>\n",
       "      <td>6</td>\n",
       "      <td>410</td>\n",
       "      <td>1790.2852</td>\n",
       "      <td>1787.7696</td>\n",
       "      <td>2.5156</td>\n",
       "      <td>1790.2852</td>\n",
       "      <td>[1788.6426, 1788.9626, 1788.5757, 1788.6263, 1...</td>\n",
       "      <td>[1.0, 15.0, 27.0, 27.0, 52.0, 56.0, 56.0, 56.0...</td>\n",
       "      <td>[ 29.  25.  28.  28.  27. 108. 108. 108. 108. ...</td>\n",
       "      <td>116.0</td>\n",
       "      <td>1</td>\n",
       "      <td>0</td>\n",
       "    </tr>\n",
       "    <tr>\n",
       "      <th>343</th>\n",
       "      <td>6</td>\n",
       "      <td>13</td>\n",
       "      <td>1795.4951</td>\n",
       "      <td>1795.4845</td>\n",
       "      <td>0.0106</td>\n",
       "      <td>1795.4951</td>\n",
       "      <td>[1795.4942, 1795.4951, 1795.4845, 1795.4897, 1...</td>\n",
       "      <td>[57.0, 57.0, 61.0, 61.0, 61.0, 67.0, 69.0, 71....</td>\n",
       "      <td>[105. 105. 112. 112. 112. 103.  98. 101. 101. ...</td>\n",
       "      <td>231.0</td>\n",
       "      <td>1</td>\n",
       "      <td>0</td>\n",
       "    </tr>\n",
       "    <tr>\n",
       "      <th>344</th>\n",
       "      <td>6</td>\n",
       "      <td>15</td>\n",
       "      <td>1797.9919</td>\n",
       "      <td>1797.9533</td>\n",
       "      <td>0.0386</td>\n",
       "      <td>1797.9919</td>\n",
       "      <td>[1797.9697, 1797.9689, 1797.9735, 1797.9597, 1...</td>\n",
       "      <td>[5.0, 59.0, 68.0, 69.0, 69.0, 69.0, 69.0, 71.0...</td>\n",
       "      <td>[ 94.  97. 106.  98.  98.  98.  98. 101. 101. ...</td>\n",
       "      <td>232.0</td>\n",
       "      <td>1</td>\n",
       "      <td>0</td>\n",
       "    </tr>\n",
       "  </tbody>\n",
       "</table>\n",
       "<p>345 rows × 12 columns</p>\n",
       "</div>"
      ],
      "text/plain": [
       "     cluster_seq_type  num_spikes  num_neurons  first_spike_time  \\\n",
       "0                   2          10    1213.3466         1213.2128   \n",
       "1                   2           5    1246.3715         1245.5777   \n",
       "2                   2          36    1271.3310         1270.9381   \n",
       "3                   2           9    1300.9456         1300.0387   \n",
       "4                   2          33    1312.0769         1311.0613   \n",
       "..                ...         ...          ...               ...   \n",
       "340                 6         128    1784.7798         1783.6655   \n",
       "341                 6          48    1787.1267         1786.0388   \n",
       "342                 6         410    1790.2852         1787.7696   \n",
       "343                 6          13    1795.4951         1795.4845   \n",
       "344                 6          15    1797.9919         1797.9533   \n",
       "\n",
       "     event_length  last_spike_time  \\\n",
       "0          0.1338        1213.3466   \n",
       "1          0.7938        1246.3715   \n",
       "2          0.3929        1271.3310   \n",
       "3          0.9069        1300.9456   \n",
       "4          1.0156        1312.0769   \n",
       "..            ...              ...   \n",
       "340        1.1143        1784.7798   \n",
       "341        1.0879        1787.1267   \n",
       "342        2.5156        1790.2852   \n",
       "343        0.0106        1795.4951   \n",
       "344        0.0386        1797.9919   \n",
       "\n",
       "                                   cluster_spike_times  \\\n",
       "0    [1213.2128, 1213.2257, 1213.2691, 1213.2854, 1...   \n",
       "1    [1246.3715, 1246.1014, 1246.1383, 1245.5777, 1...   \n",
       "2    [1271.2254, 1271.1639, 1271.1184, 1271.1685, 1...   \n",
       "3    [1300.4561, 1300.5587, 1300.7037, 1300.7505, 1...   \n",
       "4    [1311.6418, 1311.6136, 1311.6467, 1311.7189, 1...   \n",
       "..                                                 ...   \n",
       "340  [1784.7685, 1784.1709, 1784.1847, 1784.1979, 1...   \n",
       "341  [1786.0733, 1786.106, 1786.0388, 1787.1267, 17...   \n",
       "342  [1788.6426, 1788.9626, 1788.5757, 1788.6263, 1...   \n",
       "343  [1795.4942, 1795.4951, 1795.4845, 1795.4897, 1...   \n",
       "344  [1797.9697, 1797.9689, 1797.9735, 1797.9597, 1...   \n",
       "\n",
       "                                       cluster_neurons  \\\n",
       "0    [7.0, 7.0, 7.0, 7.0, 21.0, 44.0, 44.0, 55.0, 1...   \n",
       "1                      [5.0, 44.0, 44.0, 102.0, 102.0]   \n",
       "2    [4.0, 5.0, 12.0, 20.0, 20.0, 23.0, 41.0, 46.0,...   \n",
       "3    [41.0, 41.0, 41.0, 41.0, 46.0, 46.0, 52.0, 54....   \n",
       "4    [18.0, 41.0, 41.0, 41.0, 44.0, 44.0, 44.0, 55....   \n",
       "..                                                 ...   \n",
       "340  [8.0, 56.0, 56.0, 56.0, 56.0, 57.0, 57.0, 57.0...   \n",
       "341  [1.0, 1.0, 5.0, 5.0, 56.0, 56.0, 57.0, 57.0, 5...   \n",
       "342  [1.0, 15.0, 27.0, 27.0, 52.0, 56.0, 56.0, 56.0...   \n",
       "343  [57.0, 57.0, 61.0, 61.0, 61.0, 67.0, 69.0, 71....   \n",
       "344  [5.0, 59.0, 68.0, 69.0, 69.0, 69.0, 69.0, 71.0...   \n",
       "\n",
       "                                  spike_plotting_order  \\\n",
       "0    [ 58.  58.  58.  58.  52.  38.  38. 115.  46. ...   \n",
       "1                                [94. 38. 38. 46. 46.]   \n",
       "2    [ 42.  94.   4.  86.  86. 119.  45.  41.  41. ...   \n",
       "3                [45. 45. 45. 45. 41. 41. 27. 51. 51.]   \n",
       "4    [122.  45.  45.  45.  38.  38.  38. 115. 115. ...   \n",
       "..                                                 ...   \n",
       "340  [ 62. 108. 108. 108. 108. 105. 105. 105. 105. ...   \n",
       "341  [ 29.  29.  94.  94. 108. 108. 105. 105. 105. ...   \n",
       "342  [ 29.  25.  28.  28.  27. 108. 108. 108. 108. ...   \n",
       "343  [105. 105. 112. 112. 112. 103.  98. 101. 101. ...   \n",
       "344  [ 94.  97. 106.  98.  98.  98.  98. 101. 101. ...   \n",
       "\n",
       "     coactive_cluster_group  rem_events  nrem_events  \n",
       "0                       0.0           0            0  \n",
       "1                       1.0           0            0  \n",
       "2                       2.0           0            0  \n",
       "3                       3.0           0            0  \n",
       "4                       4.0           0            0  \n",
       "..                      ...         ...          ...  \n",
       "340                   230.0           1            0  \n",
       "341                   155.0           1            0  \n",
       "342                   116.0           1            0  \n",
       "343                   231.0           1            0  \n",
       "344                   232.0           1            0  \n",
       "\n",
       "[345 rows x 12 columns]"
      ]
     },
     "execution_count": 112,
     "metadata": {},
     "output_type": "execute_result"
    }
   ],
   "source": [
    "filtered_replay_clusters"
   ]
  },
  {
   "cell_type": "code",
   "execution_count": 31,
   "id": "873cb731",
   "metadata": {},
   "outputs": [
    {
     "name": "stdout",
     "output_type": "stream",
     "text": [
      "2004.6020747943912 2064.6020747943912\n",
      "2204.6020747943912 2400\n"
     ]
    }
   ],
   "source": [
    "\n",
    "\n",
    "## plot replay rate in each\n",
    "\n",
    "## plot this across mice \n"
   ]
  },
  {
   "cell_type": "code",
   "execution_count": null,
   "id": "573df409",
   "metadata": {},
   "outputs": [],
   "source": []
  },
  {
   "cell_type": "code",
   "execution_count": null,
   "id": "20e5689a",
   "metadata": {},
   "outputs": [],
   "source": []
  },
  {
   "cell_type": "code",
   "execution_count": 16,
   "id": "1ab06761",
   "metadata": {},
   "outputs": [],
   "source": [
    "\n",
    "# plot replay rate in each sleep state\n"
   ]
  },
  {
   "cell_type": "code",
   "execution_count": 80,
   "id": "17acecab",
   "metadata": {},
   "outputs": [
    {
     "data": {
      "text/plain": [
       "array([[1560, 1580],\n",
       "       [1880, 1900],\n",
       "       [1920, 2300],\n",
       "       [2320, 2600],\n",
       "       [2620, 2940],\n",
       "       [3120, 3380],\n",
       "       [3480, 3680],\n",
       "       [3880, 4420],\n",
       "       [4440, 4480],\n",
       "       [4500, 4560],\n",
       "       [4920, 5000],\n",
       "       [5020, 5100],\n",
       "       [5120, 5280],\n",
       "       [5440, 5520],\n",
       "       [5540, 5560],\n",
       "       [5580, 5640]])"
      ]
     },
     "execution_count": 80,
     "metadata": {},
     "output_type": "execute_result"
    }
   ],
   "source": [
    "### chunk is in ephys time \n",
    "\n",
    "## rem and nrem are relative to camera start time\n",
    "\n",
    "## so I need to accoutn for this offset, possibly its easier to change the way I save thes eout so that theya re in ephys timestamps\n",
    "\n",
    "\n",
    "nrem_start_ends"
   ]
  },
  {
   "cell_type": "code",
   "execution_count": null,
   "id": "7c23bc22",
   "metadata": {},
   "outputs": [],
   "source": [
    "### add rem and nrem to plot\n",
    "\n",
    "\n"
   ]
  },
  {
   "cell_type": "code",
   "execution_count": null,
   "id": "68ba3228",
   "metadata": {},
   "outputs": [],
   "source": []
  },
  {
   "cell_type": "code",
   "execution_count": null,
   "id": "5131eec7",
   "metadata": {},
   "outputs": [],
   "source": []
  },
  {
   "cell_type": "code",
   "execution_count": null,
   "id": "e845feb0",
   "metadata": {},
   "outputs": [],
   "source": []
  },
  {
   "cell_type": "code",
   "execution_count": null,
   "id": "98ead16c",
   "metadata": {},
   "outputs": [],
   "source": []
  },
  {
   "cell_type": "code",
   "execution_count": null,
   "id": "a412a490",
   "metadata": {},
   "outputs": [],
   "source": []
  },
  {
   "cell_type": "code",
   "execution_count": 75,
   "id": "d3d41494",
   "metadata": {},
   "outputs": [
    {
     "data": {
      "text/plain": [
       "'Z:\\\\projects\\\\sequence_squad\\\\organised_data\\\\animals\\\\\\\\EJT136_implant1\\\\recording3_11-11-2021'"
      ]
     },
     "execution_count": 75,
     "metadata": {},
     "output_type": "execute_result"
    }
   ],
   "source": [
    "dat_path"
   ]
  },
  {
   "cell_type": "code",
   "execution_count": 74,
   "id": "575263da",
   "metadata": {},
   "outputs": [
    {
     "data": {
      "text/plain": [
       "'Z:\\\\projects\\\\sequence_squad\\\\organised_data\\\\animals\\\\\\\\EJT136_implant1\\\\recording3_11-11-2021\\\\video\\\\tracking\\\\\\\\2_task\\\\'"
      ]
     },
     "execution_count": 74,
     "metadata": {},
     "output_type": "execute_result"
    }
   ],
   "source": [
    "tracking_path.split"
   ]
  },
  {
   "cell_type": "code",
   "execution_count": null,
   "id": "bf1e5271",
   "metadata": {},
   "outputs": [],
   "source": []
  },
  {
   "cell_type": "code",
   "execution_count": 28,
   "id": "1179e5f0",
   "metadata": {},
   "outputs": [
    {
     "data": {
      "text/plain": [
       "'Z:\\\\projects\\\\sequence_squad\\\\organised_data\\\\ppseq_data\\\\finalised_output\\\\striatum\\\\paper_submission\\\\post_sleep\\\\\\\\136_1_3_run_1007023_2048\\\\\\\\analysis_output\\\\\\\\log_l_curve.png'"
      ]
     },
     "execution_count": 28,
     "metadata": {},
     "output_type": "execute_result"
    }
   ],
   "source": [
    "os.path.join(replay_analysis_path,chunk_file)"
   ]
  },
  {
   "cell_type": "code",
   "execution_count": null,
   "id": "a520764c",
   "metadata": {},
   "outputs": [],
   "source": [
    "### plot each chunk \n",
    "## load in sleep state score data and overlay this \n",
    "# analyse these"
   ]
  }
 ],
 "metadata": {
  "kernelspec": {
   "display_name": "Python 3 (ipykernel)",
   "language": "python",
   "name": "python3"
  },
  "language_info": {
   "codemirror_mode": {
    "name": "ipython",
    "version": 3
   },
   "file_extension": ".py",
   "mimetype": "text/x-python",
   "name": "python",
   "nbconvert_exporter": "python",
   "pygments_lexer": "ipython3",
   "version": "3.8.16"
  }
 },
 "nbformat": 4,
 "nbformat_minor": 5
}
